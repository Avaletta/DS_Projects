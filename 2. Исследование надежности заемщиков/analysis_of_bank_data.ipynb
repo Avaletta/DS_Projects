{
  "metadata": {
    "ExecuteTimeLog": [
      {
        "duration": 1533,
        "start_time": "2023-02-01T19:09:31.746Z"
      },
      {
        "duration": 9,
        "start_time": "2023-02-01T19:09:57.350Z"
      },
      {
        "duration": 80,
        "start_time": "2023-02-01T19:10:11.596Z"
      },
      {
        "duration": 19,
        "start_time": "2023-02-01T19:10:11.679Z"
      },
      {
        "duration": 17,
        "start_time": "2023-02-01T19:10:11.700Z"
      },
      {
        "duration": 31,
        "start_time": "2023-02-01T19:10:11.719Z"
      },
      {
        "duration": 38,
        "start_time": "2023-02-01T19:10:11.754Z"
      },
      {
        "duration": 4,
        "start_time": "2023-02-01T19:10:11.794Z"
      },
      {
        "duration": 30,
        "start_time": "2023-02-01T19:10:11.799Z"
      },
      {
        "duration": 5,
        "start_time": "2023-02-01T19:10:11.831Z"
      },
      {
        "duration": 21,
        "start_time": "2023-02-01T19:10:11.837Z"
      },
      {
        "duration": 8,
        "start_time": "2023-02-01T19:10:11.860Z"
      },
      {
        "duration": 38,
        "start_time": "2023-02-01T19:10:11.869Z"
      },
      {
        "duration": 11,
        "start_time": "2023-02-01T19:10:11.909Z"
      },
      {
        "duration": 3,
        "start_time": "2023-02-01T19:10:11.922Z"
      },
      {
        "duration": 19,
        "start_time": "2023-02-01T19:10:11.941Z"
      },
      {
        "duration": 21,
        "start_time": "2023-02-01T19:10:11.962Z"
      },
      {
        "duration": 17,
        "start_time": "2023-02-01T19:10:11.985Z"
      },
      {
        "duration": 5,
        "start_time": "2023-02-01T19:10:12.003Z"
      },
      {
        "duration": 43,
        "start_time": "2023-02-01T19:10:12.010Z"
      },
      {
        "duration": 21,
        "start_time": "2023-02-01T19:10:12.056Z"
      },
      {
        "duration": 6,
        "start_time": "2023-02-01T19:10:12.078Z"
      },
      {
        "duration": 12,
        "start_time": "2023-02-01T19:10:12.086Z"
      },
      {
        "duration": 388,
        "start_time": "2023-02-01T19:10:12.099Z"
      },
      {
        "duration": 384,
        "start_time": "2023-02-01T19:11:29.723Z"
      },
      {
        "duration": 399,
        "start_time": "2023-02-01T19:16:43.860Z"
      },
      {
        "duration": 377,
        "start_time": "2023-02-01T19:16:52.371Z"
      },
      {
        "duration": 459,
        "start_time": "2023-02-01T19:28:30.821Z"
      },
      {
        "duration": 461,
        "start_time": "2023-02-01T19:29:14.806Z"
      },
      {
        "duration": 429,
        "start_time": "2023-02-01T19:31:53.867Z"
      },
      {
        "duration": 440,
        "start_time": "2023-02-01T19:33:05.229Z"
      },
      {
        "duration": 432,
        "start_time": "2023-02-01T19:34:04.930Z"
      },
      {
        "duration": 1111,
        "start_time": "2023-02-01T19:34:51.324Z"
      },
      {
        "duration": 421,
        "start_time": "2023-02-01T19:35:24.912Z"
      },
      {
        "duration": 458,
        "start_time": "2023-02-01T19:36:44.305Z"
      },
      {
        "duration": 117,
        "start_time": "2023-02-01T19:48:54.115Z"
      },
      {
        "duration": 592,
        "start_time": "2023-02-01T19:49:06.891Z"
      },
      {
        "duration": 13,
        "start_time": "2023-02-01T19:50:07.091Z"
      },
      {
        "duration": 16,
        "start_time": "2023-02-01T19:50:21.400Z"
      },
      {
        "duration": 23,
        "start_time": "2023-02-01T19:51:49.005Z"
      },
      {
        "duration": 13,
        "start_time": "2023-02-01T19:51:56.793Z"
      },
      {
        "duration": 19,
        "start_time": "2023-02-01T19:52:09.233Z"
      },
      {
        "duration": 30,
        "start_time": "2023-02-01T19:52:27.318Z"
      },
      {
        "duration": 1328,
        "start_time": "2023-02-01T19:53:56.691Z"
      },
      {
        "duration": 1388,
        "start_time": "2023-02-01T19:54:02.613Z"
      },
      {
        "duration": 7,
        "start_time": "2023-02-01T19:55:20.626Z"
      },
      {
        "duration": 9,
        "start_time": "2023-02-01T19:57:18.593Z"
      },
      {
        "duration": 9,
        "start_time": "2023-02-01T19:58:23.203Z"
      },
      {
        "duration": 15,
        "start_time": "2023-02-01T19:58:40.985Z"
      },
      {
        "duration": 14,
        "start_time": "2023-02-01T19:59:06.235Z"
      },
      {
        "duration": 10,
        "start_time": "2023-02-01T19:59:34.248Z"
      },
      {
        "duration": 7,
        "start_time": "2023-02-01T20:00:26.908Z"
      },
      {
        "duration": 16,
        "start_time": "2023-02-01T20:01:39.665Z"
      },
      {
        "duration": 32,
        "start_time": "2023-02-01T20:02:04.440Z"
      },
      {
        "duration": 120,
        "start_time": "2023-02-01T20:03:12.066Z"
      },
      {
        "duration": 23,
        "start_time": "2023-02-01T20:03:52.623Z"
      },
      {
        "duration": 19,
        "start_time": "2023-02-01T20:04:54.196Z"
      },
      {
        "duration": 472,
        "start_time": "2023-02-01T20:05:09.031Z"
      },
      {
        "duration": 729,
        "start_time": "2023-02-01T20:06:14.759Z"
      },
      {
        "duration": 187,
        "start_time": "2023-02-01T20:06:25.172Z"
      },
      {
        "duration": 181,
        "start_time": "2023-02-01T20:06:52.467Z"
      },
      {
        "duration": 192,
        "start_time": "2023-02-01T20:08:43.792Z"
      },
      {
        "duration": 171,
        "start_time": "2023-02-01T20:08:52.774Z"
      },
      {
        "duration": 230,
        "start_time": "2023-02-01T20:10:28.119Z"
      },
      {
        "duration": 171,
        "start_time": "2023-02-01T20:10:42.572Z"
      },
      {
        "duration": 6,
        "start_time": "2023-02-01T20:14:33.770Z"
      },
      {
        "duration": 6,
        "start_time": "2023-02-01T20:18:22.433Z"
      },
      {
        "duration": 5,
        "start_time": "2023-02-01T20:18:26.310Z"
      },
      {
        "duration": 101,
        "start_time": "2023-02-01T20:18:41.130Z"
      },
      {
        "duration": 24,
        "start_time": "2023-02-01T20:18:41.233Z"
      },
      {
        "duration": 20,
        "start_time": "2023-02-01T20:18:41.259Z"
      },
      {
        "duration": 11,
        "start_time": "2023-02-01T20:18:41.281Z"
      },
      {
        "duration": 61,
        "start_time": "2023-02-01T20:18:41.294Z"
      },
      {
        "duration": 4,
        "start_time": "2023-02-01T20:18:41.358Z"
      },
      {
        "duration": 11,
        "start_time": "2023-02-01T20:18:41.364Z"
      },
      {
        "duration": 5,
        "start_time": "2023-02-01T20:18:41.377Z"
      },
      {
        "duration": 127,
        "start_time": "2023-02-01T20:18:41.384Z"
      },
      {
        "duration": 5,
        "start_time": "2023-02-01T20:18:41.514Z"
      },
      {
        "duration": 62,
        "start_time": "2023-02-01T20:18:41.520Z"
      },
      {
        "duration": 12,
        "start_time": "2023-02-01T20:18:41.584Z"
      },
      {
        "duration": 23,
        "start_time": "2023-02-01T20:18:41.598Z"
      },
      {
        "duration": 52,
        "start_time": "2023-02-01T20:18:41.623Z"
      },
      {
        "duration": 22,
        "start_time": "2023-02-01T20:18:41.677Z"
      },
      {
        "duration": 19,
        "start_time": "2023-02-01T20:18:41.700Z"
      },
      {
        "duration": 3,
        "start_time": "2023-02-01T20:18:41.721Z"
      },
      {
        "duration": 19,
        "start_time": "2023-02-01T20:18:41.726Z"
      },
      {
        "duration": 17,
        "start_time": "2023-02-01T20:18:41.751Z"
      },
      {
        "duration": 7,
        "start_time": "2023-02-01T20:18:41.770Z"
      },
      {
        "duration": 14,
        "start_time": "2023-02-01T20:18:41.779Z"
      },
      {
        "duration": 10,
        "start_time": "2023-02-01T20:18:41.795Z"
      },
      {
        "duration": 4,
        "start_time": "2023-02-01T20:21:40.425Z"
      },
      {
        "duration": 7,
        "start_time": "2023-02-01T20:21:48.440Z"
      },
      {
        "duration": 4,
        "start_time": "2023-02-01T20:21:58.087Z"
      },
      {
        "duration": 12,
        "start_time": "2023-02-01T20:22:07.306Z"
      },
      {
        "duration": 9,
        "start_time": "2023-02-01T20:22:26.666Z"
      },
      {
        "duration": 85,
        "start_time": "2023-02-01T20:22:38.019Z"
      },
      {
        "duration": 15,
        "start_time": "2023-02-01T20:22:38.106Z"
      },
      {
        "duration": 23,
        "start_time": "2023-02-01T20:22:38.122Z"
      },
      {
        "duration": 21,
        "start_time": "2023-02-01T20:22:38.150Z"
      },
      {
        "duration": 55,
        "start_time": "2023-02-01T20:22:38.174Z"
      },
      {
        "duration": 5,
        "start_time": "2023-02-01T20:22:38.231Z"
      },
      {
        "duration": 46,
        "start_time": "2023-02-01T20:22:38.255Z"
      },
      {
        "duration": 10,
        "start_time": "2023-02-01T20:22:38.303Z"
      },
      {
        "duration": 10,
        "start_time": "2023-02-01T20:22:38.314Z"
      },
      {
        "duration": 5,
        "start_time": "2023-02-01T20:22:38.325Z"
      },
      {
        "duration": 51,
        "start_time": "2023-02-01T20:22:38.332Z"
      },
      {
        "duration": 10,
        "start_time": "2023-02-01T20:22:38.385Z"
      },
      {
        "duration": 8,
        "start_time": "2023-02-01T20:22:38.396Z"
      },
      {
        "duration": 16,
        "start_time": "2023-02-01T20:22:38.406Z"
      },
      {
        "duration": 47,
        "start_time": "2023-02-01T20:22:38.424Z"
      },
      {
        "duration": 22,
        "start_time": "2023-02-01T20:22:38.473Z"
      },
      {
        "duration": 4,
        "start_time": "2023-02-01T20:22:38.496Z"
      },
      {
        "duration": 14,
        "start_time": "2023-02-01T20:22:38.502Z"
      },
      {
        "duration": 9,
        "start_time": "2023-02-01T20:22:38.518Z"
      },
      {
        "duration": 15,
        "start_time": "2023-02-01T20:22:38.542Z"
      },
      {
        "duration": 28,
        "start_time": "2023-02-01T20:22:38.559Z"
      },
      {
        "duration": 4,
        "start_time": "2023-02-01T20:22:38.590Z"
      },
      {
        "duration": 4,
        "start_time": "2023-02-01T20:26:23.870Z"
      },
      {
        "duration": 5,
        "start_time": "2023-02-01T20:26:28.686Z"
      },
      {
        "duration": 5,
        "start_time": "2023-02-01T20:26:50.468Z"
      },
      {
        "duration": 15,
        "start_time": "2023-02-01T20:29:37.390Z"
      },
      {
        "duration": 6,
        "start_time": "2023-02-01T20:30:04.097Z"
      },
      {
        "duration": 5,
        "start_time": "2023-02-01T20:30:33.796Z"
      },
      {
        "duration": 17,
        "start_time": "2023-02-01T20:30:45.293Z"
      },
      {
        "duration": 5,
        "start_time": "2023-02-01T20:31:08.517Z"
      },
      {
        "duration": 11,
        "start_time": "2023-02-01T20:31:56.696Z"
      },
      {
        "duration": 14,
        "start_time": "2023-02-01T20:32:01.873Z"
      },
      {
        "duration": 41,
        "start_time": "2023-02-01T20:32:15.028Z"
      },
      {
        "duration": 13,
        "start_time": "2023-02-01T20:32:48.300Z"
      },
      {
        "duration": 19,
        "start_time": "2023-02-01T20:33:08.785Z"
      },
      {
        "duration": 5,
        "start_time": "2023-02-01T20:48:44.829Z"
      },
      {
        "duration": 6,
        "start_time": "2023-02-01T20:48:50.060Z"
      },
      {
        "duration": 14,
        "start_time": "2023-02-01T20:49:50.338Z"
      },
      {
        "duration": 6,
        "start_time": "2023-02-01T20:50:31.608Z"
      },
      {
        "duration": 82,
        "start_time": "2023-02-01T20:51:38.587Z"
      },
      {
        "duration": 6,
        "start_time": "2023-02-01T20:52:29.967Z"
      },
      {
        "duration": 10,
        "start_time": "2023-02-01T20:53:44.463Z"
      },
      {
        "duration": 7,
        "start_time": "2023-02-01T20:56:24.391Z"
      },
      {
        "duration": 13,
        "start_time": "2023-02-01T20:56:45.004Z"
      },
      {
        "duration": 197,
        "start_time": "2023-02-01T21:06:34.380Z"
      },
      {
        "duration": 0,
        "start_time": "2023-02-01T21:09:10.438Z"
      },
      {
        "duration": 1553,
        "start_time": "2023-02-01T21:09:15.180Z"
      },
      {
        "duration": 12,
        "start_time": "2023-02-01T21:10:45.509Z"
      },
      {
        "duration": 8,
        "start_time": "2023-02-01T21:11:03.161Z"
      },
      {
        "duration": 17,
        "start_time": "2023-02-01T21:11:10.954Z"
      },
      {
        "duration": 17,
        "start_time": "2023-02-01T21:16:59.067Z"
      },
      {
        "duration": 10,
        "start_time": "2023-02-01T21:18:31.963Z"
      },
      {
        "duration": 10,
        "start_time": "2023-02-01T21:21:09.457Z"
      },
      {
        "duration": 13,
        "start_time": "2023-02-01T21:24:19.877Z"
      },
      {
        "duration": 13,
        "start_time": "2023-02-01T21:24:26.913Z"
      },
      {
        "duration": 12,
        "start_time": "2023-02-01T21:25:08.485Z"
      },
      {
        "duration": 152,
        "start_time": "2023-02-01T21:32:51.315Z"
      },
      {
        "duration": 126,
        "start_time": "2023-02-01T21:33:10.895Z"
      },
      {
        "duration": 17,
        "start_time": "2023-02-01T21:39:33.128Z"
      },
      {
        "duration": 76,
        "start_time": "2023-02-01T21:43:39.102Z"
      },
      {
        "duration": 15,
        "start_time": "2023-02-01T21:43:46.921Z"
      },
      {
        "duration": 16,
        "start_time": "2023-02-01T21:44:47.121Z"
      },
      {
        "duration": 14,
        "start_time": "2023-02-01T21:49:00.907Z"
      },
      {
        "duration": 73,
        "start_time": "2023-02-01T21:54:07.282Z"
      },
      {
        "duration": 15,
        "start_time": "2023-02-01T21:54:29.521Z"
      },
      {
        "duration": 16,
        "start_time": "2023-02-01T21:55:08.182Z"
      },
      {
        "duration": 1175,
        "start_time": "2023-02-01T21:58:08.718Z"
      },
      {
        "duration": 14,
        "start_time": "2023-02-01T21:58:37.800Z"
      },
      {
        "duration": 1106,
        "start_time": "2023-02-01T21:59:15.114Z"
      },
      {
        "duration": 11,
        "start_time": "2023-02-01T21:59:36.683Z"
      },
      {
        "duration": 11,
        "start_time": "2023-02-01T21:59:41.082Z"
      },
      {
        "duration": 16,
        "start_time": "2023-02-01T21:59:53.662Z"
      },
      {
        "duration": 1225,
        "start_time": "2023-02-01T22:00:37.914Z"
      },
      {
        "duration": 1155,
        "start_time": "2023-02-01T22:01:58.597Z"
      },
      {
        "duration": 84,
        "start_time": "2023-02-01T22:02:18.446Z"
      },
      {
        "duration": 17,
        "start_time": "2023-02-01T22:02:18.533Z"
      },
      {
        "duration": 21,
        "start_time": "2023-02-01T22:02:18.552Z"
      },
      {
        "duration": 16,
        "start_time": "2023-02-01T22:02:18.576Z"
      },
      {
        "duration": 67,
        "start_time": "2023-02-01T22:02:18.594Z"
      },
      {
        "duration": 4,
        "start_time": "2023-02-01T22:02:18.664Z"
      },
      {
        "duration": 12,
        "start_time": "2023-02-01T22:02:18.670Z"
      },
      {
        "duration": 7,
        "start_time": "2023-02-01T22:02:18.684Z"
      },
      {
        "duration": 9,
        "start_time": "2023-02-01T22:02:18.692Z"
      },
      {
        "duration": 5,
        "start_time": "2023-02-01T22:02:18.704Z"
      },
      {
        "duration": 62,
        "start_time": "2023-02-01T22:02:18.711Z"
      },
      {
        "duration": 12,
        "start_time": "2023-02-01T22:02:18.775Z"
      },
      {
        "duration": 5,
        "start_time": "2023-02-01T22:02:18.789Z"
      },
      {
        "duration": 22,
        "start_time": "2023-02-01T22:02:18.795Z"
      },
      {
        "duration": 49,
        "start_time": "2023-02-01T22:02:18.819Z"
      },
      {
        "duration": 24,
        "start_time": "2023-02-01T22:02:18.871Z"
      },
      {
        "duration": 5,
        "start_time": "2023-02-01T22:02:18.897Z"
      },
      {
        "duration": 39,
        "start_time": "2023-02-01T22:02:18.903Z"
      },
      {
        "duration": 7,
        "start_time": "2023-02-01T22:02:18.944Z"
      },
      {
        "duration": 10,
        "start_time": "2023-02-01T22:02:18.954Z"
      },
      {
        "duration": 22,
        "start_time": "2023-02-01T22:02:18.967Z"
      },
      {
        "duration": 43,
        "start_time": "2023-02-01T22:02:18.991Z"
      },
      {
        "duration": 39,
        "start_time": "2023-02-01T22:02:19.036Z"
      },
      {
        "duration": 1097,
        "start_time": "2023-02-01T22:07:43.156Z"
      },
      {
        "duration": 65,
        "start_time": "2023-02-01T22:08:34.041Z"
      },
      {
        "duration": 17,
        "start_time": "2023-02-01T22:08:34.108Z"
      },
      {
        "duration": 27,
        "start_time": "2023-02-01T22:08:34.126Z"
      },
      {
        "duration": 31,
        "start_time": "2023-02-01T22:08:34.154Z"
      },
      {
        "duration": 37,
        "start_time": "2023-02-01T22:08:34.187Z"
      },
      {
        "duration": 4,
        "start_time": "2023-02-01T22:08:34.226Z"
      },
      {
        "duration": 27,
        "start_time": "2023-02-01T22:08:34.232Z"
      },
      {
        "duration": 5,
        "start_time": "2023-02-01T22:08:34.260Z"
      },
      {
        "duration": 6,
        "start_time": "2023-02-01T22:08:34.267Z"
      },
      {
        "duration": 4,
        "start_time": "2023-02-01T22:08:34.275Z"
      },
      {
        "duration": 51,
        "start_time": "2023-02-01T22:08:34.280Z"
      },
      {
        "duration": 15,
        "start_time": "2023-02-01T22:08:34.333Z"
      },
      {
        "duration": 6,
        "start_time": "2023-02-01T22:08:34.349Z"
      },
      {
        "duration": 16,
        "start_time": "2023-02-01T22:08:34.357Z"
      },
      {
        "duration": 25,
        "start_time": "2023-02-01T22:08:34.375Z"
      },
      {
        "duration": 17,
        "start_time": "2023-02-01T22:08:34.402Z"
      },
      {
        "duration": 20,
        "start_time": "2023-02-01T22:08:34.420Z"
      },
      {
        "duration": 18,
        "start_time": "2023-02-01T22:08:34.442Z"
      },
      {
        "duration": 15,
        "start_time": "2023-02-01T22:08:34.462Z"
      },
      {
        "duration": 10,
        "start_time": "2023-02-01T22:08:34.479Z"
      },
      {
        "duration": 12,
        "start_time": "2023-02-01T22:08:34.490Z"
      },
      {
        "duration": 19,
        "start_time": "2023-02-01T22:08:34.504Z"
      },
      {
        "duration": 85,
        "start_time": "2023-02-01T22:10:49.023Z"
      },
      {
        "duration": 16,
        "start_time": "2023-02-01T22:10:49.110Z"
      },
      {
        "duration": 49,
        "start_time": "2023-02-01T22:10:49.127Z"
      },
      {
        "duration": 17,
        "start_time": "2023-02-01T22:10:49.178Z"
      },
      {
        "duration": 70,
        "start_time": "2023-02-01T22:10:49.198Z"
      },
      {
        "duration": 41,
        "start_time": "2023-02-01T22:10:49.270Z"
      },
      {
        "duration": 45,
        "start_time": "2023-02-01T22:10:49.313Z"
      },
      {
        "duration": 53,
        "start_time": "2023-02-01T22:10:49.360Z"
      },
      {
        "duration": 52,
        "start_time": "2023-02-01T22:10:49.415Z"
      },
      {
        "duration": 81,
        "start_time": "2023-02-01T22:10:49.469Z"
      },
      {
        "duration": 85,
        "start_time": "2023-02-01T22:10:49.552Z"
      },
      {
        "duration": 23,
        "start_time": "2023-02-01T22:10:49.639Z"
      },
      {
        "duration": 26,
        "start_time": "2023-02-01T22:10:49.664Z"
      },
      {
        "duration": 36,
        "start_time": "2023-02-01T22:10:49.693Z"
      },
      {
        "duration": 90,
        "start_time": "2023-02-01T22:10:49.731Z"
      },
      {
        "duration": 35,
        "start_time": "2023-02-01T22:10:49.823Z"
      },
      {
        "duration": 34,
        "start_time": "2023-02-01T22:10:49.859Z"
      },
      {
        "duration": 70,
        "start_time": "2023-02-01T22:10:49.895Z"
      },
      {
        "duration": 48,
        "start_time": "2023-02-01T22:10:49.966Z"
      },
      {
        "duration": 46,
        "start_time": "2023-02-01T22:10:50.016Z"
      },
      {
        "duration": 48,
        "start_time": "2023-02-01T22:10:50.063Z"
      },
      {
        "duration": 61,
        "start_time": "2023-02-01T22:10:50.113Z"
      },
      {
        "duration": 74,
        "start_time": "2023-02-01T22:11:08.619Z"
      },
      {
        "duration": 17,
        "start_time": "2023-02-01T22:11:08.695Z"
      },
      {
        "duration": 40,
        "start_time": "2023-02-01T22:11:08.713Z"
      },
      {
        "duration": 31,
        "start_time": "2023-02-01T22:11:08.754Z"
      },
      {
        "duration": 51,
        "start_time": "2023-02-01T22:11:08.788Z"
      },
      {
        "duration": 36,
        "start_time": "2023-02-01T22:11:08.841Z"
      },
      {
        "duration": 54,
        "start_time": "2023-02-01T22:11:08.880Z"
      },
      {
        "duration": 34,
        "start_time": "2023-02-01T22:11:08.936Z"
      },
      {
        "duration": 28,
        "start_time": "2023-02-01T22:11:08.972Z"
      },
      {
        "duration": 29,
        "start_time": "2023-02-01T22:11:09.003Z"
      },
      {
        "duration": 68,
        "start_time": "2023-02-01T22:11:09.035Z"
      },
      {
        "duration": 50,
        "start_time": "2023-02-01T22:11:09.105Z"
      },
      {
        "duration": 26,
        "start_time": "2023-02-01T22:11:09.158Z"
      },
      {
        "duration": 34,
        "start_time": "2023-02-01T22:11:09.186Z"
      },
      {
        "duration": 57,
        "start_time": "2023-02-01T22:11:09.221Z"
      },
      {
        "duration": 34,
        "start_time": "2023-02-01T22:11:09.280Z"
      },
      {
        "duration": 26,
        "start_time": "2023-02-01T22:11:09.316Z"
      },
      {
        "duration": 40,
        "start_time": "2023-02-01T22:11:09.344Z"
      },
      {
        "duration": 21,
        "start_time": "2023-02-01T22:11:09.387Z"
      },
      {
        "duration": 27,
        "start_time": "2023-02-01T22:11:09.410Z"
      },
      {
        "duration": 45,
        "start_time": "2023-02-01T22:11:09.439Z"
      },
      {
        "duration": 65,
        "start_time": "2023-02-01T22:11:09.487Z"
      },
      {
        "duration": 81,
        "start_time": "2023-02-01T22:13:08.821Z"
      },
      {
        "duration": 24,
        "start_time": "2023-02-01T22:13:08.905Z"
      },
      {
        "duration": 61,
        "start_time": "2023-02-01T22:13:08.931Z"
      },
      {
        "duration": 36,
        "start_time": "2023-02-01T22:13:08.995Z"
      },
      {
        "duration": 101,
        "start_time": "2023-02-01T22:13:09.034Z"
      },
      {
        "duration": 44,
        "start_time": "2023-02-01T22:13:09.138Z"
      },
      {
        "duration": 26,
        "start_time": "2023-02-01T22:13:09.184Z"
      },
      {
        "duration": 32,
        "start_time": "2023-02-01T22:13:09.212Z"
      },
      {
        "duration": 42,
        "start_time": "2023-02-01T22:13:09.246Z"
      },
      {
        "duration": 55,
        "start_time": "2023-02-01T22:13:09.291Z"
      },
      {
        "duration": 106,
        "start_time": "2023-02-01T22:13:09.349Z"
      },
      {
        "duration": 16,
        "start_time": "2023-02-01T22:13:09.457Z"
      },
      {
        "duration": 15,
        "start_time": "2023-02-01T22:13:09.474Z"
      },
      {
        "duration": 23,
        "start_time": "2023-02-01T22:13:09.492Z"
      },
      {
        "duration": 23,
        "start_time": "2023-02-01T22:13:09.517Z"
      },
      {
        "duration": 26,
        "start_time": "2023-02-01T22:13:09.542Z"
      },
      {
        "duration": 5,
        "start_time": "2023-02-01T22:13:09.571Z"
      },
      {
        "duration": 18,
        "start_time": "2023-02-01T22:13:09.579Z"
      },
      {
        "duration": 7,
        "start_time": "2023-02-01T22:13:09.598Z"
      },
      {
        "duration": 7,
        "start_time": "2023-02-01T22:13:09.607Z"
      },
      {
        "duration": 29,
        "start_time": "2023-02-01T22:13:09.618Z"
      },
      {
        "duration": 21,
        "start_time": "2023-02-01T22:13:09.648Z"
      },
      {
        "duration": 71,
        "start_time": "2023-02-01T22:13:52.606Z"
      },
      {
        "duration": 23,
        "start_time": "2023-02-01T22:13:52.680Z"
      },
      {
        "duration": 38,
        "start_time": "2023-02-01T22:13:52.705Z"
      },
      {
        "duration": 16,
        "start_time": "2023-02-01T22:13:52.745Z"
      },
      {
        "duration": 45,
        "start_time": "2023-02-01T22:13:52.764Z"
      },
      {
        "duration": 4,
        "start_time": "2023-02-01T22:13:52.811Z"
      },
      {
        "duration": 31,
        "start_time": "2023-02-01T22:13:52.816Z"
      },
      {
        "duration": 16,
        "start_time": "2023-02-01T22:13:52.849Z"
      },
      {
        "duration": 8,
        "start_time": "2023-02-01T22:13:52.867Z"
      },
      {
        "duration": 9,
        "start_time": "2023-02-01T22:13:52.877Z"
      },
      {
        "duration": 53,
        "start_time": "2023-02-01T22:13:52.887Z"
      },
      {
        "duration": 11,
        "start_time": "2023-02-01T22:13:52.941Z"
      },
      {
        "duration": 7,
        "start_time": "2023-02-01T22:13:52.953Z"
      },
      {
        "duration": 11,
        "start_time": "2023-02-01T22:13:52.963Z"
      },
      {
        "duration": 20,
        "start_time": "2023-02-01T22:13:52.976Z"
      },
      {
        "duration": 42,
        "start_time": "2023-02-01T22:13:52.998Z"
      },
      {
        "duration": 4,
        "start_time": "2023-02-01T22:13:53.042Z"
      },
      {
        "duration": 14,
        "start_time": "2023-02-01T22:13:53.048Z"
      },
      {
        "duration": 6,
        "start_time": "2023-02-01T22:13:53.064Z"
      },
      {
        "duration": 3,
        "start_time": "2023-02-01T22:13:53.071Z"
      },
      {
        "duration": 11,
        "start_time": "2023-02-01T22:13:53.076Z"
      },
      {
        "duration": 15,
        "start_time": "2023-02-01T22:13:53.088Z"
      },
      {
        "duration": 71,
        "start_time": "2023-02-01T22:15:07.194Z"
      },
      {
        "duration": 47,
        "start_time": "2023-02-01T22:15:07.268Z"
      },
      {
        "duration": 38,
        "start_time": "2023-02-01T22:15:07.316Z"
      },
      {
        "duration": 52,
        "start_time": "2023-02-01T22:15:07.356Z"
      },
      {
        "duration": 66,
        "start_time": "2023-02-01T22:15:07.413Z"
      },
      {
        "duration": 4,
        "start_time": "2023-02-01T22:15:07.481Z"
      },
      {
        "duration": 78,
        "start_time": "2023-02-01T22:15:07.487Z"
      },
      {
        "duration": 28,
        "start_time": "2023-02-01T22:15:07.569Z"
      },
      {
        "duration": 27,
        "start_time": "2023-02-01T22:15:07.599Z"
      },
      {
        "duration": 21,
        "start_time": "2023-02-01T22:15:07.628Z"
      },
      {
        "duration": 72,
        "start_time": "2023-02-01T22:15:07.651Z"
      },
      {
        "duration": 16,
        "start_time": "2023-02-01T22:15:07.725Z"
      },
      {
        "duration": 13,
        "start_time": "2023-02-01T22:15:07.743Z"
      },
      {
        "duration": 34,
        "start_time": "2023-02-01T22:15:07.759Z"
      },
      {
        "duration": 45,
        "start_time": "2023-02-01T22:15:07.795Z"
      },
      {
        "duration": 39,
        "start_time": "2023-02-01T22:15:07.843Z"
      },
      {
        "duration": 13,
        "start_time": "2023-02-01T22:15:07.884Z"
      },
      {
        "duration": 40,
        "start_time": "2023-02-01T22:15:07.900Z"
      },
      {
        "duration": 19,
        "start_time": "2023-02-01T22:15:07.942Z"
      },
      {
        "duration": 35,
        "start_time": "2023-02-01T22:15:07.963Z"
      },
      {
        "duration": 69,
        "start_time": "2023-02-01T22:15:08.000Z"
      },
      {
        "duration": 34,
        "start_time": "2023-02-01T22:15:08.071Z"
      },
      {
        "duration": 82,
        "start_time": "2023-02-01T22:15:31.351Z"
      },
      {
        "duration": 17,
        "start_time": "2023-02-01T22:15:31.435Z"
      },
      {
        "duration": 25,
        "start_time": "2023-02-01T22:15:31.454Z"
      },
      {
        "duration": 21,
        "start_time": "2023-02-01T22:15:31.481Z"
      },
      {
        "duration": 53,
        "start_time": "2023-02-01T22:15:31.505Z"
      },
      {
        "duration": 4,
        "start_time": "2023-02-01T22:15:31.560Z"
      },
      {
        "duration": 18,
        "start_time": "2023-02-01T22:15:31.566Z"
      },
      {
        "duration": 15,
        "start_time": "2023-02-01T22:15:31.586Z"
      },
      {
        "duration": 11,
        "start_time": "2023-02-01T22:15:31.603Z"
      },
      {
        "duration": 17,
        "start_time": "2023-02-01T22:15:31.616Z"
      },
      {
        "duration": 53,
        "start_time": "2023-02-01T22:15:31.635Z"
      },
      {
        "duration": 17,
        "start_time": "2023-02-01T22:15:31.690Z"
      },
      {
        "duration": 6,
        "start_time": "2023-02-01T22:15:31.709Z"
      },
      {
        "duration": 17,
        "start_time": "2023-02-01T22:15:31.718Z"
      },
      {
        "duration": 31,
        "start_time": "2023-02-01T22:15:31.739Z"
      },
      {
        "duration": 21,
        "start_time": "2023-02-01T22:15:31.772Z"
      },
      {
        "duration": 8,
        "start_time": "2023-02-01T22:15:31.795Z"
      },
      {
        "duration": 22,
        "start_time": "2023-02-01T22:15:31.805Z"
      },
      {
        "duration": 16,
        "start_time": "2023-02-01T22:15:31.830Z"
      },
      {
        "duration": 6,
        "start_time": "2023-02-01T22:15:31.849Z"
      },
      {
        "duration": 24,
        "start_time": "2023-02-01T22:15:31.856Z"
      },
      {
        "duration": 66,
        "start_time": "2023-02-01T22:15:31.882Z"
      },
      {
        "duration": 76,
        "start_time": "2023-02-01T22:16:31.377Z"
      },
      {
        "duration": 16,
        "start_time": "2023-02-01T22:16:31.455Z"
      },
      {
        "duration": 59,
        "start_time": "2023-02-01T22:16:31.472Z"
      },
      {
        "duration": 37,
        "start_time": "2023-02-01T22:16:31.533Z"
      },
      {
        "duration": 80,
        "start_time": "2023-02-01T22:16:31.573Z"
      },
      {
        "duration": 5,
        "start_time": "2023-02-01T22:16:31.655Z"
      },
      {
        "duration": 52,
        "start_time": "2023-02-01T22:16:31.662Z"
      },
      {
        "duration": 192,
        "start_time": "2023-02-01T22:16:31.716Z"
      },
      {
        "duration": 42,
        "start_time": "2023-02-01T22:16:31.910Z"
      },
      {
        "duration": 35,
        "start_time": "2023-02-01T22:16:31.954Z"
      },
      {
        "duration": 57,
        "start_time": "2023-02-01T22:16:31.993Z"
      },
      {
        "duration": 16,
        "start_time": "2023-02-01T22:16:32.052Z"
      },
      {
        "duration": 31,
        "start_time": "2023-02-01T22:16:32.069Z"
      },
      {
        "duration": 55,
        "start_time": "2023-02-01T22:16:32.104Z"
      },
      {
        "duration": 57,
        "start_time": "2023-02-01T22:16:32.162Z"
      },
      {
        "duration": 37,
        "start_time": "2023-02-01T22:16:32.221Z"
      },
      {
        "duration": 8,
        "start_time": "2023-02-01T22:16:32.260Z"
      },
      {
        "duration": 73,
        "start_time": "2023-02-01T22:16:32.270Z"
      },
      {
        "duration": 31,
        "start_time": "2023-02-01T22:16:32.346Z"
      },
      {
        "duration": 27,
        "start_time": "2023-02-01T22:16:32.379Z"
      },
      {
        "duration": 41,
        "start_time": "2023-02-01T22:16:32.408Z"
      },
      {
        "duration": 92,
        "start_time": "2023-02-01T22:16:32.452Z"
      },
      {
        "duration": 678,
        "start_time": "2023-02-02T07:12:09.438Z"
      },
      {
        "duration": 21,
        "start_time": "2023-02-02T07:12:10.117Z"
      },
      {
        "duration": 14,
        "start_time": "2023-02-02T07:12:10.140Z"
      },
      {
        "duration": 11,
        "start_time": "2023-02-02T07:12:10.155Z"
      },
      {
        "duration": 50,
        "start_time": "2023-02-02T07:12:10.168Z"
      },
      {
        "duration": 3,
        "start_time": "2023-02-02T07:12:10.219Z"
      },
      {
        "duration": 11,
        "start_time": "2023-02-02T07:12:10.224Z"
      },
      {
        "duration": 12,
        "start_time": "2023-02-02T07:12:10.237Z"
      },
      {
        "duration": 9,
        "start_time": "2023-02-02T07:12:10.250Z"
      },
      {
        "duration": 5,
        "start_time": "2023-02-02T07:12:10.260Z"
      },
      {
        "duration": 35,
        "start_time": "2023-02-02T07:12:10.266Z"
      },
      {
        "duration": 9,
        "start_time": "2023-02-02T07:12:10.302Z"
      },
      {
        "duration": 5,
        "start_time": "2023-02-02T07:12:10.313Z"
      },
      {
        "duration": 34,
        "start_time": "2023-02-02T07:12:10.321Z"
      },
      {
        "duration": 18,
        "start_time": "2023-02-02T07:12:10.356Z"
      },
      {
        "duration": 14,
        "start_time": "2023-02-02T07:12:10.376Z"
      },
      {
        "duration": 4,
        "start_time": "2023-02-02T07:12:10.391Z"
      },
      {
        "duration": 11,
        "start_time": "2023-02-02T07:12:10.396Z"
      },
      {
        "duration": 9,
        "start_time": "2023-02-02T07:12:10.408Z"
      },
      {
        "duration": 4,
        "start_time": "2023-02-02T07:12:10.418Z"
      },
      {
        "duration": 7,
        "start_time": "2023-02-02T07:12:10.448Z"
      },
      {
        "duration": 468,
        "start_time": "2023-02-02T07:12:10.457Z"
      },
      {
        "duration": 30,
        "start_time": "2023-02-02T07:12:10.926Z"
      },
      {
        "duration": 67,
        "start_time": "2023-02-02T08:15:59.127Z"
      },
      {
        "duration": 14,
        "start_time": "2023-02-02T08:15:59.196Z"
      },
      {
        "duration": 14,
        "start_time": "2023-02-02T08:15:59.212Z"
      },
      {
        "duration": 24,
        "start_time": "2023-02-02T08:15:59.228Z"
      },
      {
        "duration": 30,
        "start_time": "2023-02-02T08:15:59.255Z"
      },
      {
        "duration": 3,
        "start_time": "2023-02-02T08:15:59.287Z"
      },
      {
        "duration": 10,
        "start_time": "2023-02-02T08:15:59.292Z"
      },
      {
        "duration": 4,
        "start_time": "2023-02-02T08:15:59.304Z"
      },
      {
        "duration": 5,
        "start_time": "2023-02-02T08:15:59.310Z"
      },
      {
        "duration": 32,
        "start_time": "2023-02-02T08:15:59.317Z"
      },
      {
        "duration": 32,
        "start_time": "2023-02-02T08:15:59.351Z"
      },
      {
        "duration": 10,
        "start_time": "2023-02-02T08:15:59.385Z"
      },
      {
        "duration": 6,
        "start_time": "2023-02-02T08:15:59.397Z"
      },
      {
        "duration": 12,
        "start_time": "2023-02-02T08:15:59.406Z"
      },
      {
        "duration": 18,
        "start_time": "2023-02-02T08:15:59.449Z"
      },
      {
        "duration": 16,
        "start_time": "2023-02-02T08:15:59.469Z"
      },
      {
        "duration": 3,
        "start_time": "2023-02-02T08:15:59.487Z"
      },
      {
        "duration": 14,
        "start_time": "2023-02-02T08:15:59.491Z"
      },
      {
        "duration": 5,
        "start_time": "2023-02-02T08:15:59.506Z"
      },
      {
        "duration": 3,
        "start_time": "2023-02-02T08:15:59.512Z"
      },
      {
        "duration": 34,
        "start_time": "2023-02-02T08:15:59.516Z"
      },
      {
        "duration": 15,
        "start_time": "2023-02-02T08:15:59.551Z"
      },
      {
        "duration": 25,
        "start_time": "2023-02-02T08:15:59.568Z"
      },
      {
        "duration": 13,
        "start_time": "2023-02-02T08:15:59.594Z"
      },
      {
        "duration": 66,
        "start_time": "2023-02-02T08:36:54.799Z"
      },
      {
        "duration": 13,
        "start_time": "2023-02-02T08:36:54.867Z"
      },
      {
        "duration": 15,
        "start_time": "2023-02-02T08:36:54.882Z"
      },
      {
        "duration": 8,
        "start_time": "2023-02-02T08:36:54.898Z"
      },
      {
        "duration": 30,
        "start_time": "2023-02-02T08:36:54.909Z"
      },
      {
        "duration": 9,
        "start_time": "2023-02-02T08:36:54.940Z"
      },
      {
        "duration": 12,
        "start_time": "2023-02-02T08:36:54.950Z"
      },
      {
        "duration": 3,
        "start_time": "2023-02-02T08:36:54.964Z"
      },
      {
        "duration": 15,
        "start_time": "2023-02-02T08:36:54.969Z"
      },
      {
        "duration": 4,
        "start_time": "2023-02-02T08:36:54.986Z"
      },
      {
        "duration": 38,
        "start_time": "2023-02-02T08:36:54.991Z"
      },
      {
        "duration": 18,
        "start_time": "2023-02-02T08:36:55.030Z"
      },
      {
        "duration": 3,
        "start_time": "2023-02-02T08:36:55.050Z"
      },
      {
        "duration": 25,
        "start_time": "2023-02-02T08:36:55.056Z"
      },
      {
        "duration": 26,
        "start_time": "2023-02-02T08:36:55.083Z"
      },
      {
        "duration": 15,
        "start_time": "2023-02-02T08:36:55.110Z"
      },
      {
        "duration": 3,
        "start_time": "2023-02-02T08:36:55.127Z"
      },
      {
        "duration": 9,
        "start_time": "2023-02-02T08:36:55.147Z"
      },
      {
        "duration": 8,
        "start_time": "2023-02-02T08:36:55.158Z"
      },
      {
        "duration": 3,
        "start_time": "2023-02-02T08:36:55.167Z"
      },
      {
        "duration": 11,
        "start_time": "2023-02-02T08:36:55.171Z"
      },
      {
        "duration": 14,
        "start_time": "2023-02-02T08:36:55.183Z"
      },
      {
        "duration": 59,
        "start_time": "2023-02-02T08:36:55.198Z"
      },
      {
        "duration": 50,
        "start_time": "2023-02-02T08:36:55.259Z"
      },
      {
        "duration": 65,
        "start_time": "2023-02-02T08:37:17.064Z"
      },
      {
        "duration": 13,
        "start_time": "2023-02-02T08:37:17.131Z"
      },
      {
        "duration": 15,
        "start_time": "2023-02-02T08:37:17.145Z"
      },
      {
        "duration": 8,
        "start_time": "2023-02-02T08:37:17.162Z"
      },
      {
        "duration": 32,
        "start_time": "2023-02-02T08:37:17.172Z"
      },
      {
        "duration": 2,
        "start_time": "2023-02-02T08:37:17.206Z"
      },
      {
        "duration": 11,
        "start_time": "2023-02-02T08:37:17.210Z"
      },
      {
        "duration": 26,
        "start_time": "2023-02-02T08:37:17.223Z"
      },
      {
        "duration": 5,
        "start_time": "2023-02-02T08:37:17.250Z"
      },
      {
        "duration": 5,
        "start_time": "2023-02-02T08:37:17.256Z"
      },
      {
        "duration": 32,
        "start_time": "2023-02-02T08:37:17.262Z"
      },
      {
        "duration": 9,
        "start_time": "2023-02-02T08:37:17.295Z"
      },
      {
        "duration": 9,
        "start_time": "2023-02-02T08:37:17.306Z"
      },
      {
        "duration": 32,
        "start_time": "2023-02-02T08:37:17.318Z"
      },
      {
        "duration": 20,
        "start_time": "2023-02-02T08:37:17.352Z"
      },
      {
        "duration": 15,
        "start_time": "2023-02-02T08:37:17.374Z"
      },
      {
        "duration": 3,
        "start_time": "2023-02-02T08:37:17.391Z"
      },
      {
        "duration": 14,
        "start_time": "2023-02-02T08:37:17.395Z"
      },
      {
        "duration": 6,
        "start_time": "2023-02-02T08:37:17.410Z"
      },
      {
        "duration": 31,
        "start_time": "2023-02-02T08:37:17.417Z"
      },
      {
        "duration": 11,
        "start_time": "2023-02-02T08:37:17.449Z"
      },
      {
        "duration": 14,
        "start_time": "2023-02-02T08:37:17.462Z"
      },
      {
        "duration": 40,
        "start_time": "2023-02-02T08:37:17.478Z"
      },
      {
        "duration": 88,
        "start_time": "2023-02-02T08:37:17.520Z"
      },
      {
        "duration": 64,
        "start_time": "2023-02-02T08:38:48.776Z"
      },
      {
        "duration": 13,
        "start_time": "2023-02-02T08:38:48.842Z"
      },
      {
        "duration": 19,
        "start_time": "2023-02-02T08:38:48.856Z"
      },
      {
        "duration": 10,
        "start_time": "2023-02-02T08:38:48.876Z"
      },
      {
        "duration": 33,
        "start_time": "2023-02-02T08:38:48.888Z"
      },
      {
        "duration": 5,
        "start_time": "2023-02-02T08:38:48.924Z"
      },
      {
        "duration": 27,
        "start_time": "2023-02-02T08:38:48.931Z"
      },
      {
        "duration": 5,
        "start_time": "2023-02-02T08:38:48.959Z"
      },
      {
        "duration": 11,
        "start_time": "2023-02-02T08:38:48.966Z"
      },
      {
        "duration": 5,
        "start_time": "2023-02-02T08:38:48.978Z"
      },
      {
        "duration": 40,
        "start_time": "2023-02-02T08:38:48.985Z"
      },
      {
        "duration": 24,
        "start_time": "2023-02-02T08:38:49.026Z"
      },
      {
        "duration": 3,
        "start_time": "2023-02-02T08:38:49.052Z"
      },
      {
        "duration": 12,
        "start_time": "2023-02-02T08:38:49.058Z"
      },
      {
        "duration": 21,
        "start_time": "2023-02-02T08:38:49.071Z"
      },
      {
        "duration": 16,
        "start_time": "2023-02-02T08:38:49.093Z"
      },
      {
        "duration": 4,
        "start_time": "2023-02-02T08:38:49.111Z"
      },
      {
        "duration": 34,
        "start_time": "2023-02-02T08:38:49.116Z"
      },
      {
        "duration": 5,
        "start_time": "2023-02-02T08:38:49.152Z"
      },
      {
        "duration": 4,
        "start_time": "2023-02-02T08:38:49.159Z"
      },
      {
        "duration": 13,
        "start_time": "2023-02-02T08:38:49.164Z"
      },
      {
        "duration": 15,
        "start_time": "2023-02-02T08:38:49.178Z"
      },
      {
        "duration": 24,
        "start_time": "2023-02-02T08:38:49.194Z"
      },
      {
        "duration": 44,
        "start_time": "2023-02-02T08:38:49.219Z"
      },
      {
        "duration": 68,
        "start_time": "2023-02-02T08:42:35.807Z"
      },
      {
        "duration": 15,
        "start_time": "2023-02-02T08:42:35.877Z"
      },
      {
        "duration": 14,
        "start_time": "2023-02-02T08:42:35.894Z"
      },
      {
        "duration": 10,
        "start_time": "2023-02-02T08:42:35.910Z"
      },
      {
        "duration": 57,
        "start_time": "2023-02-02T08:42:35.922Z"
      },
      {
        "duration": 4,
        "start_time": "2023-02-02T08:42:35.980Z"
      },
      {
        "duration": 12,
        "start_time": "2023-02-02T08:42:35.985Z"
      },
      {
        "duration": 3,
        "start_time": "2023-02-02T08:42:35.999Z"
      },
      {
        "duration": 10,
        "start_time": "2023-02-02T08:42:36.003Z"
      },
      {
        "duration": 11,
        "start_time": "2023-02-02T08:42:36.015Z"
      },
      {
        "duration": 42,
        "start_time": "2023-02-02T08:42:36.028Z"
      },
      {
        "duration": 10,
        "start_time": "2023-02-02T08:42:36.071Z"
      },
      {
        "duration": 11,
        "start_time": "2023-02-02T08:42:36.083Z"
      },
      {
        "duration": 18,
        "start_time": "2023-02-02T08:42:36.096Z"
      },
      {
        "duration": 23,
        "start_time": "2023-02-02T08:42:36.116Z"
      },
      {
        "duration": 24,
        "start_time": "2023-02-02T08:42:36.140Z"
      },
      {
        "duration": 4,
        "start_time": "2023-02-02T08:42:36.165Z"
      },
      {
        "duration": 14,
        "start_time": "2023-02-02T08:42:36.171Z"
      },
      {
        "duration": 8,
        "start_time": "2023-02-02T08:42:36.186Z"
      },
      {
        "duration": 4,
        "start_time": "2023-02-02T08:42:36.196Z"
      },
      {
        "duration": 12,
        "start_time": "2023-02-02T08:42:36.201Z"
      },
      {
        "duration": 35,
        "start_time": "2023-02-02T08:42:36.214Z"
      },
      {
        "duration": 23,
        "start_time": "2023-02-02T08:42:36.250Z"
      },
      {
        "duration": 12,
        "start_time": "2023-02-02T08:42:36.275Z"
      },
      {
        "duration": 2,
        "start_time": "2023-02-02T08:42:36.289Z"
      },
      {
        "duration": 2,
        "start_time": "2023-02-02T08:55:50.930Z"
      },
      {
        "duration": 65,
        "start_time": "2023-02-02T08:55:55.512Z"
      },
      {
        "duration": 14,
        "start_time": "2023-02-02T08:55:55.579Z"
      },
      {
        "duration": 14,
        "start_time": "2023-02-02T08:55:55.595Z"
      },
      {
        "duration": 9,
        "start_time": "2023-02-02T08:55:55.610Z"
      },
      {
        "duration": 46,
        "start_time": "2023-02-02T08:55:55.621Z"
      },
      {
        "duration": 4,
        "start_time": "2023-02-02T08:55:55.668Z"
      },
      {
        "duration": 12,
        "start_time": "2023-02-02T08:55:55.673Z"
      },
      {
        "duration": 4,
        "start_time": "2023-02-02T08:55:55.687Z"
      },
      {
        "duration": 6,
        "start_time": "2023-02-02T08:55:55.692Z"
      },
      {
        "duration": 5,
        "start_time": "2023-02-02T08:55:55.700Z"
      },
      {
        "duration": 58,
        "start_time": "2023-02-02T08:55:55.706Z"
      },
      {
        "duration": 9,
        "start_time": "2023-02-02T08:55:55.766Z"
      },
      {
        "duration": 4,
        "start_time": "2023-02-02T08:55:55.776Z"
      },
      {
        "duration": 11,
        "start_time": "2023-02-02T08:55:55.782Z"
      },
      {
        "duration": 28,
        "start_time": "2023-02-02T08:55:55.795Z"
      },
      {
        "duration": 22,
        "start_time": "2023-02-02T08:55:55.849Z"
      },
      {
        "duration": 4,
        "start_time": "2023-02-02T08:55:55.872Z"
      },
      {
        "duration": 28,
        "start_time": "2023-02-02T08:55:55.878Z"
      },
      {
        "duration": 13,
        "start_time": "2023-02-02T08:55:55.908Z"
      },
      {
        "duration": 12,
        "start_time": "2023-02-02T08:55:55.924Z"
      },
      {
        "duration": 25,
        "start_time": "2023-02-02T08:55:55.939Z"
      },
      {
        "duration": 27,
        "start_time": "2023-02-02T08:55:55.966Z"
      },
      {
        "duration": 54,
        "start_time": "2023-02-02T08:55:55.995Z"
      },
      {
        "duration": 15,
        "start_time": "2023-02-02T08:55:56.051Z"
      },
      {
        "duration": 88,
        "start_time": "2023-02-02T08:56:06.571Z"
      },
      {
        "duration": 21,
        "start_time": "2023-02-02T08:56:06.662Z"
      },
      {
        "duration": 39,
        "start_time": "2023-02-02T08:56:06.685Z"
      },
      {
        "duration": 12,
        "start_time": "2023-02-02T08:56:06.726Z"
      },
      {
        "duration": 39,
        "start_time": "2023-02-02T08:56:06.740Z"
      },
      {
        "duration": 4,
        "start_time": "2023-02-02T08:56:06.780Z"
      },
      {
        "duration": 17,
        "start_time": "2023-02-02T08:56:06.785Z"
      },
      {
        "duration": 5,
        "start_time": "2023-02-02T08:56:06.804Z"
      },
      {
        "duration": 6,
        "start_time": "2023-02-02T08:56:06.810Z"
      },
      {
        "duration": 14,
        "start_time": "2023-02-02T08:56:06.818Z"
      },
      {
        "duration": 37,
        "start_time": "2023-02-02T08:56:06.833Z"
      },
      {
        "duration": 9,
        "start_time": "2023-02-02T08:56:06.872Z"
      },
      {
        "duration": 4,
        "start_time": "2023-02-02T08:56:06.883Z"
      },
      {
        "duration": 11,
        "start_time": "2023-02-02T08:56:06.890Z"
      },
      {
        "duration": 29,
        "start_time": "2023-02-02T08:56:06.902Z"
      },
      {
        "duration": 33,
        "start_time": "2023-02-02T08:56:06.933Z"
      },
      {
        "duration": 5,
        "start_time": "2023-02-02T08:56:06.967Z"
      },
      {
        "duration": 14,
        "start_time": "2023-02-02T08:56:06.974Z"
      },
      {
        "duration": 8,
        "start_time": "2023-02-02T08:56:06.989Z"
      },
      {
        "duration": 10,
        "start_time": "2023-02-02T08:56:06.998Z"
      },
      {
        "duration": 13,
        "start_time": "2023-02-02T08:56:07.010Z"
      },
      {
        "duration": 34,
        "start_time": "2023-02-02T08:56:07.025Z"
      },
      {
        "duration": 24,
        "start_time": "2023-02-02T08:56:07.061Z"
      },
      {
        "duration": 16,
        "start_time": "2023-02-02T08:56:07.086Z"
      },
      {
        "duration": 67,
        "start_time": "2023-02-02T09:04:14.365Z"
      },
      {
        "duration": 15,
        "start_time": "2023-02-02T09:04:14.434Z"
      },
      {
        "duration": 20,
        "start_time": "2023-02-02T09:04:14.450Z"
      },
      {
        "duration": 15,
        "start_time": "2023-02-02T09:04:14.472Z"
      },
      {
        "duration": 35,
        "start_time": "2023-02-02T09:04:14.489Z"
      },
      {
        "duration": 3,
        "start_time": "2023-02-02T09:04:14.526Z"
      },
      {
        "duration": 30,
        "start_time": "2023-02-02T09:04:14.531Z"
      },
      {
        "duration": 6,
        "start_time": "2023-02-02T09:04:14.562Z"
      },
      {
        "duration": 12,
        "start_time": "2023-02-02T09:04:14.570Z"
      },
      {
        "duration": 15,
        "start_time": "2023-02-02T09:04:14.584Z"
      },
      {
        "duration": 52,
        "start_time": "2023-02-02T09:04:14.601Z"
      },
      {
        "duration": 10,
        "start_time": "2023-02-02T09:04:14.656Z"
      },
      {
        "duration": 4,
        "start_time": "2023-02-02T09:04:14.668Z"
      },
      {
        "duration": 12,
        "start_time": "2023-02-02T09:04:14.675Z"
      },
      {
        "duration": 23,
        "start_time": "2023-02-02T09:04:14.688Z"
      },
      {
        "duration": 36,
        "start_time": "2023-02-02T09:04:14.712Z"
      },
      {
        "duration": 3,
        "start_time": "2023-02-02T09:04:14.749Z"
      },
      {
        "duration": 19,
        "start_time": "2023-02-02T09:04:14.754Z"
      },
      {
        "duration": 9,
        "start_time": "2023-02-02T09:04:14.775Z"
      },
      {
        "duration": 6,
        "start_time": "2023-02-02T09:04:14.786Z"
      },
      {
        "duration": 16,
        "start_time": "2023-02-02T09:04:14.793Z"
      },
      {
        "duration": 15,
        "start_time": "2023-02-02T09:04:14.811Z"
      },
      {
        "duration": 42,
        "start_time": "2023-02-02T09:04:14.828Z"
      },
      {
        "duration": 18,
        "start_time": "2023-02-02T09:04:14.872Z"
      },
      {
        "duration": 82,
        "start_time": "2023-02-02T09:05:23.984Z"
      },
      {
        "duration": 15,
        "start_time": "2023-02-02T09:05:24.068Z"
      },
      {
        "duration": 16,
        "start_time": "2023-02-02T09:05:24.084Z"
      },
      {
        "duration": 14,
        "start_time": "2023-02-02T09:05:24.102Z"
      },
      {
        "duration": 66,
        "start_time": "2023-02-02T09:05:24.118Z"
      },
      {
        "duration": 4,
        "start_time": "2023-02-02T09:05:24.186Z"
      },
      {
        "duration": 16,
        "start_time": "2023-02-02T09:05:24.192Z"
      },
      {
        "duration": 4,
        "start_time": "2023-02-02T09:05:24.210Z"
      },
      {
        "duration": 10,
        "start_time": "2023-02-02T09:05:24.216Z"
      },
      {
        "duration": 24,
        "start_time": "2023-02-02T09:05:24.228Z"
      },
      {
        "duration": 54,
        "start_time": "2023-02-02T09:05:24.253Z"
      },
      {
        "duration": 10,
        "start_time": "2023-02-02T09:05:24.308Z"
      },
      {
        "duration": 27,
        "start_time": "2023-02-02T09:05:24.319Z"
      },
      {
        "duration": 16,
        "start_time": "2023-02-02T09:05:24.349Z"
      },
      {
        "duration": 22,
        "start_time": "2023-02-02T09:05:24.367Z"
      },
      {
        "duration": 16,
        "start_time": "2023-02-02T09:05:24.391Z"
      },
      {
        "duration": 3,
        "start_time": "2023-02-02T09:05:24.409Z"
      },
      {
        "duration": 16,
        "start_time": "2023-02-02T09:05:24.413Z"
      },
      {
        "duration": 24,
        "start_time": "2023-02-02T09:05:24.431Z"
      },
      {
        "duration": 4,
        "start_time": "2023-02-02T09:05:24.457Z"
      },
      {
        "duration": 11,
        "start_time": "2023-02-02T09:05:24.463Z"
      },
      {
        "duration": 23,
        "start_time": "2023-02-02T09:05:24.476Z"
      },
      {
        "duration": 52,
        "start_time": "2023-02-02T09:05:24.500Z"
      },
      {
        "duration": 37,
        "start_time": "2023-02-02T09:05:24.553Z"
      },
      {
        "duration": 67,
        "start_time": "2023-02-02T09:06:33.276Z"
      },
      {
        "duration": 15,
        "start_time": "2023-02-02T09:06:33.345Z"
      },
      {
        "duration": 17,
        "start_time": "2023-02-02T09:06:33.362Z"
      },
      {
        "duration": 9,
        "start_time": "2023-02-02T09:06:33.381Z"
      },
      {
        "duration": 63,
        "start_time": "2023-02-02T09:06:33.392Z"
      },
      {
        "duration": 4,
        "start_time": "2023-02-02T09:06:33.456Z"
      },
      {
        "duration": 13,
        "start_time": "2023-02-02T09:06:33.461Z"
      },
      {
        "duration": 4,
        "start_time": "2023-02-02T09:06:33.476Z"
      },
      {
        "duration": 8,
        "start_time": "2023-02-02T09:06:33.481Z"
      },
      {
        "duration": 9,
        "start_time": "2023-02-02T09:06:33.490Z"
      },
      {
        "duration": 57,
        "start_time": "2023-02-02T09:06:33.500Z"
      },
      {
        "duration": 10,
        "start_time": "2023-02-02T09:06:33.559Z"
      },
      {
        "duration": 4,
        "start_time": "2023-02-02T09:06:33.570Z"
      },
      {
        "duration": 13,
        "start_time": "2023-02-02T09:06:33.577Z"
      },
      {
        "duration": 19,
        "start_time": "2023-02-02T09:06:33.592Z"
      },
      {
        "duration": 52,
        "start_time": "2023-02-02T09:06:33.613Z"
      },
      {
        "duration": 5,
        "start_time": "2023-02-02T09:06:33.667Z"
      },
      {
        "duration": 21,
        "start_time": "2023-02-02T09:06:33.674Z"
      },
      {
        "duration": 7,
        "start_time": "2023-02-02T09:06:33.697Z"
      },
      {
        "duration": 3,
        "start_time": "2023-02-02T09:06:33.706Z"
      },
      {
        "duration": 10,
        "start_time": "2023-02-02T09:06:33.711Z"
      },
      {
        "duration": 42,
        "start_time": "2023-02-02T09:06:33.723Z"
      },
      {
        "duration": 30,
        "start_time": "2023-02-02T09:06:33.767Z"
      },
      {
        "duration": 25,
        "start_time": "2023-02-02T09:06:33.799Z"
      },
      {
        "duration": 90,
        "start_time": "2023-02-02T09:10:17.747Z"
      },
      {
        "duration": 15,
        "start_time": "2023-02-02T09:10:17.839Z"
      },
      {
        "duration": 15,
        "start_time": "2023-02-02T09:10:17.856Z"
      },
      {
        "duration": 12,
        "start_time": "2023-02-02T09:10:17.874Z"
      },
      {
        "duration": 77,
        "start_time": "2023-02-02T09:10:17.889Z"
      },
      {
        "duration": 4,
        "start_time": "2023-02-02T09:10:17.969Z"
      },
      {
        "duration": 15,
        "start_time": "2023-02-02T09:10:17.976Z"
      },
      {
        "duration": 6,
        "start_time": "2023-02-02T09:10:17.993Z"
      },
      {
        "duration": 16,
        "start_time": "2023-02-02T09:10:18.001Z"
      },
      {
        "duration": 28,
        "start_time": "2023-02-02T09:10:18.020Z"
      },
      {
        "duration": 42,
        "start_time": "2023-02-02T09:10:18.050Z"
      },
      {
        "duration": 12,
        "start_time": "2023-02-02T09:10:18.093Z"
      },
      {
        "duration": 19,
        "start_time": "2023-02-02T09:10:18.107Z"
      },
      {
        "duration": 19,
        "start_time": "2023-02-02T09:10:18.129Z"
      },
      {
        "duration": 30,
        "start_time": "2023-02-02T09:10:18.149Z"
      },
      {
        "duration": 18,
        "start_time": "2023-02-02T09:10:18.180Z"
      },
      {
        "duration": 3,
        "start_time": "2023-02-02T09:10:18.200Z"
      },
      {
        "duration": 18,
        "start_time": "2023-02-02T09:10:18.205Z"
      },
      {
        "duration": 15,
        "start_time": "2023-02-02T09:10:18.224Z"
      },
      {
        "duration": 10,
        "start_time": "2023-02-02T09:10:18.240Z"
      },
      {
        "duration": 19,
        "start_time": "2023-02-02T09:10:18.252Z"
      },
      {
        "duration": 22,
        "start_time": "2023-02-02T09:10:18.272Z"
      },
      {
        "duration": 25,
        "start_time": "2023-02-02T09:10:18.295Z"
      },
      {
        "duration": 768,
        "start_time": "2023-02-02T09:10:18.322Z"
      },
      {
        "duration": 72,
        "start_time": "2023-02-02T09:10:46.524Z"
      },
      {
        "duration": 15,
        "start_time": "2023-02-02T09:10:46.598Z"
      },
      {
        "duration": 18,
        "start_time": "2023-02-02T09:10:46.615Z"
      },
      {
        "duration": 18,
        "start_time": "2023-02-02T09:10:46.635Z"
      },
      {
        "duration": 35,
        "start_time": "2023-02-02T09:10:46.656Z"
      },
      {
        "duration": 5,
        "start_time": "2023-02-02T09:10:46.694Z"
      },
      {
        "duration": 14,
        "start_time": "2023-02-02T09:10:46.700Z"
      },
      {
        "duration": 34,
        "start_time": "2023-02-02T09:10:46.716Z"
      },
      {
        "duration": 10,
        "start_time": "2023-02-02T09:10:46.753Z"
      },
      {
        "duration": 9,
        "start_time": "2023-02-02T09:10:46.766Z"
      },
      {
        "duration": 44,
        "start_time": "2023-02-02T09:10:46.778Z"
      },
      {
        "duration": 30,
        "start_time": "2023-02-02T09:10:46.824Z"
      },
      {
        "duration": 11,
        "start_time": "2023-02-02T09:10:46.855Z"
      },
      {
        "duration": 47,
        "start_time": "2023-02-02T09:10:46.869Z"
      },
      {
        "duration": 27,
        "start_time": "2023-02-02T09:10:46.918Z"
      },
      {
        "duration": 17,
        "start_time": "2023-02-02T09:10:46.947Z"
      },
      {
        "duration": 3,
        "start_time": "2023-02-02T09:10:46.966Z"
      },
      {
        "duration": 15,
        "start_time": "2023-02-02T09:10:46.971Z"
      },
      {
        "duration": 11,
        "start_time": "2023-02-02T09:10:46.987Z"
      },
      {
        "duration": 14,
        "start_time": "2023-02-02T09:10:46.999Z"
      },
      {
        "duration": 34,
        "start_time": "2023-02-02T09:10:47.015Z"
      },
      {
        "duration": 20,
        "start_time": "2023-02-02T09:10:47.051Z"
      },
      {
        "duration": 25,
        "start_time": "2023-02-02T09:10:47.074Z"
      },
      {
        "duration": 48,
        "start_time": "2023-02-02T09:10:47.100Z"
      },
      {
        "duration": 76,
        "start_time": "2023-02-02T09:12:22.832Z"
      },
      {
        "duration": 16,
        "start_time": "2023-02-02T09:12:22.910Z"
      },
      {
        "duration": 37,
        "start_time": "2023-02-02T09:12:22.928Z"
      },
      {
        "duration": 30,
        "start_time": "2023-02-02T09:12:22.966Z"
      },
      {
        "duration": 58,
        "start_time": "2023-02-02T09:12:22.999Z"
      },
      {
        "duration": 4,
        "start_time": "2023-02-02T09:12:23.059Z"
      },
      {
        "duration": 61,
        "start_time": "2023-02-02T09:12:23.064Z"
      },
      {
        "duration": 49,
        "start_time": "2023-02-02T09:12:23.126Z"
      },
      {
        "duration": 45,
        "start_time": "2023-02-02T09:12:23.177Z"
      },
      {
        "duration": 26,
        "start_time": "2023-02-02T09:12:23.224Z"
      },
      {
        "duration": 70,
        "start_time": "2023-02-02T09:12:23.251Z"
      },
      {
        "duration": 14,
        "start_time": "2023-02-02T09:12:23.323Z"
      },
      {
        "duration": 55,
        "start_time": "2023-02-02T09:12:23.339Z"
      },
      {
        "duration": 43,
        "start_time": "2023-02-02T09:12:23.397Z"
      },
      {
        "duration": 49,
        "start_time": "2023-02-02T09:12:23.442Z"
      },
      {
        "duration": 48,
        "start_time": "2023-02-02T09:12:23.493Z"
      },
      {
        "duration": 24,
        "start_time": "2023-02-02T09:12:23.543Z"
      },
      {
        "duration": 85,
        "start_time": "2023-02-02T09:12:23.569Z"
      },
      {
        "duration": 37,
        "start_time": "2023-02-02T09:12:23.656Z"
      },
      {
        "duration": 36,
        "start_time": "2023-02-02T09:12:23.695Z"
      },
      {
        "duration": 40,
        "start_time": "2023-02-02T09:12:23.734Z"
      },
      {
        "duration": 58,
        "start_time": "2023-02-02T09:12:23.777Z"
      },
      {
        "duration": 65,
        "start_time": "2023-02-02T09:12:23.837Z"
      },
      {
        "duration": 877,
        "start_time": "2023-02-02T09:12:23.904Z"
      },
      {
        "duration": 80,
        "start_time": "2023-02-02T09:12:39.081Z"
      },
      {
        "duration": 14,
        "start_time": "2023-02-02T09:12:39.164Z"
      },
      {
        "duration": 15,
        "start_time": "2023-02-02T09:12:39.180Z"
      },
      {
        "duration": 10,
        "start_time": "2023-02-02T09:12:39.197Z"
      },
      {
        "duration": 59,
        "start_time": "2023-02-02T09:12:39.210Z"
      },
      {
        "duration": 4,
        "start_time": "2023-02-02T09:12:39.270Z"
      },
      {
        "duration": 11,
        "start_time": "2023-02-02T09:12:39.275Z"
      },
      {
        "duration": 5,
        "start_time": "2023-02-02T09:12:39.288Z"
      },
      {
        "duration": 7,
        "start_time": "2023-02-02T09:12:39.295Z"
      },
      {
        "duration": 6,
        "start_time": "2023-02-02T09:12:39.304Z"
      },
      {
        "duration": 67,
        "start_time": "2023-02-02T09:12:39.311Z"
      },
      {
        "duration": 11,
        "start_time": "2023-02-02T09:12:39.380Z"
      },
      {
        "duration": 8,
        "start_time": "2023-02-02T09:12:39.393Z"
      },
      {
        "duration": 18,
        "start_time": "2023-02-02T09:12:39.404Z"
      },
      {
        "duration": 36,
        "start_time": "2023-02-02T09:12:39.424Z"
      },
      {
        "duration": 19,
        "start_time": "2023-02-02T09:12:39.462Z"
      },
      {
        "duration": 5,
        "start_time": "2023-02-02T09:12:39.483Z"
      },
      {
        "duration": 13,
        "start_time": "2023-02-02T09:12:39.490Z"
      },
      {
        "duration": 8,
        "start_time": "2023-02-02T09:12:39.505Z"
      },
      {
        "duration": 38,
        "start_time": "2023-02-02T09:12:39.515Z"
      },
      {
        "duration": 11,
        "start_time": "2023-02-02T09:12:39.556Z"
      },
      {
        "duration": 20,
        "start_time": "2023-02-02T09:12:39.570Z"
      },
      {
        "duration": 24,
        "start_time": "2023-02-02T09:12:39.591Z"
      },
      {
        "duration": 56,
        "start_time": "2023-02-02T09:12:39.617Z"
      },
      {
        "duration": 88,
        "start_time": "2023-02-02T09:13:43.104Z"
      },
      {
        "duration": 15,
        "start_time": "2023-02-02T09:13:43.194Z"
      },
      {
        "duration": 36,
        "start_time": "2023-02-02T09:13:43.212Z"
      },
      {
        "duration": 11,
        "start_time": "2023-02-02T09:13:43.250Z"
      },
      {
        "duration": 36,
        "start_time": "2023-02-02T09:13:43.263Z"
      },
      {
        "duration": 4,
        "start_time": "2023-02-02T09:13:43.301Z"
      },
      {
        "duration": 22,
        "start_time": "2023-02-02T09:13:43.307Z"
      },
      {
        "duration": 22,
        "start_time": "2023-02-02T09:13:43.331Z"
      },
      {
        "duration": 8,
        "start_time": "2023-02-02T09:13:43.355Z"
      },
      {
        "duration": 6,
        "start_time": "2023-02-02T09:13:43.365Z"
      },
      {
        "duration": 37,
        "start_time": "2023-02-02T09:13:43.372Z"
      },
      {
        "duration": 10,
        "start_time": "2023-02-02T09:13:43.411Z"
      },
      {
        "duration": 31,
        "start_time": "2023-02-02T09:13:43.422Z"
      },
      {
        "duration": 19,
        "start_time": "2023-02-02T09:13:43.455Z"
      },
      {
        "duration": 29,
        "start_time": "2023-02-02T09:13:43.475Z"
      },
      {
        "duration": 27,
        "start_time": "2023-02-02T09:13:43.506Z"
      },
      {
        "duration": 14,
        "start_time": "2023-02-02T09:13:43.535Z"
      },
      {
        "duration": 20,
        "start_time": "2023-02-02T09:13:43.551Z"
      },
      {
        "duration": 14,
        "start_time": "2023-02-02T09:13:43.573Z"
      },
      {
        "duration": 4,
        "start_time": "2023-02-02T09:13:43.590Z"
      },
      {
        "duration": 14,
        "start_time": "2023-02-02T09:13:43.596Z"
      },
      {
        "duration": 37,
        "start_time": "2023-02-02T09:13:43.612Z"
      },
      {
        "duration": 31,
        "start_time": "2023-02-02T09:13:43.651Z"
      },
      {
        "duration": 36,
        "start_time": "2023-02-02T09:13:43.684Z"
      },
      {
        "duration": 22,
        "start_time": "2023-02-02T09:16:13.635Z"
      },
      {
        "duration": 11,
        "start_time": "2023-02-02T09:32:29.696Z"
      },
      {
        "duration": 11,
        "start_time": "2023-02-02T09:37:51.192Z"
      },
      {
        "duration": 14,
        "start_time": "2023-02-02T10:01:57.387Z"
      },
      {
        "duration": 22,
        "start_time": "2023-02-02T10:02:25.053Z"
      },
      {
        "duration": 14,
        "start_time": "2023-02-02T10:13:04.585Z"
      },
      {
        "duration": 14,
        "start_time": "2023-02-02T10:16:45.746Z"
      },
      {
        "duration": 41,
        "start_time": "2023-02-02T10:17:43.877Z"
      },
      {
        "duration": 14,
        "start_time": "2023-02-02T10:18:08.226Z"
      },
      {
        "duration": 13,
        "start_time": "2023-02-02T10:18:34.858Z"
      },
      {
        "duration": 18,
        "start_time": "2023-02-02T10:21:36.132Z"
      },
      {
        "duration": 20,
        "start_time": "2023-02-02T10:21:55.334Z"
      },
      {
        "duration": 20,
        "start_time": "2023-02-02T10:22:01.444Z"
      },
      {
        "duration": 17,
        "start_time": "2023-02-02T10:23:30.192Z"
      },
      {
        "duration": 18,
        "start_time": "2023-02-02T10:24:12.100Z"
      },
      {
        "duration": 16,
        "start_time": "2023-02-02T10:24:44.231Z"
      },
      {
        "duration": 14,
        "start_time": "2023-02-02T10:48:50.540Z"
      },
      {
        "duration": 66,
        "start_time": "2023-02-02T10:49:15.179Z"
      },
      {
        "duration": 14,
        "start_time": "2023-02-02T10:49:15.247Z"
      },
      {
        "duration": 16,
        "start_time": "2023-02-02T10:49:15.263Z"
      },
      {
        "duration": 11,
        "start_time": "2023-02-02T10:49:15.281Z"
      },
      {
        "duration": 43,
        "start_time": "2023-02-02T10:49:15.294Z"
      },
      {
        "duration": 2,
        "start_time": "2023-02-02T10:49:15.339Z"
      },
      {
        "duration": 11,
        "start_time": "2023-02-02T10:49:15.348Z"
      },
      {
        "duration": 9,
        "start_time": "2023-02-02T10:49:15.361Z"
      },
      {
        "duration": 7,
        "start_time": "2023-02-02T10:49:15.372Z"
      },
      {
        "duration": 5,
        "start_time": "2023-02-02T10:49:15.381Z"
      },
      {
        "duration": 61,
        "start_time": "2023-02-02T10:49:15.388Z"
      },
      {
        "duration": 13,
        "start_time": "2023-02-02T10:49:15.451Z"
      },
      {
        "duration": 4,
        "start_time": "2023-02-02T10:49:15.466Z"
      },
      {
        "duration": 15,
        "start_time": "2023-02-02T10:49:15.473Z"
      },
      {
        "duration": 17,
        "start_time": "2023-02-02T10:49:15.489Z"
      },
      {
        "duration": 40,
        "start_time": "2023-02-02T10:49:15.508Z"
      },
      {
        "duration": 4,
        "start_time": "2023-02-02T10:49:15.550Z"
      },
      {
        "duration": 14,
        "start_time": "2023-02-02T10:49:15.555Z"
      },
      {
        "duration": 6,
        "start_time": "2023-02-02T10:49:15.571Z"
      },
      {
        "duration": 3,
        "start_time": "2023-02-02T10:49:15.578Z"
      },
      {
        "duration": 13,
        "start_time": "2023-02-02T10:49:15.583Z"
      },
      {
        "duration": 37,
        "start_time": "2023-02-02T10:49:15.598Z"
      },
      {
        "duration": 51,
        "start_time": "2023-02-02T10:49:15.637Z"
      },
      {
        "duration": 29,
        "start_time": "2023-02-02T10:49:15.690Z"
      },
      {
        "duration": 16,
        "start_time": "2023-02-02T11:02:06.770Z"
      },
      {
        "duration": 16,
        "start_time": "2023-02-02T11:04:36.630Z"
      },
      {
        "duration": 16,
        "start_time": "2023-02-02T11:04:43.759Z"
      },
      {
        "duration": 15,
        "start_time": "2023-02-02T11:05:30.674Z"
      },
      {
        "duration": 16,
        "start_time": "2023-02-02T11:05:47.311Z"
      },
      {
        "duration": 17,
        "start_time": "2023-02-02T11:05:58.810Z"
      },
      {
        "duration": 18,
        "start_time": "2023-02-02T11:06:29.289Z"
      },
      {
        "duration": 17,
        "start_time": "2023-02-02T11:06:58.659Z"
      },
      {
        "duration": 16,
        "start_time": "2023-02-02T11:07:23.730Z"
      },
      {
        "duration": 16,
        "start_time": "2023-02-02T11:12:12.135Z"
      },
      {
        "duration": 16,
        "start_time": "2023-02-02T11:13:01.224Z"
      },
      {
        "duration": 64,
        "start_time": "2023-02-02T11:21:37.169Z"
      },
      {
        "duration": 14,
        "start_time": "2023-02-02T11:21:37.235Z"
      },
      {
        "duration": 30,
        "start_time": "2023-02-02T11:21:37.251Z"
      },
      {
        "duration": 10,
        "start_time": "2023-02-02T11:21:37.283Z"
      },
      {
        "duration": 30,
        "start_time": "2023-02-02T11:21:37.297Z"
      },
      {
        "duration": 4,
        "start_time": "2023-02-02T11:21:37.329Z"
      },
      {
        "duration": 20,
        "start_time": "2023-02-02T11:21:37.335Z"
      },
      {
        "duration": 13,
        "start_time": "2023-02-02T11:21:37.357Z"
      },
      {
        "duration": 6,
        "start_time": "2023-02-02T11:21:37.372Z"
      },
      {
        "duration": 6,
        "start_time": "2023-02-02T11:21:37.379Z"
      },
      {
        "duration": 33,
        "start_time": "2023-02-02T11:21:37.387Z"
      },
      {
        "duration": 32,
        "start_time": "2023-02-02T11:21:37.422Z"
      },
      {
        "duration": 17,
        "start_time": "2023-02-02T11:21:37.456Z"
      },
      {
        "duration": 11,
        "start_time": "2023-02-02T11:21:37.476Z"
      },
      {
        "duration": 22,
        "start_time": "2023-02-02T11:21:37.489Z"
      },
      {
        "duration": 35,
        "start_time": "2023-02-02T11:21:37.513Z"
      },
      {
        "duration": 5,
        "start_time": "2023-02-02T11:21:37.551Z"
      },
      {
        "duration": 28,
        "start_time": "2023-02-02T11:21:37.558Z"
      },
      {
        "duration": 9,
        "start_time": "2023-02-02T11:21:37.587Z"
      },
      {
        "duration": 5,
        "start_time": "2023-02-02T11:21:37.598Z"
      },
      {
        "duration": 11,
        "start_time": "2023-02-02T11:21:37.604Z"
      },
      {
        "duration": 16,
        "start_time": "2023-02-02T11:21:37.616Z"
      },
      {
        "duration": 40,
        "start_time": "2023-02-02T11:21:37.634Z"
      },
      {
        "duration": 15,
        "start_time": "2023-02-02T11:21:37.676Z"
      },
      {
        "duration": 12,
        "start_time": "2023-02-02T11:21:37.692Z"
      },
      {
        "duration": 11,
        "start_time": "2023-02-02T11:22:49.545Z"
      },
      {
        "duration": 26,
        "start_time": "2023-02-02T11:23:01.475Z"
      },
      {
        "duration": 16,
        "start_time": "2023-02-02T11:23:28.184Z"
      },
      {
        "duration": 33,
        "start_time": "2023-02-02T11:23:42.814Z"
      },
      {
        "duration": 28,
        "start_time": "2023-02-02T11:24:05.038Z"
      },
      {
        "duration": 66,
        "start_time": "2023-02-02T11:25:22.396Z"
      },
      {
        "duration": 18,
        "start_time": "2023-02-02T11:25:22.464Z"
      },
      {
        "duration": 23,
        "start_time": "2023-02-02T11:25:22.484Z"
      },
      {
        "duration": 13,
        "start_time": "2023-02-02T11:25:22.509Z"
      },
      {
        "duration": 50,
        "start_time": "2023-02-02T11:25:22.524Z"
      },
      {
        "duration": 4,
        "start_time": "2023-02-02T11:25:22.576Z"
      },
      {
        "duration": 10,
        "start_time": "2023-02-02T11:25:22.582Z"
      },
      {
        "duration": 4,
        "start_time": "2023-02-02T11:25:22.593Z"
      },
      {
        "duration": 6,
        "start_time": "2023-02-02T11:25:22.599Z"
      },
      {
        "duration": 5,
        "start_time": "2023-02-02T11:25:22.607Z"
      },
      {
        "duration": 63,
        "start_time": "2023-02-02T11:25:22.613Z"
      },
      {
        "duration": 9,
        "start_time": "2023-02-02T11:25:22.678Z"
      },
      {
        "duration": 4,
        "start_time": "2023-02-02T11:25:22.688Z"
      },
      {
        "duration": 10,
        "start_time": "2023-02-02T11:25:22.695Z"
      },
      {
        "duration": 44,
        "start_time": "2023-02-02T11:25:22.706Z"
      },
      {
        "duration": 18,
        "start_time": "2023-02-02T11:25:22.751Z"
      },
      {
        "duration": 3,
        "start_time": "2023-02-02T11:25:22.771Z"
      },
      {
        "duration": 19,
        "start_time": "2023-02-02T11:25:22.775Z"
      },
      {
        "duration": 15,
        "start_time": "2023-02-02T11:25:22.795Z"
      },
      {
        "duration": 14,
        "start_time": "2023-02-02T11:25:22.812Z"
      },
      {
        "duration": 20,
        "start_time": "2023-02-02T11:25:22.828Z"
      },
      {
        "duration": 16,
        "start_time": "2023-02-02T11:25:22.851Z"
      },
      {
        "duration": 1,
        "start_time": "2023-02-02T11:25:22.868Z"
      },
      {
        "duration": 0,
        "start_time": "2023-02-02T11:25:22.870Z"
      },
      {
        "duration": 0,
        "start_time": "2023-02-02T11:25:22.872Z"
      },
      {
        "duration": 66,
        "start_time": "2023-02-02T11:25:36.758Z"
      },
      {
        "duration": 15,
        "start_time": "2023-02-02T11:25:36.826Z"
      },
      {
        "duration": 23,
        "start_time": "2023-02-02T11:25:36.843Z"
      },
      {
        "duration": 15,
        "start_time": "2023-02-02T11:25:36.868Z"
      },
      {
        "duration": 64,
        "start_time": "2023-02-02T11:25:36.886Z"
      },
      {
        "duration": 5,
        "start_time": "2023-02-02T11:25:36.952Z"
      },
      {
        "duration": 17,
        "start_time": "2023-02-02T11:25:36.961Z"
      },
      {
        "duration": 7,
        "start_time": "2023-02-02T11:25:36.980Z"
      },
      {
        "duration": 11,
        "start_time": "2023-02-02T11:25:36.988Z"
      },
      {
        "duration": 10,
        "start_time": "2023-02-02T11:25:37.000Z"
      },
      {
        "duration": 49,
        "start_time": "2023-02-02T11:25:37.011Z"
      },
      {
        "duration": 9,
        "start_time": "2023-02-02T11:25:37.062Z"
      },
      {
        "duration": 4,
        "start_time": "2023-02-02T11:25:37.073Z"
      },
      {
        "duration": 13,
        "start_time": "2023-02-02T11:25:37.080Z"
      },
      {
        "duration": 27,
        "start_time": "2023-02-02T11:25:37.095Z"
      },
      {
        "duration": 25,
        "start_time": "2023-02-02T11:25:37.149Z"
      },
      {
        "duration": 4,
        "start_time": "2023-02-02T11:25:37.176Z"
      },
      {
        "duration": 16,
        "start_time": "2023-02-02T11:25:37.182Z"
      },
      {
        "duration": 10,
        "start_time": "2023-02-02T11:25:37.200Z"
      },
      {
        "duration": 4,
        "start_time": "2023-02-02T11:25:37.212Z"
      },
      {
        "duration": 32,
        "start_time": "2023-02-02T11:25:37.218Z"
      },
      {
        "duration": 13,
        "start_time": "2023-02-02T11:25:37.252Z"
      },
      {
        "duration": 0,
        "start_time": "2023-02-02T11:25:37.267Z"
      },
      {
        "duration": 0,
        "start_time": "2023-02-02T11:25:37.269Z"
      },
      {
        "duration": 0,
        "start_time": "2023-02-02T11:25:37.270Z"
      },
      {
        "duration": 65,
        "start_time": "2023-02-02T11:25:43.754Z"
      },
      {
        "duration": 14,
        "start_time": "2023-02-02T11:25:43.821Z"
      },
      {
        "duration": 15,
        "start_time": "2023-02-02T11:25:43.836Z"
      },
      {
        "duration": 9,
        "start_time": "2023-02-02T11:25:43.852Z"
      },
      {
        "duration": 35,
        "start_time": "2023-02-02T11:25:43.863Z"
      },
      {
        "duration": 3,
        "start_time": "2023-02-02T11:25:43.901Z"
      },
      {
        "duration": 13,
        "start_time": "2023-02-02T11:25:43.906Z"
      },
      {
        "duration": 8,
        "start_time": "2023-02-02T11:25:43.921Z"
      },
      {
        "duration": 7,
        "start_time": "2023-02-02T11:25:43.948Z"
      },
      {
        "duration": 4,
        "start_time": "2023-02-02T11:25:43.957Z"
      },
      {
        "duration": 32,
        "start_time": "2023-02-02T11:25:43.963Z"
      },
      {
        "duration": 11,
        "start_time": "2023-02-02T11:25:43.997Z"
      },
      {
        "duration": 4,
        "start_time": "2023-02-02T11:25:44.009Z"
      },
      {
        "duration": 40,
        "start_time": "2023-02-02T11:25:44.015Z"
      },
      {
        "duration": 18,
        "start_time": "2023-02-02T11:25:44.056Z"
      },
      {
        "duration": 17,
        "start_time": "2023-02-02T11:25:44.075Z"
      },
      {
        "duration": 3,
        "start_time": "2023-02-02T11:25:44.093Z"
      },
      {
        "duration": 16,
        "start_time": "2023-02-02T11:25:44.098Z"
      },
      {
        "duration": 9,
        "start_time": "2023-02-02T11:25:44.115Z"
      },
      {
        "duration": 26,
        "start_time": "2023-02-02T11:25:44.126Z"
      },
      {
        "duration": 19,
        "start_time": "2023-02-02T11:25:44.153Z"
      },
      {
        "duration": 14,
        "start_time": "2023-02-02T11:25:44.175Z"
      },
      {
        "duration": 0,
        "start_time": "2023-02-02T11:25:44.191Z"
      },
      {
        "duration": 0,
        "start_time": "2023-02-02T11:25:44.192Z"
      },
      {
        "duration": 0,
        "start_time": "2023-02-02T11:25:44.193Z"
      },
      {
        "duration": 11,
        "start_time": "2023-02-02T11:26:28.410Z"
      },
      {
        "duration": 9,
        "start_time": "2023-02-02T11:26:35.761Z"
      },
      {
        "duration": 913,
        "start_time": "2023-02-02T11:26:51.958Z"
      },
      {
        "duration": 70,
        "start_time": "2023-02-02T11:32:14.234Z"
      },
      {
        "duration": 14,
        "start_time": "2023-02-02T11:32:14.306Z"
      },
      {
        "duration": 15,
        "start_time": "2023-02-02T11:32:14.321Z"
      },
      {
        "duration": 11,
        "start_time": "2023-02-02T11:32:14.338Z"
      },
      {
        "duration": 47,
        "start_time": "2023-02-02T11:32:14.351Z"
      },
      {
        "duration": 4,
        "start_time": "2023-02-02T11:32:14.399Z"
      },
      {
        "duration": 13,
        "start_time": "2023-02-02T11:32:14.404Z"
      },
      {
        "duration": 7,
        "start_time": "2023-02-02T11:32:14.419Z"
      },
      {
        "duration": 8,
        "start_time": "2023-02-02T11:32:14.428Z"
      },
      {
        "duration": 17,
        "start_time": "2023-02-02T11:32:14.437Z"
      },
      {
        "duration": 41,
        "start_time": "2023-02-02T11:32:14.456Z"
      },
      {
        "duration": 10,
        "start_time": "2023-02-02T11:32:14.499Z"
      },
      {
        "duration": 4,
        "start_time": "2023-02-02T11:32:14.510Z"
      },
      {
        "duration": 12,
        "start_time": "2023-02-02T11:32:14.516Z"
      },
      {
        "duration": 38,
        "start_time": "2023-02-02T11:32:14.529Z"
      },
      {
        "duration": 17,
        "start_time": "2023-02-02T11:32:14.568Z"
      },
      {
        "duration": 3,
        "start_time": "2023-02-02T11:32:14.587Z"
      },
      {
        "duration": 12,
        "start_time": "2023-02-02T11:32:14.593Z"
      },
      {
        "duration": 5,
        "start_time": "2023-02-02T11:32:14.606Z"
      },
      {
        "duration": 4,
        "start_time": "2023-02-02T11:32:14.613Z"
      },
      {
        "duration": 41,
        "start_time": "2023-02-02T11:32:14.618Z"
      },
      {
        "duration": 3,
        "start_time": "2023-02-02T11:32:14.661Z"
      },
      {
        "duration": 13,
        "start_time": "2023-02-02T11:32:14.666Z"
      },
      {
        "duration": 0,
        "start_time": "2023-02-02T11:32:14.680Z"
      },
      {
        "duration": 0,
        "start_time": "2023-02-02T11:32:14.681Z"
      },
      {
        "duration": 0,
        "start_time": "2023-02-02T11:32:14.682Z"
      },
      {
        "duration": 20,
        "start_time": "2023-02-02T11:32:54.097Z"
      },
      {
        "duration": 9,
        "start_time": "2023-02-02T11:33:22.997Z"
      },
      {
        "duration": 46,
        "start_time": "2023-02-05T13:49:52.389Z"
      },
      {
        "duration": 787,
        "start_time": "2023-02-05T13:50:09.240Z"
      },
      {
        "duration": 24,
        "start_time": "2023-02-05T13:50:10.029Z"
      },
      {
        "duration": 43,
        "start_time": "2023-02-05T13:50:10.055Z"
      },
      {
        "duration": 10,
        "start_time": "2023-02-05T13:50:10.100Z"
      },
      {
        "duration": 43,
        "start_time": "2023-02-05T13:50:10.112Z"
      },
      {
        "duration": 4,
        "start_time": "2023-02-05T13:50:10.161Z"
      },
      {
        "duration": 23,
        "start_time": "2023-02-05T13:50:10.168Z"
      },
      {
        "duration": 9,
        "start_time": "2023-02-05T13:50:10.193Z"
      },
      {
        "duration": 20,
        "start_time": "2023-02-05T13:50:10.205Z"
      },
      {
        "duration": 5,
        "start_time": "2023-02-05T13:50:10.228Z"
      },
      {
        "duration": 55,
        "start_time": "2023-02-05T13:50:10.235Z"
      },
      {
        "duration": 14,
        "start_time": "2023-02-05T13:50:10.292Z"
      },
      {
        "duration": 4,
        "start_time": "2023-02-05T13:50:10.308Z"
      },
      {
        "duration": 38,
        "start_time": "2023-02-05T13:50:10.315Z"
      },
      {
        "duration": 30,
        "start_time": "2023-02-05T13:50:10.355Z"
      },
      {
        "duration": 20,
        "start_time": "2023-02-05T13:50:10.387Z"
      },
      {
        "duration": 3,
        "start_time": "2023-02-05T13:50:10.409Z"
      },
      {
        "duration": 14,
        "start_time": "2023-02-05T13:50:10.413Z"
      },
      {
        "duration": 11,
        "start_time": "2023-02-05T13:50:10.429Z"
      },
      {
        "duration": 17,
        "start_time": "2023-02-05T13:50:10.442Z"
      },
      {
        "duration": 29,
        "start_time": "2023-02-05T13:50:10.472Z"
      },
      {
        "duration": 48,
        "start_time": "2023-02-05T13:50:10.503Z"
      },
      {
        "duration": 74,
        "start_time": "2023-02-05T13:50:29.160Z"
      },
      {
        "duration": 31,
        "start_time": "2023-02-05T13:50:29.236Z"
      },
      {
        "duration": 24,
        "start_time": "2023-02-05T13:50:29.268Z"
      },
      {
        "duration": 11,
        "start_time": "2023-02-05T13:50:29.294Z"
      },
      {
        "duration": 36,
        "start_time": "2023-02-05T13:50:29.308Z"
      },
      {
        "duration": 7,
        "start_time": "2023-02-05T13:50:29.346Z"
      },
      {
        "duration": 30,
        "start_time": "2023-02-05T13:50:29.358Z"
      },
      {
        "duration": 7,
        "start_time": "2023-02-05T13:50:29.390Z"
      },
      {
        "duration": 17,
        "start_time": "2023-02-05T13:50:29.398Z"
      },
      {
        "duration": 13,
        "start_time": "2023-02-05T13:50:29.416Z"
      },
      {
        "duration": 60,
        "start_time": "2023-02-05T13:50:29.430Z"
      },
      {
        "duration": 9,
        "start_time": "2023-02-05T13:50:29.492Z"
      },
      {
        "duration": 8,
        "start_time": "2023-02-05T13:50:29.502Z"
      },
      {
        "duration": 18,
        "start_time": "2023-02-05T13:50:29.512Z"
      },
      {
        "duration": 35,
        "start_time": "2023-02-05T13:50:29.531Z"
      },
      {
        "duration": 19,
        "start_time": "2023-02-05T13:50:29.571Z"
      },
      {
        "duration": 4,
        "start_time": "2023-02-05T13:50:29.592Z"
      },
      {
        "duration": 29,
        "start_time": "2023-02-05T13:50:29.598Z"
      },
      {
        "duration": 22,
        "start_time": "2023-02-05T13:50:29.628Z"
      },
      {
        "duration": 36,
        "start_time": "2023-02-05T13:50:29.655Z"
      },
      {
        "duration": 11,
        "start_time": "2023-02-05T13:50:29.693Z"
      },
      {
        "duration": 1096,
        "start_time": "2023-02-05T13:50:29.705Z"
      },
      {
        "duration": 80,
        "start_time": "2023-02-05T13:51:04.702Z"
      },
      {
        "duration": 16,
        "start_time": "2023-02-05T13:51:04.785Z"
      },
      {
        "duration": 26,
        "start_time": "2023-02-05T13:51:04.803Z"
      },
      {
        "duration": 24,
        "start_time": "2023-02-05T13:51:04.831Z"
      },
      {
        "duration": 59,
        "start_time": "2023-02-05T13:51:04.861Z"
      },
      {
        "duration": 4,
        "start_time": "2023-02-05T13:51:04.922Z"
      },
      {
        "duration": 16,
        "start_time": "2023-02-05T13:51:04.928Z"
      },
      {
        "duration": 37,
        "start_time": "2023-02-05T13:51:04.946Z"
      },
      {
        "duration": 33,
        "start_time": "2023-02-05T13:51:04.989Z"
      },
      {
        "duration": 30,
        "start_time": "2023-02-05T13:51:05.025Z"
      },
      {
        "duration": 93,
        "start_time": "2023-02-05T13:51:05.058Z"
      },
      {
        "duration": 59,
        "start_time": "2023-02-05T13:51:05.161Z"
      },
      {
        "duration": 49,
        "start_time": "2023-02-05T13:51:05.222Z"
      },
      {
        "duration": 42,
        "start_time": "2023-02-05T13:51:05.280Z"
      },
      {
        "duration": 44,
        "start_time": "2023-02-05T13:51:05.323Z"
      },
      {
        "duration": 50,
        "start_time": "2023-02-05T13:51:05.369Z"
      },
      {
        "duration": 4,
        "start_time": "2023-02-05T13:51:05.421Z"
      },
      {
        "duration": 51,
        "start_time": "2023-02-05T13:51:05.427Z"
      },
      {
        "duration": 10,
        "start_time": "2023-02-05T13:51:05.480Z"
      },
      {
        "duration": 13,
        "start_time": "2023-02-05T13:51:05.491Z"
      },
      {
        "duration": 11,
        "start_time": "2023-02-05T13:51:05.506Z"
      },
      {
        "duration": 15,
        "start_time": "2023-02-05T13:51:05.518Z"
      },
      {
        "duration": 95,
        "start_time": "2023-02-05T13:52:04.932Z"
      },
      {
        "duration": 23,
        "start_time": "2023-02-05T13:52:05.029Z"
      },
      {
        "duration": 45,
        "start_time": "2023-02-05T13:52:05.057Z"
      },
      {
        "duration": 15,
        "start_time": "2023-02-05T13:52:05.104Z"
      },
      {
        "duration": 48,
        "start_time": "2023-02-05T13:52:05.121Z"
      },
      {
        "duration": 7,
        "start_time": "2023-02-05T13:52:05.171Z"
      },
      {
        "duration": 17,
        "start_time": "2023-02-05T13:52:05.180Z"
      },
      {
        "duration": 15,
        "start_time": "2023-02-05T13:52:05.199Z"
      },
      {
        "duration": 11,
        "start_time": "2023-02-05T13:52:05.215Z"
      },
      {
        "duration": 11,
        "start_time": "2023-02-05T13:52:05.228Z"
      },
      {
        "duration": 63,
        "start_time": "2023-02-05T13:52:05.241Z"
      },
      {
        "duration": 9,
        "start_time": "2023-02-05T13:52:05.306Z"
      },
      {
        "duration": 17,
        "start_time": "2023-02-05T13:52:05.317Z"
      },
      {
        "duration": 26,
        "start_time": "2023-02-05T13:52:05.336Z"
      },
      {
        "duration": 34,
        "start_time": "2023-02-05T13:52:05.364Z"
      },
      {
        "duration": 15,
        "start_time": "2023-02-05T13:52:05.400Z"
      },
      {
        "duration": 4,
        "start_time": "2023-02-05T13:52:05.416Z"
      },
      {
        "duration": 15,
        "start_time": "2023-02-05T13:52:05.421Z"
      },
      {
        "duration": 10,
        "start_time": "2023-02-05T13:52:05.437Z"
      },
      {
        "duration": 25,
        "start_time": "2023-02-05T13:52:05.451Z"
      },
      {
        "duration": 13,
        "start_time": "2023-02-05T13:52:05.478Z"
      },
      {
        "duration": 23,
        "start_time": "2023-02-05T13:52:05.492Z"
      },
      {
        "duration": 23,
        "start_time": "2023-02-05T13:52:30.405Z"
      },
      {
        "duration": 21,
        "start_time": "2023-02-05T13:52:52.925Z"
      },
      {
        "duration": 9,
        "start_time": "2023-02-05T13:53:01.493Z"
      },
      {
        "duration": 10,
        "start_time": "2023-02-05T13:53:07.332Z"
      },
      {
        "duration": 17,
        "start_time": "2023-02-05T13:53:12.400Z"
      },
      {
        "duration": 18,
        "start_time": "2023-02-05T13:54:16.702Z"
      },
      {
        "duration": 11,
        "start_time": "2023-02-05T13:56:32.002Z"
      },
      {
        "duration": 75,
        "start_time": "2023-02-05T13:56:58.776Z"
      },
      {
        "duration": 17,
        "start_time": "2023-02-05T13:56:58.853Z"
      },
      {
        "duration": 13,
        "start_time": "2023-02-05T13:56:58.871Z"
      },
      {
        "duration": 8,
        "start_time": "2023-02-05T13:56:58.886Z"
      },
      {
        "duration": 63,
        "start_time": "2023-02-05T13:56:58.896Z"
      },
      {
        "duration": 3,
        "start_time": "2023-02-05T13:56:58.960Z"
      },
      {
        "duration": 10,
        "start_time": "2023-02-05T13:56:58.965Z"
      },
      {
        "duration": 6,
        "start_time": "2023-02-05T13:56:58.977Z"
      },
      {
        "duration": 11,
        "start_time": "2023-02-05T13:56:58.984Z"
      },
      {
        "duration": 7,
        "start_time": "2023-02-05T13:56:58.998Z"
      },
      {
        "duration": 43,
        "start_time": "2023-02-05T13:56:59.006Z"
      },
      {
        "duration": 15,
        "start_time": "2023-02-05T13:56:59.050Z"
      },
      {
        "duration": 4,
        "start_time": "2023-02-05T13:56:59.066Z"
      },
      {
        "duration": 15,
        "start_time": "2023-02-05T13:56:59.071Z"
      },
      {
        "duration": 18,
        "start_time": "2023-02-05T13:56:59.087Z"
      },
      {
        "duration": 16,
        "start_time": "2023-02-05T13:56:59.107Z"
      },
      {
        "duration": 7,
        "start_time": "2023-02-05T13:56:59.146Z"
      },
      {
        "duration": 19,
        "start_time": "2023-02-05T13:56:59.155Z"
      },
      {
        "duration": 9,
        "start_time": "2023-02-05T13:56:59.176Z"
      },
      {
        "duration": 4,
        "start_time": "2023-02-05T13:56:59.187Z"
      },
      {
        "duration": 15,
        "start_time": "2023-02-05T13:56:59.193Z"
      },
      {
        "duration": 28,
        "start_time": "2023-02-05T13:56:59.210Z"
      },
      {
        "duration": 14,
        "start_time": "2023-02-05T13:56:59.243Z"
      },
      {
        "duration": 16,
        "start_time": "2023-02-05T13:59:24.004Z"
      },
      {
        "duration": 69,
        "start_time": "2023-02-05T13:59:32.872Z"
      },
      {
        "duration": 25,
        "start_time": "2023-02-05T13:59:32.943Z"
      },
      {
        "duration": 22,
        "start_time": "2023-02-05T13:59:32.970Z"
      },
      {
        "duration": 9,
        "start_time": "2023-02-05T13:59:32.993Z"
      },
      {
        "duration": 52,
        "start_time": "2023-02-05T13:59:33.005Z"
      },
      {
        "duration": 4,
        "start_time": "2023-02-05T13:59:33.059Z"
      },
      {
        "duration": 13,
        "start_time": "2023-02-05T13:59:33.064Z"
      },
      {
        "duration": 7,
        "start_time": "2023-02-05T13:59:33.078Z"
      },
      {
        "duration": 25,
        "start_time": "2023-02-05T13:59:33.087Z"
      },
      {
        "duration": 8,
        "start_time": "2023-02-05T13:59:33.114Z"
      },
      {
        "duration": 50,
        "start_time": "2023-02-05T13:59:33.124Z"
      },
      {
        "duration": 13,
        "start_time": "2023-02-05T13:59:33.177Z"
      },
      {
        "duration": 5,
        "start_time": "2023-02-05T13:59:33.192Z"
      },
      {
        "duration": 12,
        "start_time": "2023-02-05T13:59:33.200Z"
      },
      {
        "duration": 44,
        "start_time": "2023-02-05T13:59:33.214Z"
      },
      {
        "duration": 24,
        "start_time": "2023-02-05T13:59:33.260Z"
      },
      {
        "duration": 4,
        "start_time": "2023-02-05T13:59:33.286Z"
      },
      {
        "duration": 26,
        "start_time": "2023-02-05T13:59:33.292Z"
      },
      {
        "duration": 8,
        "start_time": "2023-02-05T13:59:33.320Z"
      },
      {
        "duration": 16,
        "start_time": "2023-02-05T13:59:33.329Z"
      },
      {
        "duration": 28,
        "start_time": "2023-02-05T13:59:33.346Z"
      },
      {
        "duration": 28,
        "start_time": "2023-02-05T13:59:33.376Z"
      },
      {
        "duration": 13,
        "start_time": "2023-02-05T13:59:33.406Z"
      },
      {
        "duration": 80,
        "start_time": "2023-02-05T14:00:50.311Z"
      },
      {
        "duration": 16,
        "start_time": "2023-02-05T14:00:50.393Z"
      },
      {
        "duration": 20,
        "start_time": "2023-02-05T14:00:50.410Z"
      },
      {
        "duration": 26,
        "start_time": "2023-02-05T14:00:50.443Z"
      },
      {
        "duration": 37,
        "start_time": "2023-02-05T14:00:50.471Z"
      },
      {
        "duration": 4,
        "start_time": "2023-02-05T14:00:50.510Z"
      },
      {
        "duration": 25,
        "start_time": "2023-02-05T14:00:50.516Z"
      },
      {
        "duration": 30,
        "start_time": "2023-02-05T14:00:50.544Z"
      },
      {
        "duration": 19,
        "start_time": "2023-02-05T14:00:50.576Z"
      },
      {
        "duration": 12,
        "start_time": "2023-02-05T14:00:50.598Z"
      },
      {
        "duration": 51,
        "start_time": "2023-02-05T14:00:50.613Z"
      },
      {
        "duration": 11,
        "start_time": "2023-02-05T14:00:50.666Z"
      },
      {
        "duration": 8,
        "start_time": "2023-02-05T14:00:50.679Z"
      },
      {
        "duration": 25,
        "start_time": "2023-02-05T14:00:50.689Z"
      },
      {
        "duration": 44,
        "start_time": "2023-02-05T14:00:50.717Z"
      },
      {
        "duration": 17,
        "start_time": "2023-02-05T14:00:50.764Z"
      },
      {
        "duration": 3,
        "start_time": "2023-02-05T14:00:50.783Z"
      },
      {
        "duration": 40,
        "start_time": "2023-02-05T14:00:50.788Z"
      },
      {
        "duration": 17,
        "start_time": "2023-02-05T14:00:50.830Z"
      },
      {
        "duration": 24,
        "start_time": "2023-02-05T14:00:50.848Z"
      },
      {
        "duration": 16,
        "start_time": "2023-02-05T14:00:50.873Z"
      },
      {
        "duration": 43,
        "start_time": "2023-02-05T14:00:50.891Z"
      },
      {
        "duration": 19,
        "start_time": "2023-02-05T14:00:50.935Z"
      },
      {
        "duration": 46,
        "start_time": "2023-02-05T14:00:50.956Z"
      },
      {
        "duration": 0,
        "start_time": "2023-02-05T14:00:51.003Z"
      },
      {
        "duration": 0,
        "start_time": "2023-02-05T14:00:51.005Z"
      },
      {
        "duration": 9,
        "start_time": "2023-02-05T14:02:01.802Z"
      },
      {
        "duration": 86,
        "start_time": "2023-02-05T14:02:21.705Z"
      },
      {
        "duration": 17,
        "start_time": "2023-02-05T14:02:21.793Z"
      },
      {
        "duration": 62,
        "start_time": "2023-02-05T14:02:21.812Z"
      },
      {
        "duration": 20,
        "start_time": "2023-02-05T14:02:21.876Z"
      },
      {
        "duration": 40,
        "start_time": "2023-02-05T14:02:21.898Z"
      },
      {
        "duration": 9,
        "start_time": "2023-02-05T14:02:21.940Z"
      },
      {
        "duration": 30,
        "start_time": "2023-02-05T14:02:21.952Z"
      },
      {
        "duration": 13,
        "start_time": "2023-02-05T14:02:21.985Z"
      },
      {
        "duration": 8,
        "start_time": "2023-02-05T14:02:22.000Z"
      },
      {
        "duration": 30,
        "start_time": "2023-02-05T14:02:22.010Z"
      },
      {
        "duration": 59,
        "start_time": "2023-02-05T14:02:22.042Z"
      },
      {
        "duration": 19,
        "start_time": "2023-02-05T14:02:22.103Z"
      },
      {
        "duration": 65,
        "start_time": "2023-02-05T14:02:22.125Z"
      },
      {
        "duration": 23,
        "start_time": "2023-02-05T14:02:22.193Z"
      },
      {
        "duration": 87,
        "start_time": "2023-02-05T14:02:22.221Z"
      },
      {
        "duration": 20,
        "start_time": "2023-02-05T14:02:22.310Z"
      },
      {
        "duration": 4,
        "start_time": "2023-02-05T14:02:22.332Z"
      },
      {
        "duration": 43,
        "start_time": "2023-02-05T14:02:22.338Z"
      },
      {
        "duration": 20,
        "start_time": "2023-02-05T14:02:22.383Z"
      },
      {
        "duration": 12,
        "start_time": "2023-02-05T14:02:22.405Z"
      },
      {
        "duration": 17,
        "start_time": "2023-02-05T14:02:22.419Z"
      },
      {
        "duration": 53,
        "start_time": "2023-02-05T14:02:22.438Z"
      },
      {
        "duration": 14,
        "start_time": "2023-02-05T14:02:22.493Z"
      },
      {
        "duration": 94,
        "start_time": "2023-02-05T14:03:12.544Z"
      },
      {
        "duration": 24,
        "start_time": "2023-02-05T14:03:12.641Z"
      },
      {
        "duration": 21,
        "start_time": "2023-02-05T14:03:12.668Z"
      },
      {
        "duration": 14,
        "start_time": "2023-02-05T14:03:12.692Z"
      },
      {
        "duration": 62,
        "start_time": "2023-02-05T14:03:12.708Z"
      },
      {
        "duration": 4,
        "start_time": "2023-02-05T14:03:12.772Z"
      },
      {
        "duration": 16,
        "start_time": "2023-02-05T14:03:12.778Z"
      },
      {
        "duration": 7,
        "start_time": "2023-02-05T14:03:12.797Z"
      },
      {
        "duration": 11,
        "start_time": "2023-02-05T14:03:12.805Z"
      },
      {
        "duration": 10,
        "start_time": "2023-02-05T14:03:12.817Z"
      },
      {
        "duration": 51,
        "start_time": "2023-02-05T14:03:12.829Z"
      },
      {
        "duration": 16,
        "start_time": "2023-02-05T14:03:12.882Z"
      },
      {
        "duration": 7,
        "start_time": "2023-02-05T14:03:12.900Z"
      },
      {
        "duration": 40,
        "start_time": "2023-02-05T14:03:12.911Z"
      },
      {
        "duration": 49,
        "start_time": "2023-02-05T14:03:12.953Z"
      },
      {
        "duration": 26,
        "start_time": "2023-02-05T14:03:13.004Z"
      },
      {
        "duration": 5,
        "start_time": "2023-02-05T14:03:13.033Z"
      },
      {
        "duration": 41,
        "start_time": "2023-02-05T14:03:13.045Z"
      },
      {
        "duration": 8,
        "start_time": "2023-02-05T14:03:13.088Z"
      },
      {
        "duration": 7,
        "start_time": "2023-02-05T14:03:13.098Z"
      },
      {
        "duration": 25,
        "start_time": "2023-02-05T14:03:13.106Z"
      },
      {
        "duration": 39,
        "start_time": "2023-02-05T14:03:13.134Z"
      },
      {
        "duration": 23,
        "start_time": "2023-02-05T14:03:13.175Z"
      },
      {
        "duration": 82,
        "start_time": "2023-02-05T14:03:59.680Z"
      },
      {
        "duration": 19,
        "start_time": "2023-02-05T14:03:59.765Z"
      },
      {
        "duration": 21,
        "start_time": "2023-02-05T14:03:59.786Z"
      },
      {
        "duration": 10,
        "start_time": "2023-02-05T14:03:59.809Z"
      },
      {
        "duration": 59,
        "start_time": "2023-02-05T14:03:59.821Z"
      },
      {
        "duration": 4,
        "start_time": "2023-02-05T14:03:59.882Z"
      },
      {
        "duration": 14,
        "start_time": "2023-02-05T14:03:59.888Z"
      },
      {
        "duration": 15,
        "start_time": "2023-02-05T14:03:59.904Z"
      },
      {
        "duration": 14,
        "start_time": "2023-02-05T14:03:59.921Z"
      },
      {
        "duration": 8,
        "start_time": "2023-02-05T14:03:59.938Z"
      },
      {
        "duration": 56,
        "start_time": "2023-02-05T14:03:59.950Z"
      },
      {
        "duration": 12,
        "start_time": "2023-02-05T14:04:00.008Z"
      },
      {
        "duration": 11,
        "start_time": "2023-02-05T14:04:00.022Z"
      },
      {
        "duration": 36,
        "start_time": "2023-02-05T14:04:00.035Z"
      },
      {
        "duration": 36,
        "start_time": "2023-02-05T14:04:00.073Z"
      },
      {
        "duration": 19,
        "start_time": "2023-02-05T14:04:00.111Z"
      },
      {
        "duration": 93,
        "start_time": "2023-02-05T14:04:00.132Z"
      },
      {
        "duration": 69,
        "start_time": "2023-02-05T14:04:00.227Z"
      },
      {
        "duration": 68,
        "start_time": "2023-02-05T14:04:00.298Z"
      },
      {
        "duration": 47,
        "start_time": "2023-02-05T14:04:00.368Z"
      },
      {
        "duration": 72,
        "start_time": "2023-02-05T14:04:00.418Z"
      },
      {
        "duration": 61,
        "start_time": "2023-02-05T14:04:00.493Z"
      },
      {
        "duration": 26,
        "start_time": "2023-02-05T14:04:00.556Z"
      },
      {
        "duration": 64,
        "start_time": "2023-02-05T14:04:00.585Z"
      },
      {
        "duration": 9,
        "start_time": "2023-02-05T14:04:37.066Z"
      },
      {
        "duration": 91,
        "start_time": "2023-02-05T14:04:44.387Z"
      },
      {
        "duration": 20,
        "start_time": "2023-02-05T14:04:44.481Z"
      },
      {
        "duration": 30,
        "start_time": "2023-02-05T14:04:44.502Z"
      },
      {
        "duration": 30,
        "start_time": "2023-02-05T14:04:44.534Z"
      },
      {
        "duration": 70,
        "start_time": "2023-02-05T14:04:44.566Z"
      },
      {
        "duration": 12,
        "start_time": "2023-02-05T14:04:44.638Z"
      },
      {
        "duration": 26,
        "start_time": "2023-02-05T14:04:44.651Z"
      },
      {
        "duration": 17,
        "start_time": "2023-02-05T14:04:44.678Z"
      },
      {
        "duration": 32,
        "start_time": "2023-02-05T14:04:44.697Z"
      },
      {
        "duration": 50,
        "start_time": "2023-02-05T14:04:44.733Z"
      },
      {
        "duration": 53,
        "start_time": "2023-02-05T14:04:44.786Z"
      },
      {
        "duration": 20,
        "start_time": "2023-02-05T14:04:44.841Z"
      },
      {
        "duration": 38,
        "start_time": "2023-02-05T14:04:44.863Z"
      },
      {
        "duration": 35,
        "start_time": "2023-02-05T14:04:44.903Z"
      },
      {
        "duration": 61,
        "start_time": "2023-02-05T14:04:44.940Z"
      },
      {
        "duration": 29,
        "start_time": "2023-02-05T14:04:45.004Z"
      },
      {
        "duration": 32,
        "start_time": "2023-02-05T14:04:45.035Z"
      },
      {
        "duration": 36,
        "start_time": "2023-02-05T14:04:45.072Z"
      },
      {
        "duration": 24,
        "start_time": "2023-02-05T14:04:45.110Z"
      },
      {
        "duration": 43,
        "start_time": "2023-02-05T14:04:45.136Z"
      },
      {
        "duration": 25,
        "start_time": "2023-02-05T14:04:45.181Z"
      },
      {
        "duration": 55,
        "start_time": "2023-02-05T14:04:45.208Z"
      },
      {
        "duration": 12,
        "start_time": "2023-02-05T14:04:45.267Z"
      },
      {
        "duration": 53,
        "start_time": "2023-02-05T14:04:45.281Z"
      },
      {
        "duration": 93,
        "start_time": "2023-02-05T14:05:02.971Z"
      },
      {
        "duration": 16,
        "start_time": "2023-02-05T14:05:03.067Z"
      },
      {
        "duration": 35,
        "start_time": "2023-02-05T14:05:03.085Z"
      },
      {
        "duration": 9,
        "start_time": "2023-02-05T14:05:03.123Z"
      },
      {
        "duration": 42,
        "start_time": "2023-02-05T14:05:03.134Z"
      },
      {
        "duration": 3,
        "start_time": "2023-02-05T14:05:03.178Z"
      },
      {
        "duration": 9,
        "start_time": "2023-02-05T14:05:03.182Z"
      },
      {
        "duration": 4,
        "start_time": "2023-02-05T14:05:03.193Z"
      },
      {
        "duration": 10,
        "start_time": "2023-02-05T14:05:03.199Z"
      },
      {
        "duration": 36,
        "start_time": "2023-02-05T14:05:03.211Z"
      },
      {
        "duration": 101,
        "start_time": "2023-02-05T14:05:03.255Z"
      },
      {
        "duration": 10,
        "start_time": "2023-02-05T14:05:03.361Z"
      },
      {
        "duration": 5,
        "start_time": "2023-02-05T14:05:03.373Z"
      },
      {
        "duration": 13,
        "start_time": "2023-02-05T14:05:03.380Z"
      },
      {
        "duration": 21,
        "start_time": "2023-02-05T14:05:03.394Z"
      },
      {
        "duration": 33,
        "start_time": "2023-02-05T14:05:03.416Z"
      },
      {
        "duration": 6,
        "start_time": "2023-02-05T14:05:03.451Z"
      },
      {
        "duration": 21,
        "start_time": "2023-02-05T14:05:03.459Z"
      },
      {
        "duration": 14,
        "start_time": "2023-02-05T14:05:03.482Z"
      },
      {
        "duration": 4,
        "start_time": "2023-02-05T14:05:03.498Z"
      },
      {
        "duration": 20,
        "start_time": "2023-02-05T14:05:03.504Z"
      },
      {
        "duration": 40,
        "start_time": "2023-02-05T14:05:03.526Z"
      },
      {
        "duration": 17,
        "start_time": "2023-02-05T14:05:03.568Z"
      },
      {
        "duration": 37,
        "start_time": "2023-02-05T14:05:03.588Z"
      },
      {
        "duration": 33,
        "start_time": "2023-02-05T14:05:03.628Z"
      },
      {
        "duration": 21,
        "start_time": "2023-02-05T14:05:03.665Z"
      },
      {
        "duration": 789,
        "start_time": "2023-02-05T14:07:10.978Z"
      },
      {
        "duration": 77,
        "start_time": "2023-02-05T14:07:18.606Z"
      },
      {
        "duration": 15,
        "start_time": "2023-02-05T14:07:18.686Z"
      },
      {
        "duration": 19,
        "start_time": "2023-02-05T14:07:18.703Z"
      },
      {
        "duration": 31,
        "start_time": "2023-02-05T14:07:18.724Z"
      },
      {
        "duration": 32,
        "start_time": "2023-02-05T14:07:18.761Z"
      },
      {
        "duration": 3,
        "start_time": "2023-02-05T14:07:18.795Z"
      },
      {
        "duration": 13,
        "start_time": "2023-02-05T14:07:18.800Z"
      },
      {
        "duration": 13,
        "start_time": "2023-02-05T14:07:18.815Z"
      },
      {
        "duration": 6,
        "start_time": "2023-02-05T14:07:18.830Z"
      },
      {
        "duration": 15,
        "start_time": "2023-02-05T14:07:18.838Z"
      },
      {
        "duration": 38,
        "start_time": "2023-02-05T14:07:18.859Z"
      },
      {
        "duration": 10,
        "start_time": "2023-02-05T14:07:18.898Z"
      },
      {
        "duration": 6,
        "start_time": "2023-02-05T14:07:18.909Z"
      },
      {
        "duration": 13,
        "start_time": "2023-02-05T14:07:18.916Z"
      },
      {
        "duration": 27,
        "start_time": "2023-02-05T14:07:18.931Z"
      },
      {
        "duration": 20,
        "start_time": "2023-02-05T14:07:18.961Z"
      },
      {
        "duration": 5,
        "start_time": "2023-02-05T14:07:18.983Z"
      },
      {
        "duration": 22,
        "start_time": "2023-02-05T14:07:18.989Z"
      },
      {
        "duration": 8,
        "start_time": "2023-02-05T14:07:19.013Z"
      },
      {
        "duration": 12,
        "start_time": "2023-02-05T14:07:19.024Z"
      },
      {
        "duration": 35,
        "start_time": "2023-02-05T14:07:19.046Z"
      },
      {
        "duration": 26,
        "start_time": "2023-02-05T14:07:19.084Z"
      },
      {
        "duration": 14,
        "start_time": "2023-02-05T14:07:19.112Z"
      },
      {
        "duration": 44,
        "start_time": "2023-02-05T14:07:19.128Z"
      },
      {
        "duration": 82,
        "start_time": "2023-02-05T14:16:08.402Z"
      },
      {
        "duration": 15,
        "start_time": "2023-02-05T14:16:08.486Z"
      },
      {
        "duration": 17,
        "start_time": "2023-02-05T14:16:08.502Z"
      },
      {
        "duration": 30,
        "start_time": "2023-02-05T14:16:08.521Z"
      },
      {
        "duration": 36,
        "start_time": "2023-02-05T14:16:08.553Z"
      },
      {
        "duration": 4,
        "start_time": "2023-02-05T14:16:08.590Z"
      },
      {
        "duration": 20,
        "start_time": "2023-02-05T14:16:08.596Z"
      },
      {
        "duration": 5,
        "start_time": "2023-02-05T14:16:08.618Z"
      },
      {
        "duration": 26,
        "start_time": "2023-02-05T14:16:08.625Z"
      },
      {
        "duration": 25,
        "start_time": "2023-02-05T14:16:08.653Z"
      },
      {
        "duration": 39,
        "start_time": "2023-02-05T14:16:08.679Z"
      },
      {
        "duration": 13,
        "start_time": "2023-02-05T14:16:08.720Z"
      },
      {
        "duration": 21,
        "start_time": "2023-02-05T14:16:08.735Z"
      },
      {
        "duration": 15,
        "start_time": "2023-02-05T14:16:08.759Z"
      },
      {
        "duration": 32,
        "start_time": "2023-02-05T14:16:08.777Z"
      },
      {
        "duration": 19,
        "start_time": "2023-02-05T14:16:08.811Z"
      },
      {
        "duration": 4,
        "start_time": "2023-02-05T14:16:08.831Z"
      },
      {
        "duration": 29,
        "start_time": "2023-02-05T14:16:08.836Z"
      },
      {
        "duration": 18,
        "start_time": "2023-02-05T14:16:08.867Z"
      },
      {
        "duration": 7,
        "start_time": "2023-02-05T14:16:08.887Z"
      },
      {
        "duration": 16,
        "start_time": "2023-02-05T14:16:08.895Z"
      },
      {
        "duration": 23,
        "start_time": "2023-02-05T14:16:08.913Z"
      },
      {
        "duration": 16,
        "start_time": "2023-02-05T14:16:08.937Z"
      },
      {
        "duration": 50,
        "start_time": "2023-02-05T14:16:08.955Z"
      },
      {
        "duration": 82,
        "start_time": "2023-02-05T14:17:26.657Z"
      },
      {
        "duration": 24,
        "start_time": "2023-02-05T14:17:26.741Z"
      },
      {
        "duration": 36,
        "start_time": "2023-02-05T14:17:26.766Z"
      },
      {
        "duration": 12,
        "start_time": "2023-02-05T14:17:26.804Z"
      },
      {
        "duration": 51,
        "start_time": "2023-02-05T14:17:26.818Z"
      },
      {
        "duration": 4,
        "start_time": "2023-02-05T14:17:26.870Z"
      },
      {
        "duration": 21,
        "start_time": "2023-02-05T14:17:26.876Z"
      },
      {
        "duration": 16,
        "start_time": "2023-02-05T14:17:26.898Z"
      },
      {
        "duration": 20,
        "start_time": "2023-02-05T14:17:26.915Z"
      },
      {
        "duration": 34,
        "start_time": "2023-02-05T14:17:26.936Z"
      },
      {
        "duration": 43,
        "start_time": "2023-02-05T14:17:26.971Z"
      },
      {
        "duration": 15,
        "start_time": "2023-02-05T14:17:27.016Z"
      },
      {
        "duration": 22,
        "start_time": "2023-02-05T14:17:27.032Z"
      },
      {
        "duration": 31,
        "start_time": "2023-02-05T14:17:27.057Z"
      },
      {
        "duration": 23,
        "start_time": "2023-02-05T14:17:27.090Z"
      },
      {
        "duration": 26,
        "start_time": "2023-02-05T14:17:27.115Z"
      },
      {
        "duration": 9,
        "start_time": "2023-02-05T14:17:27.143Z"
      },
      {
        "duration": 43,
        "start_time": "2023-02-05T14:17:27.154Z"
      },
      {
        "duration": 8,
        "start_time": "2023-02-05T14:17:27.200Z"
      },
      {
        "duration": 4,
        "start_time": "2023-02-05T14:17:27.210Z"
      },
      {
        "duration": 14,
        "start_time": "2023-02-05T14:17:27.216Z"
      },
      {
        "duration": 100,
        "start_time": "2023-02-05T14:17:27.232Z"
      },
      {
        "duration": 16,
        "start_time": "2023-02-05T14:17:27.334Z"
      },
      {
        "duration": 52,
        "start_time": "2023-02-05T14:17:27.355Z"
      },
      {
        "duration": 1072,
        "start_time": "2023-02-05T14:17:27.409Z"
      },
      {
        "duration": 107,
        "start_time": "2023-02-05T14:17:42.530Z"
      },
      {
        "duration": 25,
        "start_time": "2023-02-05T14:17:42.640Z"
      },
      {
        "duration": 16,
        "start_time": "2023-02-05T14:17:42.667Z"
      },
      {
        "duration": 9,
        "start_time": "2023-02-05T14:17:42.685Z"
      },
      {
        "duration": 62,
        "start_time": "2023-02-05T14:17:42.695Z"
      },
      {
        "duration": 4,
        "start_time": "2023-02-05T14:17:42.759Z"
      },
      {
        "duration": 13,
        "start_time": "2023-02-05T14:17:42.765Z"
      },
      {
        "duration": 4,
        "start_time": "2023-02-05T14:17:42.780Z"
      },
      {
        "duration": 7,
        "start_time": "2023-02-05T14:17:42.786Z"
      },
      {
        "duration": 5,
        "start_time": "2023-02-05T14:17:42.796Z"
      },
      {
        "duration": 65,
        "start_time": "2023-02-05T14:17:42.803Z"
      },
      {
        "duration": 10,
        "start_time": "2023-02-05T14:17:42.870Z"
      },
      {
        "duration": 5,
        "start_time": "2023-02-05T14:17:42.881Z"
      },
      {
        "duration": 11,
        "start_time": "2023-02-05T14:17:42.888Z"
      },
      {
        "duration": 19,
        "start_time": "2023-02-05T14:17:42.901Z"
      },
      {
        "duration": 41,
        "start_time": "2023-02-05T14:17:42.922Z"
      },
      {
        "duration": 5,
        "start_time": "2023-02-05T14:17:42.965Z"
      },
      {
        "duration": 16,
        "start_time": "2023-02-05T14:17:42.972Z"
      },
      {
        "duration": 8,
        "start_time": "2023-02-05T14:17:42.997Z"
      },
      {
        "duration": 9,
        "start_time": "2023-02-05T14:17:43.007Z"
      },
      {
        "duration": 28,
        "start_time": "2023-02-05T14:17:43.018Z"
      },
      {
        "duration": 44,
        "start_time": "2023-02-05T14:17:43.052Z"
      },
      {
        "duration": 13,
        "start_time": "2023-02-05T14:17:43.098Z"
      },
      {
        "duration": 22,
        "start_time": "2023-02-05T14:17:43.113Z"
      },
      {
        "duration": 26,
        "start_time": "2023-02-05T14:17:43.137Z"
      },
      {
        "duration": 71,
        "start_time": "2023-02-05T14:20:28.378Z"
      },
      {
        "duration": 16,
        "start_time": "2023-02-05T14:20:28.454Z"
      },
      {
        "duration": 14,
        "start_time": "2023-02-05T14:20:28.472Z"
      },
      {
        "duration": 11,
        "start_time": "2023-02-05T14:20:28.487Z"
      },
      {
        "duration": 66,
        "start_time": "2023-02-05T14:20:28.501Z"
      },
      {
        "duration": 5,
        "start_time": "2023-02-05T14:20:28.569Z"
      },
      {
        "duration": 14,
        "start_time": "2023-02-05T14:20:28.576Z"
      },
      {
        "duration": 5,
        "start_time": "2023-02-05T14:20:28.592Z"
      },
      {
        "duration": 8,
        "start_time": "2023-02-05T14:20:28.599Z"
      },
      {
        "duration": 5,
        "start_time": "2023-02-05T14:20:28.609Z"
      },
      {
        "duration": 73,
        "start_time": "2023-02-05T14:20:28.615Z"
      },
      {
        "duration": 13,
        "start_time": "2023-02-05T14:20:28.691Z"
      },
      {
        "duration": 5,
        "start_time": "2023-02-05T14:20:28.706Z"
      },
      {
        "duration": 36,
        "start_time": "2023-02-05T14:20:28.714Z"
      },
      {
        "duration": 19,
        "start_time": "2023-02-05T14:20:28.758Z"
      },
      {
        "duration": 24,
        "start_time": "2023-02-05T14:20:28.778Z"
      },
      {
        "duration": 4,
        "start_time": "2023-02-05T14:20:28.804Z"
      },
      {
        "duration": 42,
        "start_time": "2023-02-05T14:20:28.810Z"
      },
      {
        "duration": 6,
        "start_time": "2023-02-05T14:20:28.860Z"
      },
      {
        "duration": 9,
        "start_time": "2023-02-05T14:20:28.868Z"
      },
      {
        "duration": 11,
        "start_time": "2023-02-05T14:20:28.878Z"
      },
      {
        "duration": 26,
        "start_time": "2023-02-05T14:20:28.891Z"
      },
      {
        "duration": 13,
        "start_time": "2023-02-05T14:20:28.919Z"
      },
      {
        "duration": 40,
        "start_time": "2023-02-05T14:20:28.946Z"
      },
      {
        "duration": 26,
        "start_time": "2023-02-05T14:20:28.988Z"
      },
      {
        "duration": 98,
        "start_time": "2023-02-05T14:21:40.293Z"
      },
      {
        "duration": 25,
        "start_time": "2023-02-05T14:21:40.394Z"
      },
      {
        "duration": 19,
        "start_time": "2023-02-05T14:21:40.421Z"
      },
      {
        "duration": 20,
        "start_time": "2023-02-05T14:21:40.441Z"
      },
      {
        "duration": 51,
        "start_time": "2023-02-05T14:21:40.465Z"
      },
      {
        "duration": 3,
        "start_time": "2023-02-05T14:21:40.518Z"
      },
      {
        "duration": 45,
        "start_time": "2023-02-05T14:21:40.522Z"
      },
      {
        "duration": 29,
        "start_time": "2023-02-05T14:21:40.568Z"
      },
      {
        "duration": 16,
        "start_time": "2023-02-05T14:21:40.599Z"
      },
      {
        "duration": 10,
        "start_time": "2023-02-05T14:21:40.617Z"
      },
      {
        "duration": 42,
        "start_time": "2023-02-05T14:21:40.629Z"
      },
      {
        "duration": 9,
        "start_time": "2023-02-05T14:21:40.673Z"
      },
      {
        "duration": 4,
        "start_time": "2023-02-05T14:21:40.684Z"
      },
      {
        "duration": 11,
        "start_time": "2023-02-05T14:21:40.691Z"
      },
      {
        "duration": 43,
        "start_time": "2023-02-05T14:21:40.703Z"
      },
      {
        "duration": 25,
        "start_time": "2023-02-05T14:21:40.748Z"
      },
      {
        "duration": 4,
        "start_time": "2023-02-05T14:21:40.774Z"
      },
      {
        "duration": 17,
        "start_time": "2023-02-05T14:21:40.779Z"
      },
      {
        "duration": 6,
        "start_time": "2023-02-05T14:21:40.798Z"
      },
      {
        "duration": 4,
        "start_time": "2023-02-05T14:21:40.806Z"
      },
      {
        "duration": 33,
        "start_time": "2023-02-05T14:21:40.812Z"
      },
      {
        "duration": 34,
        "start_time": "2023-02-05T14:21:40.854Z"
      },
      {
        "duration": 18,
        "start_time": "2023-02-05T14:21:40.890Z"
      },
      {
        "duration": 27,
        "start_time": "2023-02-05T14:21:40.909Z"
      },
      {
        "duration": 1481,
        "start_time": "2023-02-05T14:21:40.938Z"
      },
      {
        "duration": 96,
        "start_time": "2023-02-05T14:22:00.764Z"
      },
      {
        "duration": 21,
        "start_time": "2023-02-05T14:22:00.864Z"
      },
      {
        "duration": 65,
        "start_time": "2023-02-05T14:22:00.886Z"
      },
      {
        "duration": 62,
        "start_time": "2023-02-05T14:22:00.953Z"
      },
      {
        "duration": 61,
        "start_time": "2023-02-05T14:22:01.017Z"
      },
      {
        "duration": 29,
        "start_time": "2023-02-05T14:22:01.079Z"
      },
      {
        "duration": 27,
        "start_time": "2023-02-05T14:22:01.112Z"
      },
      {
        "duration": 49,
        "start_time": "2023-02-05T14:22:01.140Z"
      },
      {
        "duration": 23,
        "start_time": "2023-02-05T14:22:01.191Z"
      },
      {
        "duration": 29,
        "start_time": "2023-02-05T14:22:01.217Z"
      },
      {
        "duration": 65,
        "start_time": "2023-02-05T14:22:01.248Z"
      },
      {
        "duration": 10,
        "start_time": "2023-02-05T14:22:01.315Z"
      },
      {
        "duration": 45,
        "start_time": "2023-02-05T14:22:01.327Z"
      },
      {
        "duration": 33,
        "start_time": "2023-02-05T14:22:01.373Z"
      },
      {
        "duration": 31,
        "start_time": "2023-02-05T14:22:01.408Z"
      },
      {
        "duration": 25,
        "start_time": "2023-02-05T14:22:01.441Z"
      },
      {
        "duration": 12,
        "start_time": "2023-02-05T14:22:01.468Z"
      },
      {
        "duration": 37,
        "start_time": "2023-02-05T14:22:01.482Z"
      },
      {
        "duration": 58,
        "start_time": "2023-02-05T14:22:01.520Z"
      },
      {
        "duration": 26,
        "start_time": "2023-02-05T14:22:01.579Z"
      },
      {
        "duration": 18,
        "start_time": "2023-02-05T14:22:01.607Z"
      },
      {
        "duration": 39,
        "start_time": "2023-02-05T14:22:01.627Z"
      },
      {
        "duration": 38,
        "start_time": "2023-02-05T14:22:01.669Z"
      },
      {
        "duration": 57,
        "start_time": "2023-02-05T14:22:01.708Z"
      },
      {
        "duration": 197,
        "start_time": "2023-02-05T14:22:01.767Z"
      },
      {
        "duration": 180,
        "start_time": "2023-02-05T14:22:37.974Z"
      },
      {
        "duration": 47,
        "start_time": "2023-02-05T14:24:15.686Z"
      },
      {
        "duration": 751,
        "start_time": "2023-02-05T14:24:27.022Z"
      },
      {
        "duration": 654,
        "start_time": "2023-02-05T14:25:59.802Z"
      },
      {
        "duration": 747,
        "start_time": "2023-02-05T14:26:11.401Z"
      },
      {
        "duration": 276,
        "start_time": "2023-02-05T14:27:38.992Z"
      },
      {
        "duration": 348,
        "start_time": "2023-02-05T14:29:53.031Z"
      },
      {
        "duration": 23,
        "start_time": "2023-02-05T14:33:54.704Z"
      },
      {
        "duration": 81,
        "start_time": "2023-02-05T14:34:12.598Z"
      },
      {
        "duration": 16,
        "start_time": "2023-02-05T14:34:12.681Z"
      },
      {
        "duration": 28,
        "start_time": "2023-02-05T14:34:12.699Z"
      },
      {
        "duration": 37,
        "start_time": "2023-02-05T14:34:12.729Z"
      },
      {
        "duration": 56,
        "start_time": "2023-02-05T14:34:12.770Z"
      },
      {
        "duration": 4,
        "start_time": "2023-02-05T14:34:12.828Z"
      },
      {
        "duration": 21,
        "start_time": "2023-02-05T14:34:12.834Z"
      },
      {
        "duration": 14,
        "start_time": "2023-02-05T14:34:12.863Z"
      },
      {
        "duration": 9,
        "start_time": "2023-02-05T14:34:12.880Z"
      },
      {
        "duration": 7,
        "start_time": "2023-02-05T14:34:12.892Z"
      },
      {
        "duration": 57,
        "start_time": "2023-02-05T14:34:12.901Z"
      },
      {
        "duration": 16,
        "start_time": "2023-02-05T14:34:12.962Z"
      },
      {
        "duration": 10,
        "start_time": "2023-02-05T14:34:12.980Z"
      },
      {
        "duration": 43,
        "start_time": "2023-02-05T14:34:12.991Z"
      },
      {
        "duration": 34,
        "start_time": "2023-02-05T14:34:13.037Z"
      },
      {
        "duration": 37,
        "start_time": "2023-02-05T14:34:13.075Z"
      },
      {
        "duration": 4,
        "start_time": "2023-02-05T14:34:13.114Z"
      },
      {
        "duration": 16,
        "start_time": "2023-02-05T14:34:13.120Z"
      },
      {
        "duration": 33,
        "start_time": "2023-02-05T14:34:13.137Z"
      },
      {
        "duration": 16,
        "start_time": "2023-02-05T14:34:13.172Z"
      },
      {
        "duration": 16,
        "start_time": "2023-02-05T14:34:13.190Z"
      },
      {
        "duration": 29,
        "start_time": "2023-02-05T14:34:13.209Z"
      },
      {
        "duration": 33,
        "start_time": "2023-02-05T14:34:13.240Z"
      },
      {
        "duration": 42,
        "start_time": "2023-02-05T14:34:13.278Z"
      },
      {
        "duration": 25,
        "start_time": "2023-02-05T14:34:13.322Z"
      },
      {
        "duration": 88,
        "start_time": "2023-02-05T14:34:17.964Z"
      },
      {
        "duration": 18,
        "start_time": "2023-02-05T14:34:18.056Z"
      },
      {
        "duration": 24,
        "start_time": "2023-02-05T14:34:18.076Z"
      },
      {
        "duration": 13,
        "start_time": "2023-02-05T14:34:18.102Z"
      },
      {
        "duration": 73,
        "start_time": "2023-02-05T14:34:18.119Z"
      },
      {
        "duration": 4,
        "start_time": "2023-02-05T14:34:18.194Z"
      },
      {
        "duration": 11,
        "start_time": "2023-02-05T14:34:18.200Z"
      },
      {
        "duration": 5,
        "start_time": "2023-02-05T14:34:18.213Z"
      },
      {
        "duration": 52,
        "start_time": "2023-02-05T14:34:18.220Z"
      },
      {
        "duration": 8,
        "start_time": "2023-02-05T14:34:18.275Z"
      },
      {
        "duration": 53,
        "start_time": "2023-02-05T14:34:18.286Z"
      },
      {
        "duration": 15,
        "start_time": "2023-02-05T14:34:18.341Z"
      },
      {
        "duration": 12,
        "start_time": "2023-02-05T14:34:18.362Z"
      },
      {
        "duration": 20,
        "start_time": "2023-02-05T14:34:18.376Z"
      },
      {
        "duration": 20,
        "start_time": "2023-02-05T14:34:18.398Z"
      },
      {
        "duration": 50,
        "start_time": "2023-02-05T14:34:18.419Z"
      },
      {
        "duration": 4,
        "start_time": "2023-02-05T14:34:18.471Z"
      },
      {
        "duration": 17,
        "start_time": "2023-02-05T14:34:18.477Z"
      },
      {
        "duration": 18,
        "start_time": "2023-02-05T14:34:18.496Z"
      },
      {
        "duration": 10,
        "start_time": "2023-02-05T14:34:18.516Z"
      },
      {
        "duration": 19,
        "start_time": "2023-02-05T14:34:18.528Z"
      },
      {
        "duration": 42,
        "start_time": "2023-02-05T14:34:18.558Z"
      },
      {
        "duration": 14,
        "start_time": "2023-02-05T14:34:18.602Z"
      },
      {
        "duration": 25,
        "start_time": "2023-02-05T14:34:18.618Z"
      },
      {
        "duration": 20,
        "start_time": "2023-02-05T14:34:18.652Z"
      },
      {
        "duration": 25,
        "start_time": "2023-02-05T14:34:18.674Z"
      },
      {
        "duration": 93,
        "start_time": "2023-02-05T14:34:41.527Z"
      },
      {
        "duration": 29,
        "start_time": "2023-02-05T14:34:41.622Z"
      },
      {
        "duration": 98,
        "start_time": "2023-02-05T14:34:41.653Z"
      },
      {
        "duration": 19,
        "start_time": "2023-02-05T14:34:41.759Z"
      },
      {
        "duration": 49,
        "start_time": "2023-02-05T14:34:41.781Z"
      },
      {
        "duration": 3,
        "start_time": "2023-02-05T14:34:41.832Z"
      },
      {
        "duration": 37,
        "start_time": "2023-02-05T14:34:41.837Z"
      },
      {
        "duration": 6,
        "start_time": "2023-02-05T14:34:41.877Z"
      },
      {
        "duration": 7,
        "start_time": "2023-02-05T14:34:41.885Z"
      },
      {
        "duration": 12,
        "start_time": "2023-02-05T14:34:41.894Z"
      },
      {
        "duration": 59,
        "start_time": "2023-02-05T14:34:41.908Z"
      },
      {
        "duration": 16,
        "start_time": "2023-02-05T14:34:41.969Z"
      },
      {
        "duration": 5,
        "start_time": "2023-02-05T14:34:41.987Z"
      },
      {
        "duration": 14,
        "start_time": "2023-02-05T14:34:41.994Z"
      },
      {
        "duration": 61,
        "start_time": "2023-02-05T14:34:42.010Z"
      },
      {
        "duration": 31,
        "start_time": "2023-02-05T14:34:42.074Z"
      },
      {
        "duration": 5,
        "start_time": "2023-02-05T14:34:42.107Z"
      },
      {
        "duration": 19,
        "start_time": "2023-02-05T14:34:42.114Z"
      },
      {
        "duration": 17,
        "start_time": "2023-02-05T14:34:42.134Z"
      },
      {
        "duration": 38,
        "start_time": "2023-02-05T14:34:42.154Z"
      },
      {
        "duration": 21,
        "start_time": "2023-02-05T14:34:42.194Z"
      },
      {
        "duration": 39,
        "start_time": "2023-02-05T14:34:42.218Z"
      },
      {
        "duration": 18,
        "start_time": "2023-02-05T14:34:42.259Z"
      },
      {
        "duration": 78,
        "start_time": "2023-02-05T14:39:38.039Z"
      },
      {
        "duration": 15,
        "start_time": "2023-02-05T14:39:38.120Z"
      },
      {
        "duration": 26,
        "start_time": "2023-02-05T14:39:38.137Z"
      },
      {
        "duration": 14,
        "start_time": "2023-02-05T14:39:38.165Z"
      },
      {
        "duration": 32,
        "start_time": "2023-02-05T14:39:38.181Z"
      },
      {
        "duration": 4,
        "start_time": "2023-02-05T14:39:38.215Z"
      },
      {
        "duration": 12,
        "start_time": "2023-02-05T14:39:38.220Z"
      },
      {
        "duration": 26,
        "start_time": "2023-02-05T14:39:38.233Z"
      },
      {
        "duration": 17,
        "start_time": "2023-02-05T14:39:38.260Z"
      },
      {
        "duration": 13,
        "start_time": "2023-02-05T14:39:38.279Z"
      },
      {
        "duration": 55,
        "start_time": "2023-02-05T14:39:38.294Z"
      },
      {
        "duration": 18,
        "start_time": "2023-02-05T14:39:38.354Z"
      },
      {
        "duration": 16,
        "start_time": "2023-02-05T14:39:38.377Z"
      },
      {
        "duration": 12,
        "start_time": "2023-02-05T14:39:38.395Z"
      },
      {
        "duration": 22,
        "start_time": "2023-02-05T14:39:38.409Z"
      },
      {
        "duration": 32,
        "start_time": "2023-02-05T14:39:38.433Z"
      },
      {
        "duration": 11,
        "start_time": "2023-02-05T14:39:38.472Z"
      },
      {
        "duration": 21,
        "start_time": "2023-02-05T14:39:38.485Z"
      },
      {
        "duration": 7,
        "start_time": "2023-02-05T14:39:38.509Z"
      },
      {
        "duration": 16,
        "start_time": "2023-02-05T14:39:38.518Z"
      },
      {
        "duration": 40,
        "start_time": "2023-02-05T14:39:38.537Z"
      },
      {
        "duration": 26,
        "start_time": "2023-02-05T14:39:38.579Z"
      },
      {
        "duration": 16,
        "start_time": "2023-02-05T14:39:38.607Z"
      },
      {
        "duration": 491,
        "start_time": "2023-02-05T14:40:17.288Z"
      },
      {
        "duration": 19,
        "start_time": "2023-02-05T14:40:28.532Z"
      },
      {
        "duration": 17,
        "start_time": "2023-02-05T14:40:46.120Z"
      },
      {
        "duration": 63,
        "start_time": "2023-02-05T14:42:21.577Z"
      },
      {
        "duration": 55,
        "start_time": "2023-02-05T14:42:49.078Z"
      },
      {
        "duration": 17,
        "start_time": "2023-02-05T14:43:07.078Z"
      },
      {
        "duration": 72,
        "start_time": "2023-02-05T14:48:29.052Z"
      },
      {
        "duration": 14,
        "start_time": "2023-02-05T14:48:29.126Z"
      },
      {
        "duration": 35,
        "start_time": "2023-02-05T14:48:29.142Z"
      },
      {
        "duration": 14,
        "start_time": "2023-02-05T14:48:29.178Z"
      },
      {
        "duration": 35,
        "start_time": "2023-02-05T14:48:29.195Z"
      },
      {
        "duration": 3,
        "start_time": "2023-02-05T14:48:29.231Z"
      },
      {
        "duration": 21,
        "start_time": "2023-02-05T14:48:29.236Z"
      },
      {
        "duration": 12,
        "start_time": "2023-02-05T14:48:29.258Z"
      },
      {
        "duration": 12,
        "start_time": "2023-02-05T14:48:29.272Z"
      },
      {
        "duration": 18,
        "start_time": "2023-02-05T14:48:29.286Z"
      },
      {
        "duration": 39,
        "start_time": "2023-02-05T14:48:29.306Z"
      },
      {
        "duration": 18,
        "start_time": "2023-02-05T14:48:29.349Z"
      },
      {
        "duration": 7,
        "start_time": "2023-02-05T14:48:29.369Z"
      },
      {
        "duration": 12,
        "start_time": "2023-02-05T14:48:29.379Z"
      },
      {
        "duration": 19,
        "start_time": "2023-02-05T14:48:29.392Z"
      },
      {
        "duration": 36,
        "start_time": "2023-02-05T14:48:29.412Z"
      },
      {
        "duration": 4,
        "start_time": "2023-02-05T14:48:29.450Z"
      },
      {
        "duration": 23,
        "start_time": "2023-02-05T14:48:29.455Z"
      },
      {
        "duration": 9,
        "start_time": "2023-02-05T14:48:29.480Z"
      },
      {
        "duration": 4,
        "start_time": "2023-02-05T14:48:29.491Z"
      },
      {
        "duration": 11,
        "start_time": "2023-02-05T14:48:29.496Z"
      },
      {
        "duration": 27,
        "start_time": "2023-02-05T14:48:29.508Z"
      },
      {
        "duration": 21,
        "start_time": "2023-02-05T14:48:29.547Z"
      },
      {
        "duration": 80,
        "start_time": "2023-02-05T14:48:54.708Z"
      },
      {
        "duration": 24,
        "start_time": "2023-02-05T14:48:54.791Z"
      },
      {
        "duration": 34,
        "start_time": "2023-02-05T14:48:54.817Z"
      },
      {
        "duration": 19,
        "start_time": "2023-02-05T14:48:54.855Z"
      },
      {
        "duration": 97,
        "start_time": "2023-02-05T14:48:54.876Z"
      },
      {
        "duration": 4,
        "start_time": "2023-02-05T14:48:54.975Z"
      },
      {
        "duration": 18,
        "start_time": "2023-02-05T14:48:54.981Z"
      },
      {
        "duration": 12,
        "start_time": "2023-02-05T14:48:55.002Z"
      },
      {
        "duration": 12,
        "start_time": "2023-02-05T14:48:55.016Z"
      },
      {
        "duration": 31,
        "start_time": "2023-02-05T14:48:55.031Z"
      },
      {
        "duration": 63,
        "start_time": "2023-02-05T14:48:55.063Z"
      },
      {
        "duration": 10,
        "start_time": "2023-02-05T14:48:55.129Z"
      },
      {
        "duration": 37,
        "start_time": "2023-02-05T14:48:55.141Z"
      },
      {
        "duration": 22,
        "start_time": "2023-02-05T14:48:55.179Z"
      },
      {
        "duration": 34,
        "start_time": "2023-02-05T14:48:55.203Z"
      },
      {
        "duration": 26,
        "start_time": "2023-02-05T14:48:55.239Z"
      },
      {
        "duration": 15,
        "start_time": "2023-02-05T14:48:55.267Z"
      },
      {
        "duration": 15,
        "start_time": "2023-02-05T14:48:55.283Z"
      },
      {
        "duration": 9,
        "start_time": "2023-02-05T14:48:55.299Z"
      },
      {
        "duration": 4,
        "start_time": "2023-02-05T14:48:55.310Z"
      },
      {
        "duration": 14,
        "start_time": "2023-02-05T14:48:55.316Z"
      },
      {
        "duration": 34,
        "start_time": "2023-02-05T14:48:55.332Z"
      },
      {
        "duration": 16,
        "start_time": "2023-02-05T14:48:55.368Z"
      },
      {
        "duration": 78,
        "start_time": "2023-02-05T14:51:42.886Z"
      },
      {
        "duration": 20,
        "start_time": "2023-02-05T14:51:42.966Z"
      },
      {
        "duration": 28,
        "start_time": "2023-02-05T14:51:42.988Z"
      },
      {
        "duration": 14,
        "start_time": "2023-02-05T14:51:43.019Z"
      },
      {
        "duration": 52,
        "start_time": "2023-02-05T14:51:43.047Z"
      },
      {
        "duration": 4,
        "start_time": "2023-02-05T14:51:43.100Z"
      },
      {
        "duration": 28,
        "start_time": "2023-02-05T14:51:43.106Z"
      },
      {
        "duration": 29,
        "start_time": "2023-02-05T14:51:43.136Z"
      },
      {
        "duration": 9,
        "start_time": "2023-02-05T14:51:43.167Z"
      },
      {
        "duration": 5,
        "start_time": "2023-02-05T14:51:43.180Z"
      },
      {
        "duration": 52,
        "start_time": "2023-02-05T14:51:43.187Z"
      },
      {
        "duration": 15,
        "start_time": "2023-02-05T14:51:43.241Z"
      },
      {
        "duration": 39,
        "start_time": "2023-02-05T14:51:43.257Z"
      },
      {
        "duration": 22,
        "start_time": "2023-02-05T14:51:43.298Z"
      },
      {
        "duration": 19,
        "start_time": "2023-02-05T14:51:43.322Z"
      },
      {
        "duration": 27,
        "start_time": "2023-02-05T14:51:43.343Z"
      },
      {
        "duration": 8,
        "start_time": "2023-02-05T14:51:43.372Z"
      },
      {
        "duration": 11,
        "start_time": "2023-02-05T14:51:43.382Z"
      },
      {
        "duration": 5,
        "start_time": "2023-02-05T14:51:43.395Z"
      },
      {
        "duration": 4,
        "start_time": "2023-02-05T14:51:43.401Z"
      },
      {
        "duration": 14,
        "start_time": "2023-02-05T14:51:43.406Z"
      },
      {
        "duration": 69,
        "start_time": "2023-02-05T14:51:43.421Z"
      },
      {
        "duration": 21,
        "start_time": "2023-02-05T14:51:43.492Z"
      },
      {
        "duration": 80,
        "start_time": "2023-02-05T14:52:06.029Z"
      },
      {
        "duration": 16,
        "start_time": "2023-02-05T14:52:06.111Z"
      },
      {
        "duration": 23,
        "start_time": "2023-02-05T14:52:06.129Z"
      },
      {
        "duration": 35,
        "start_time": "2023-02-05T14:52:06.157Z"
      },
      {
        "duration": 36,
        "start_time": "2023-02-05T14:52:06.194Z"
      },
      {
        "duration": 4,
        "start_time": "2023-02-05T14:52:06.233Z"
      },
      {
        "duration": 32,
        "start_time": "2023-02-05T14:52:06.238Z"
      },
      {
        "duration": 11,
        "start_time": "2023-02-05T14:52:06.272Z"
      },
      {
        "duration": 19,
        "start_time": "2023-02-05T14:52:06.284Z"
      },
      {
        "duration": 8,
        "start_time": "2023-02-05T14:52:06.306Z"
      },
      {
        "duration": 56,
        "start_time": "2023-02-05T14:52:06.316Z"
      },
      {
        "duration": 11,
        "start_time": "2023-02-05T14:52:06.376Z"
      },
      {
        "duration": 10,
        "start_time": "2023-02-05T14:52:06.388Z"
      },
      {
        "duration": 19,
        "start_time": "2023-02-05T14:52:06.400Z"
      },
      {
        "duration": 40,
        "start_time": "2023-02-05T14:52:06.421Z"
      },
      {
        "duration": 28,
        "start_time": "2023-02-05T14:52:06.464Z"
      },
      {
        "duration": 4,
        "start_time": "2023-02-05T14:52:06.494Z"
      },
      {
        "duration": 15,
        "start_time": "2023-02-05T14:52:06.501Z"
      },
      {
        "duration": 8,
        "start_time": "2023-02-05T14:52:06.518Z"
      },
      {
        "duration": 14,
        "start_time": "2023-02-05T14:52:06.544Z"
      },
      {
        "duration": 15,
        "start_time": "2023-02-05T14:52:06.560Z"
      },
      {
        "duration": 27,
        "start_time": "2023-02-05T14:52:06.577Z"
      },
      {
        "duration": 22,
        "start_time": "2023-02-05T14:52:06.606Z"
      },
      {
        "duration": 76,
        "start_time": "2023-02-05T14:52:30.706Z"
      },
      {
        "duration": 14,
        "start_time": "2023-02-05T14:52:30.784Z"
      },
      {
        "duration": 53,
        "start_time": "2023-02-05T14:52:30.800Z"
      },
      {
        "duration": 58,
        "start_time": "2023-02-05T14:52:30.858Z"
      },
      {
        "duration": 64,
        "start_time": "2023-02-05T14:52:30.918Z"
      },
      {
        "duration": 3,
        "start_time": "2023-02-05T14:52:30.984Z"
      },
      {
        "duration": 34,
        "start_time": "2023-02-05T14:52:30.988Z"
      },
      {
        "duration": 33,
        "start_time": "2023-02-05T14:52:31.024Z"
      },
      {
        "duration": 13,
        "start_time": "2023-02-05T14:52:31.059Z"
      },
      {
        "duration": 21,
        "start_time": "2023-02-05T14:52:31.076Z"
      },
      {
        "duration": 91,
        "start_time": "2023-02-05T14:52:31.099Z"
      },
      {
        "duration": 11,
        "start_time": "2023-02-05T14:52:31.191Z"
      },
      {
        "duration": 23,
        "start_time": "2023-02-05T14:52:31.204Z"
      },
      {
        "duration": 66,
        "start_time": "2023-02-05T14:52:31.229Z"
      },
      {
        "duration": 66,
        "start_time": "2023-02-05T14:52:31.297Z"
      },
      {
        "duration": 44,
        "start_time": "2023-02-05T14:52:31.366Z"
      },
      {
        "duration": 31,
        "start_time": "2023-02-05T14:52:31.412Z"
      },
      {
        "duration": 44,
        "start_time": "2023-02-05T14:52:31.446Z"
      },
      {
        "duration": 11,
        "start_time": "2023-02-05T14:52:31.492Z"
      },
      {
        "duration": 23,
        "start_time": "2023-02-05T14:52:31.505Z"
      },
      {
        "duration": 21,
        "start_time": "2023-02-05T14:52:31.530Z"
      },
      {
        "duration": 81,
        "start_time": "2023-02-05T14:52:31.555Z"
      },
      {
        "duration": 23,
        "start_time": "2023-02-05T14:52:31.638Z"
      },
      {
        "duration": 79,
        "start_time": "2023-02-05T15:07:15.229Z"
      },
      {
        "duration": 15,
        "start_time": "2023-02-05T15:07:15.309Z"
      },
      {
        "duration": 31,
        "start_time": "2023-02-05T15:07:15.326Z"
      },
      {
        "duration": 14,
        "start_time": "2023-02-05T15:07:15.359Z"
      },
      {
        "duration": 36,
        "start_time": "2023-02-05T15:07:15.375Z"
      },
      {
        "duration": 4,
        "start_time": "2023-02-05T15:07:15.413Z"
      },
      {
        "duration": 28,
        "start_time": "2023-02-05T15:07:15.419Z"
      },
      {
        "duration": 4,
        "start_time": "2023-02-05T15:07:15.449Z"
      },
      {
        "duration": 7,
        "start_time": "2023-02-05T15:07:15.455Z"
      },
      {
        "duration": 17,
        "start_time": "2023-02-05T15:07:15.465Z"
      },
      {
        "duration": 49,
        "start_time": "2023-02-05T15:07:15.483Z"
      },
      {
        "duration": 12,
        "start_time": "2023-02-05T15:07:15.533Z"
      },
      {
        "duration": 5,
        "start_time": "2023-02-05T15:07:15.547Z"
      },
      {
        "duration": 24,
        "start_time": "2023-02-05T15:07:15.553Z"
      },
      {
        "duration": 19,
        "start_time": "2023-02-05T15:07:15.580Z"
      },
      {
        "duration": 46,
        "start_time": "2023-02-05T15:07:15.602Z"
      },
      {
        "duration": 5,
        "start_time": "2023-02-05T15:07:15.650Z"
      },
      {
        "duration": 26,
        "start_time": "2023-02-05T15:07:15.657Z"
      },
      {
        "duration": 7,
        "start_time": "2023-02-05T15:07:15.685Z"
      },
      {
        "duration": 8,
        "start_time": "2023-02-05T15:07:15.694Z"
      },
      {
        "duration": 16,
        "start_time": "2023-02-05T15:07:15.704Z"
      },
      {
        "duration": 30,
        "start_time": "2023-02-05T15:07:15.722Z"
      },
      {
        "duration": 16,
        "start_time": "2023-02-05T15:07:15.754Z"
      },
      {
        "duration": 24,
        "start_time": "2023-02-05T15:07:15.772Z"
      },
      {
        "duration": 17,
        "start_time": "2023-02-05T15:07:15.797Z"
      },
      {
        "duration": 79,
        "start_time": "2023-02-05T15:07:28.794Z"
      },
      {
        "duration": 15,
        "start_time": "2023-02-05T15:07:28.874Z"
      },
      {
        "duration": 21,
        "start_time": "2023-02-05T15:07:28.890Z"
      },
      {
        "duration": 11,
        "start_time": "2023-02-05T15:07:28.913Z"
      },
      {
        "duration": 38,
        "start_time": "2023-02-05T15:07:28.943Z"
      },
      {
        "duration": 5,
        "start_time": "2023-02-05T15:07:28.983Z"
      },
      {
        "duration": 16,
        "start_time": "2023-02-05T15:07:28.989Z"
      },
      {
        "duration": 6,
        "start_time": "2023-02-05T15:07:29.007Z"
      },
      {
        "duration": 33,
        "start_time": "2023-02-05T15:07:29.015Z"
      },
      {
        "duration": 6,
        "start_time": "2023-02-05T15:07:29.050Z"
      },
      {
        "duration": 37,
        "start_time": "2023-02-05T15:07:29.058Z"
      },
      {
        "duration": 11,
        "start_time": "2023-02-05T15:07:29.097Z"
      },
      {
        "duration": 6,
        "start_time": "2023-02-05T15:07:29.110Z"
      },
      {
        "duration": 18,
        "start_time": "2023-02-05T15:07:29.144Z"
      },
      {
        "duration": 30,
        "start_time": "2023-02-05T15:07:29.164Z"
      },
      {
        "duration": 28,
        "start_time": "2023-02-05T15:07:29.196Z"
      },
      {
        "duration": 17,
        "start_time": "2023-02-05T15:07:29.227Z"
      },
      {
        "duration": 15,
        "start_time": "2023-02-05T15:07:29.246Z"
      },
      {
        "duration": 13,
        "start_time": "2023-02-05T15:07:29.263Z"
      },
      {
        "duration": 8,
        "start_time": "2023-02-05T15:07:29.277Z"
      },
      {
        "duration": 11,
        "start_time": "2023-02-05T15:07:29.286Z"
      },
      {
        "duration": 22,
        "start_time": "2023-02-05T15:07:29.298Z"
      },
      {
        "duration": 31,
        "start_time": "2023-02-05T15:07:29.321Z"
      },
      {
        "duration": 37,
        "start_time": "2023-02-05T15:07:29.354Z"
      },
      {
        "duration": 451,
        "start_time": "2023-02-05T15:07:29.393Z"
      },
      {
        "duration": 16,
        "start_time": "2023-02-05T15:21:49.670Z"
      },
      {
        "duration": 392,
        "start_time": "2023-02-05T15:22:59.748Z"
      },
      {
        "duration": 346,
        "start_time": "2023-02-05T15:26:05.274Z"
      },
      {
        "duration": 68,
        "start_time": "2023-02-05T15:58:25.240Z"
      },
      {
        "duration": 16,
        "start_time": "2023-02-05T15:58:25.311Z"
      },
      {
        "duration": 20,
        "start_time": "2023-02-05T15:58:25.329Z"
      },
      {
        "duration": 10,
        "start_time": "2023-02-05T15:58:25.352Z"
      },
      {
        "duration": 35,
        "start_time": "2023-02-05T15:58:25.364Z"
      },
      {
        "duration": 5,
        "start_time": "2023-02-05T15:58:25.400Z"
      },
      {
        "duration": 12,
        "start_time": "2023-02-05T15:58:25.406Z"
      },
      {
        "duration": 5,
        "start_time": "2023-02-05T15:58:25.443Z"
      },
      {
        "duration": 8,
        "start_time": "2023-02-05T15:58:25.449Z"
      },
      {
        "duration": 4,
        "start_time": "2023-02-05T15:58:25.459Z"
      },
      {
        "duration": 37,
        "start_time": "2023-02-05T15:58:25.465Z"
      },
      {
        "duration": 10,
        "start_time": "2023-02-05T15:58:25.503Z"
      },
      {
        "duration": 4,
        "start_time": "2023-02-05T15:58:25.514Z"
      },
      {
        "duration": 34,
        "start_time": "2023-02-05T15:58:25.519Z"
      },
      {
        "duration": 26,
        "start_time": "2023-02-05T15:58:25.554Z"
      },
      {
        "duration": 19,
        "start_time": "2023-02-05T15:58:25.582Z"
      },
      {
        "duration": 4,
        "start_time": "2023-02-05T15:58:25.602Z"
      },
      {
        "duration": 19,
        "start_time": "2023-02-05T15:58:25.608Z"
      },
      {
        "duration": 16,
        "start_time": "2023-02-05T15:58:25.629Z"
      },
      {
        "duration": 5,
        "start_time": "2023-02-05T15:58:25.646Z"
      },
      {
        "duration": 11,
        "start_time": "2023-02-05T15:58:25.653Z"
      },
      {
        "duration": 24,
        "start_time": "2023-02-05T15:58:25.666Z"
      },
      {
        "duration": 21,
        "start_time": "2023-02-05T15:58:25.692Z"
      },
      {
        "duration": 37,
        "start_time": "2023-02-05T15:58:25.744Z"
      },
      {
        "duration": 386,
        "start_time": "2023-02-05T15:58:25.783Z"
      },
      {
        "duration": 14,
        "start_time": "2023-02-05T15:58:26.170Z"
      }
    ],
    "colab": {
      "name": "dpp_template_part2.ipynb",
      "provenance": []
    },
    "toc": {
      "base_numbering": 1,
      "nav_menu": {},
      "number_sections": true,
      "sideBar": true,
      "skip_h1_title": true,
      "title_cell": "Table of Contents",
      "title_sidebar": "Contents",
      "toc_cell": false,
      "toc_position": {},
      "toc_section_display": true,
      "toc_window_display": true
    },
    "kernelspec": {
      "name": "SQLite",
      "display_name": "SQLite",
      "language": "sql"
    },
    "language_info": {
      "codemirror_mode": "sql",
      "file_extension": "",
      "mimetype": "",
      "name": "sql",
      "version": "3.32.3"
    }
  },
  "nbformat_minor": 5,
  "nbformat": 4,
  "cells": [
    {
      "cell_type": "markdown",
      "source": "# Исследование надежности заемщиков\n",
      "metadata": {
        "deletable": false,
        "editable": false,
        "id": "c81daeeb"
      },
      "id": "9980cbd8"
    },
    {
      "cell_type": "markdown",
      "source": "",
      "metadata": {
        "deletable": false,
        "editable": false,
        "id": "827c20bf",
        "tags": []
      },
      "id": "e71c0795-83ac-41e4-96fa-aa9afc2fa619"
    },
    {
      "cell_type": "raw",
      "source": "Во второй части проекта вы выполните шаги 3 и 4. Их вручную проверит ревьюер.\nЧтобы вам не пришлось писать код заново для шагов 1 и 2, мы добавили авторские решения в ячейки с кодом.",
      "metadata": {
        "deletable": false,
        "editable": false,
        "id": "827c20bf",
        "tags": []
      },
      "id": "91b20c38-f2ef-4538-95f8-a102d768c104"
    },
    {
      "cell_type": "markdown",
      "source": " ",
      "metadata": {
        "deletable": false,
        "editable": false,
        "id": "827c20bf",
        "tags": []
      },
      "id": "f0e20787-430b-4643-93f1-a40e3f8b715e"
    },
    {
      "cell_type": "markdown",
      "source": "## Откройте таблицу и изучите общую информацию о данных",
      "metadata": {
        "deletable": false,
        "editable": false,
        "id": "744d7639"
      },
      "id": "f1493563"
    },
    {
      "cell_type": "markdown",
      "source": "**Задание 1. Импортируйте библиотеку pandas. Считайте данные из csv-файла в датафрейм и сохраните в переменную `data`. Путь к файлу:**\n\n`/datasets/data.csv`",
      "metadata": {
        "deletable": false,
        "editable": false,
        "id": "e7a14c31"
      },
      "id": "5436518e"
    },
    {
      "cell_type": "code",
      "source": "import pandas as pd\n\ntry:\n    data = pd.read_csv('/datasets/data.csv')\nexcept:\n    data = pd.read_csv('https://code.s3.yandex.net/datasets/data.csv')",
      "metadata": {
        "deletable": false,
        "id": "7bcf75c9"
      },
      "execution_count": 743,
      "outputs": [],
      "id": "0cccf54f"
    },
    {
      "cell_type": "markdown",
      "source": "**Задание 2. Выведите первые 20 строчек датафрейма `data` на экран.**",
      "metadata": {
        "deletable": false,
        "editable": false,
        "id": "b8038fe3"
      },
      "id": "6c0d53e9"
    },
    {
      "cell_type": "code",
      "source": "data.head(20)",
      "metadata": {
        "deletable": false,
        "id": "2a7cab99",
        "outputId": "1a8f3ef2-d323-4ec2-ddf7-89670b5944c4"
      },
      "execution_count": 744,
      "outputs": [
        {
          "execution_count": 744,
          "output_type": "execute_result",
          "data": {
            "text/html": [
              "<div>\n",
              "<style scoped>\n",
              "    .dataframe tbody tr th:only-of-type {\n",
              "        vertical-align: middle;\n",
              "    }\n",
              "\n",
              "    .dataframe tbody tr th {\n",
              "        vertical-align: top;\n",
              "    }\n",
              "\n",
              "    .dataframe thead th {\n",
              "        text-align: right;\n",
              "    }\n",
              "</style>\n",
              "<table border=\"1\" class=\"dataframe\">\n",
              "  <thead>\n",
              "    <tr style=\"text-align: right;\">\n",
              "      <th></th>\n",
              "      <th>children</th>\n",
              "      <th>days_employed</th>\n",
              "      <th>dob_years</th>\n",
              "      <th>education</th>\n",
              "      <th>education_id</th>\n",
              "      <th>family_status</th>\n",
              "      <th>family_status_id</th>\n",
              "      <th>gender</th>\n",
              "      <th>income_type</th>\n",
              "      <th>debt</th>\n",
              "      <th>total_income</th>\n",
              "      <th>purpose</th>\n",
              "    </tr>\n",
              "  </thead>\n",
              "  <tbody>\n",
              "    <tr>\n",
              "      <th>0</th>\n",
              "      <td>1</td>\n",
              "      <td>-8437.673028</td>\n",
              "      <td>42</td>\n",
              "      <td>высшее</td>\n",
              "      <td>0</td>\n",
              "      <td>женат / замужем</td>\n",
              "      <td>0</td>\n",
              "      <td>F</td>\n",
              "      <td>сотрудник</td>\n",
              "      <td>0</td>\n",
              "      <td>253875.639453</td>\n",
              "      <td>покупка жилья</td>\n",
              "    </tr>\n",
              "    <tr>\n",
              "      <th>1</th>\n",
              "      <td>1</td>\n",
              "      <td>-4024.803754</td>\n",
              "      <td>36</td>\n",
              "      <td>среднее</td>\n",
              "      <td>1</td>\n",
              "      <td>женат / замужем</td>\n",
              "      <td>0</td>\n",
              "      <td>F</td>\n",
              "      <td>сотрудник</td>\n",
              "      <td>0</td>\n",
              "      <td>112080.014102</td>\n",
              "      <td>приобретение автомобиля</td>\n",
              "    </tr>\n",
              "    <tr>\n",
              "      <th>2</th>\n",
              "      <td>0</td>\n",
              "      <td>-5623.422610</td>\n",
              "      <td>33</td>\n",
              "      <td>Среднее</td>\n",
              "      <td>1</td>\n",
              "      <td>женат / замужем</td>\n",
              "      <td>0</td>\n",
              "      <td>M</td>\n",
              "      <td>сотрудник</td>\n",
              "      <td>0</td>\n",
              "      <td>145885.952297</td>\n",
              "      <td>покупка жилья</td>\n",
              "    </tr>\n",
              "    <tr>\n",
              "      <th>3</th>\n",
              "      <td>3</td>\n",
              "      <td>-4124.747207</td>\n",
              "      <td>32</td>\n",
              "      <td>среднее</td>\n",
              "      <td>1</td>\n",
              "      <td>женат / замужем</td>\n",
              "      <td>0</td>\n",
              "      <td>M</td>\n",
              "      <td>сотрудник</td>\n",
              "      <td>0</td>\n",
              "      <td>267628.550329</td>\n",
              "      <td>дополнительное образование</td>\n",
              "    </tr>\n",
              "    <tr>\n",
              "      <th>4</th>\n",
              "      <td>0</td>\n",
              "      <td>340266.072047</td>\n",
              "      <td>53</td>\n",
              "      <td>среднее</td>\n",
              "      <td>1</td>\n",
              "      <td>гражданский брак</td>\n",
              "      <td>1</td>\n",
              "      <td>F</td>\n",
              "      <td>пенсионер</td>\n",
              "      <td>0</td>\n",
              "      <td>158616.077870</td>\n",
              "      <td>сыграть свадьбу</td>\n",
              "    </tr>\n",
              "    <tr>\n",
              "      <th>5</th>\n",
              "      <td>0</td>\n",
              "      <td>-926.185831</td>\n",
              "      <td>27</td>\n",
              "      <td>высшее</td>\n",
              "      <td>0</td>\n",
              "      <td>гражданский брак</td>\n",
              "      <td>1</td>\n",
              "      <td>M</td>\n",
              "      <td>компаньон</td>\n",
              "      <td>0</td>\n",
              "      <td>255763.565419</td>\n",
              "      <td>покупка жилья</td>\n",
              "    </tr>\n",
              "    <tr>\n",
              "      <th>6</th>\n",
              "      <td>0</td>\n",
              "      <td>-2879.202052</td>\n",
              "      <td>43</td>\n",
              "      <td>высшее</td>\n",
              "      <td>0</td>\n",
              "      <td>женат / замужем</td>\n",
              "      <td>0</td>\n",
              "      <td>F</td>\n",
              "      <td>компаньон</td>\n",
              "      <td>0</td>\n",
              "      <td>240525.971920</td>\n",
              "      <td>операции с жильем</td>\n",
              "    </tr>\n",
              "    <tr>\n",
              "      <th>7</th>\n",
              "      <td>0</td>\n",
              "      <td>-152.779569</td>\n",
              "      <td>50</td>\n",
              "      <td>СРЕДНЕЕ</td>\n",
              "      <td>1</td>\n",
              "      <td>женат / замужем</td>\n",
              "      <td>0</td>\n",
              "      <td>M</td>\n",
              "      <td>сотрудник</td>\n",
              "      <td>0</td>\n",
              "      <td>135823.934197</td>\n",
              "      <td>образование</td>\n",
              "    </tr>\n",
              "    <tr>\n",
              "      <th>8</th>\n",
              "      <td>2</td>\n",
              "      <td>-6929.865299</td>\n",
              "      <td>35</td>\n",
              "      <td>ВЫСШЕЕ</td>\n",
              "      <td>0</td>\n",
              "      <td>гражданский брак</td>\n",
              "      <td>1</td>\n",
              "      <td>F</td>\n",
              "      <td>сотрудник</td>\n",
              "      <td>0</td>\n",
              "      <td>95856.832424</td>\n",
              "      <td>на проведение свадьбы</td>\n",
              "    </tr>\n",
              "    <tr>\n",
              "      <th>9</th>\n",
              "      <td>0</td>\n",
              "      <td>-2188.756445</td>\n",
              "      <td>41</td>\n",
              "      <td>среднее</td>\n",
              "      <td>1</td>\n",
              "      <td>женат / замужем</td>\n",
              "      <td>0</td>\n",
              "      <td>M</td>\n",
              "      <td>сотрудник</td>\n",
              "      <td>0</td>\n",
              "      <td>144425.938277</td>\n",
              "      <td>покупка жилья для семьи</td>\n",
              "    </tr>\n",
              "    <tr>\n",
              "      <th>10</th>\n",
              "      <td>2</td>\n",
              "      <td>-4171.483647</td>\n",
              "      <td>36</td>\n",
              "      <td>высшее</td>\n",
              "      <td>0</td>\n",
              "      <td>женат / замужем</td>\n",
              "      <td>0</td>\n",
              "      <td>M</td>\n",
              "      <td>компаньон</td>\n",
              "      <td>0</td>\n",
              "      <td>113943.491460</td>\n",
              "      <td>покупка недвижимости</td>\n",
              "    </tr>\n",
              "    <tr>\n",
              "      <th>11</th>\n",
              "      <td>0</td>\n",
              "      <td>-792.701887</td>\n",
              "      <td>40</td>\n",
              "      <td>среднее</td>\n",
              "      <td>1</td>\n",
              "      <td>женат / замужем</td>\n",
              "      <td>0</td>\n",
              "      <td>F</td>\n",
              "      <td>сотрудник</td>\n",
              "      <td>0</td>\n",
              "      <td>77069.234271</td>\n",
              "      <td>покупка коммерческой недвижимости</td>\n",
              "    </tr>\n",
              "    <tr>\n",
              "      <th>12</th>\n",
              "      <td>0</td>\n",
              "      <td>NaN</td>\n",
              "      <td>65</td>\n",
              "      <td>среднее</td>\n",
              "      <td>1</td>\n",
              "      <td>гражданский брак</td>\n",
              "      <td>1</td>\n",
              "      <td>M</td>\n",
              "      <td>пенсионер</td>\n",
              "      <td>0</td>\n",
              "      <td>NaN</td>\n",
              "      <td>сыграть свадьбу</td>\n",
              "    </tr>\n",
              "    <tr>\n",
              "      <th>13</th>\n",
              "      <td>0</td>\n",
              "      <td>-1846.641941</td>\n",
              "      <td>54</td>\n",
              "      <td>неоконченное высшее</td>\n",
              "      <td>2</td>\n",
              "      <td>женат / замужем</td>\n",
              "      <td>0</td>\n",
              "      <td>F</td>\n",
              "      <td>сотрудник</td>\n",
              "      <td>0</td>\n",
              "      <td>130458.228857</td>\n",
              "      <td>приобретение автомобиля</td>\n",
              "    </tr>\n",
              "    <tr>\n",
              "      <th>14</th>\n",
              "      <td>0</td>\n",
              "      <td>-1844.956182</td>\n",
              "      <td>56</td>\n",
              "      <td>высшее</td>\n",
              "      <td>0</td>\n",
              "      <td>гражданский брак</td>\n",
              "      <td>1</td>\n",
              "      <td>F</td>\n",
              "      <td>компаньон</td>\n",
              "      <td>1</td>\n",
              "      <td>165127.911772</td>\n",
              "      <td>покупка жилой недвижимости</td>\n",
              "    </tr>\n",
              "    <tr>\n",
              "      <th>15</th>\n",
              "      <td>1</td>\n",
              "      <td>-972.364419</td>\n",
              "      <td>26</td>\n",
              "      <td>среднее</td>\n",
              "      <td>1</td>\n",
              "      <td>женат / замужем</td>\n",
              "      <td>0</td>\n",
              "      <td>F</td>\n",
              "      <td>сотрудник</td>\n",
              "      <td>0</td>\n",
              "      <td>116820.904450</td>\n",
              "      <td>строительство собственной недвижимости</td>\n",
              "    </tr>\n",
              "    <tr>\n",
              "      <th>16</th>\n",
              "      <td>0</td>\n",
              "      <td>-1719.934226</td>\n",
              "      <td>35</td>\n",
              "      <td>среднее</td>\n",
              "      <td>1</td>\n",
              "      <td>женат / замужем</td>\n",
              "      <td>0</td>\n",
              "      <td>F</td>\n",
              "      <td>сотрудник</td>\n",
              "      <td>0</td>\n",
              "      <td>289202.704229</td>\n",
              "      <td>недвижимость</td>\n",
              "    </tr>\n",
              "    <tr>\n",
              "      <th>17</th>\n",
              "      <td>0</td>\n",
              "      <td>-2369.999720</td>\n",
              "      <td>33</td>\n",
              "      <td>высшее</td>\n",
              "      <td>0</td>\n",
              "      <td>гражданский брак</td>\n",
              "      <td>1</td>\n",
              "      <td>M</td>\n",
              "      <td>сотрудник</td>\n",
              "      <td>0</td>\n",
              "      <td>90410.586745</td>\n",
              "      <td>строительство недвижимости</td>\n",
              "    </tr>\n",
              "    <tr>\n",
              "      <th>18</th>\n",
              "      <td>0</td>\n",
              "      <td>400281.136913</td>\n",
              "      <td>53</td>\n",
              "      <td>среднее</td>\n",
              "      <td>1</td>\n",
              "      <td>вдовец / вдова</td>\n",
              "      <td>2</td>\n",
              "      <td>F</td>\n",
              "      <td>пенсионер</td>\n",
              "      <td>0</td>\n",
              "      <td>56823.777243</td>\n",
              "      <td>на покупку подержанного автомобиля</td>\n",
              "    </tr>\n",
              "    <tr>\n",
              "      <th>19</th>\n",
              "      <td>0</td>\n",
              "      <td>-10038.818549</td>\n",
              "      <td>48</td>\n",
              "      <td>СРЕДНЕЕ</td>\n",
              "      <td>1</td>\n",
              "      <td>в разводе</td>\n",
              "      <td>3</td>\n",
              "      <td>F</td>\n",
              "      <td>сотрудник</td>\n",
              "      <td>0</td>\n",
              "      <td>242831.107982</td>\n",
              "      <td>на покупку своего автомобиля</td>\n",
              "    </tr>\n",
              "  </tbody>\n",
              "</table>\n",
              "</div>"
            ],
            "text/plain": [
              "    children  days_employed  dob_years            education  education_id  \\\n",
              "0          1   -8437.673028         42               высшее             0   \n",
              "1          1   -4024.803754         36              среднее             1   \n",
              "2          0   -5623.422610         33              Среднее             1   \n",
              "3          3   -4124.747207         32              среднее             1   \n",
              "4          0  340266.072047         53              среднее             1   \n",
              "5          0    -926.185831         27               высшее             0   \n",
              "6          0   -2879.202052         43               высшее             0   \n",
              "7          0    -152.779569         50              СРЕДНЕЕ             1   \n",
              "8          2   -6929.865299         35               ВЫСШЕЕ             0   \n",
              "9          0   -2188.756445         41              среднее             1   \n",
              "10         2   -4171.483647         36               высшее             0   \n",
              "11         0    -792.701887         40              среднее             1   \n",
              "12         0            NaN         65              среднее             1   \n",
              "13         0   -1846.641941         54  неоконченное высшее             2   \n",
              "14         0   -1844.956182         56               высшее             0   \n",
              "15         1    -972.364419         26              среднее             1   \n",
              "16         0   -1719.934226         35              среднее             1   \n",
              "17         0   -2369.999720         33               высшее             0   \n",
              "18         0  400281.136913         53              среднее             1   \n",
              "19         0  -10038.818549         48              СРЕДНЕЕ             1   \n",
              "\n",
              "       family_status  family_status_id gender income_type  debt  \\\n",
              "0    женат / замужем                 0      F   сотрудник     0   \n",
              "1    женат / замужем                 0      F   сотрудник     0   \n",
              "2    женат / замужем                 0      M   сотрудник     0   \n",
              "3    женат / замужем                 0      M   сотрудник     0   \n",
              "4   гражданский брак                 1      F   пенсионер     0   \n",
              "5   гражданский брак                 1      M   компаньон     0   \n",
              "6    женат / замужем                 0      F   компаньон     0   \n",
              "7    женат / замужем                 0      M   сотрудник     0   \n",
              "8   гражданский брак                 1      F   сотрудник     0   \n",
              "9    женат / замужем                 0      M   сотрудник     0   \n",
              "10   женат / замужем                 0      M   компаньон     0   \n",
              "11   женат / замужем                 0      F   сотрудник     0   \n",
              "12  гражданский брак                 1      M   пенсионер     0   \n",
              "13   женат / замужем                 0      F   сотрудник     0   \n",
              "14  гражданский брак                 1      F   компаньон     1   \n",
              "15   женат / замужем                 0      F   сотрудник     0   \n",
              "16   женат / замужем                 0      F   сотрудник     0   \n",
              "17  гражданский брак                 1      M   сотрудник     0   \n",
              "18    вдовец / вдова                 2      F   пенсионер     0   \n",
              "19         в разводе                 3      F   сотрудник     0   \n",
              "\n",
              "     total_income                                 purpose  \n",
              "0   253875.639453                           покупка жилья  \n",
              "1   112080.014102                 приобретение автомобиля  \n",
              "2   145885.952297                           покупка жилья  \n",
              "3   267628.550329              дополнительное образование  \n",
              "4   158616.077870                         сыграть свадьбу  \n",
              "5   255763.565419                           покупка жилья  \n",
              "6   240525.971920                       операции с жильем  \n",
              "7   135823.934197                             образование  \n",
              "8    95856.832424                   на проведение свадьбы  \n",
              "9   144425.938277                 покупка жилья для семьи  \n",
              "10  113943.491460                    покупка недвижимости  \n",
              "11   77069.234271       покупка коммерческой недвижимости  \n",
              "12            NaN                         сыграть свадьбу  \n",
              "13  130458.228857                 приобретение автомобиля  \n",
              "14  165127.911772              покупка жилой недвижимости  \n",
              "15  116820.904450  строительство собственной недвижимости  \n",
              "16  289202.704229                            недвижимость  \n",
              "17   90410.586745              строительство недвижимости  \n",
              "18   56823.777243      на покупку подержанного автомобиля  \n",
              "19  242831.107982            на покупку своего автомобиля  "
            ]
          },
          "metadata": {}
        }
      ],
      "id": "042c0381"
    },
    {
      "cell_type": "markdown",
      "source": "**Задание 3. Выведите основную информацию о датафрейме с помощью метода `info()`.**",
      "metadata": {
        "deletable": false,
        "editable": false,
        "id": "1c12e233"
      },
      "id": "ba22c5c1"
    },
    {
      "cell_type": "code",
      "source": "data.info()",
      "metadata": {
        "deletable": false,
        "id": "2b757bca",
        "outputId": "15376089-8dad-46c9-b520-c05248d43158"
      },
      "execution_count": 745,
      "outputs": [
        {
          "name": "stdout",
          "output_type": "stream",
          "text": "<class 'pandas.core.frame.DataFrame'>\n\nRangeIndex: 21525 entries, 0 to 21524\n\nData columns (total 12 columns):\n\n #   Column            Non-Null Count  Dtype  \n\n---  ------            --------------  -----  \n\n 0   children          21525 non-null  int64  \n\n 1   days_employed     19351 non-null  float64\n\n 2   dob_years         21525 non-null  int64  \n\n 3   education         21525 non-null  object \n\n 4   education_id      21525 non-null  int64  \n\n 5   family_status     21525 non-null  object \n\n 6   family_status_id  21525 non-null  int64  \n\n 7   gender            21525 non-null  object \n\n 8   income_type       21525 non-null  object \n\n 9   debt              21525 non-null  int64  \n\n 10  total_income      19351 non-null  float64\n\n 11  purpose           21525 non-null  object \n\ndtypes: float64(2), int64(5), object(5)\n\nmemory usage: 2.0+ MB\n"
        }
      ],
      "id": "b56ae9ec"
    },
    {
      "cell_type": "markdown",
      "source": "## Предобработка данных",
      "metadata": {
        "deletable": false,
        "editable": false,
        "id": "333ec665"
      },
      "id": "80cda250"
    },
    {
      "cell_type": "markdown",
      "source": "### Удаление пропусков",
      "metadata": {
        "deletable": false,
        "editable": false,
        "id": "02d92d53"
      },
      "id": "4a5f0666"
    },
    {
      "cell_type": "markdown",
      "source": "**Задание 4. Выведите количество пропущенных значений для каждого столбца. Используйте комбинацию двух методов.**",
      "metadata": {
        "deletable": false,
        "editable": false,
        "id": "cd84967c"
      },
      "id": "84adef1f"
    },
    {
      "cell_type": "code",
      "source": "data.isna().sum()",
      "metadata": {
        "deletable": false,
        "id": "7f9b2309",
        "outputId": "81f4d817-781c-465c-ed15-91ce4446810d"
      },
      "execution_count": 746,
      "outputs": [
        {
          "execution_count": 746,
          "output_type": "execute_result",
          "data": {
            "text/plain": [
              "children               0\n",
              "days_employed       2174\n",
              "dob_years              0\n",
              "education              0\n",
              "education_id           0\n",
              "family_status          0\n",
              "family_status_id       0\n",
              "gender                 0\n",
              "income_type            0\n",
              "debt                   0\n",
              "total_income        2174\n",
              "purpose                0\n",
              "dtype: int64"
            ]
          },
          "metadata": {}
        }
      ],
      "id": "8cb268d5"
    },
    {
      "cell_type": "markdown",
      "source": "**Задание 5. В двух столбцах есть пропущенные значения. Один из них — `days_employed`. Пропуски в этом столбце вы обработаете на следующем этапе. Другой столбец с пропущенными значениями — `total_income` — хранит данные о доходах. На сумму дохода сильнее всего влияет тип занятости, поэтому заполнить пропуски в этом столбце нужно медианным значением по каждому типу из столбца `income_type`. Например, у человека с типом занятости `сотрудник` пропуск в столбце `total_income` должен быть заполнен медианным доходом среди всех записей с тем же типом.**",
      "metadata": {
        "deletable": false,
        "editable": false,
        "id": "db86e27b"
      },
      "id": "258213f1"
    },
    {
      "cell_type": "code",
      "source": "for t in data['income_type'].unique():\n    data.loc[(data['income_type'] == t) & (data['total_income'].isna()), 'total_income'] = \\\n    data.loc[(data['income_type'] == t), 'total_income'].median()",
      "metadata": {
        "deletable": false,
        "id": "42006a93"
      },
      "execution_count": 747,
      "outputs": [],
      "id": "7137cebd"
    },
    {
      "cell_type": "markdown",
      "source": "### Обработка аномальных значений",
      "metadata": {
        "deletable": false,
        "editable": false,
        "id": "89da5ece"
      },
      "id": "e46eb70f"
    },
    {
      "cell_type": "markdown",
      "source": "**Задание 6. В данных могут встречаться артефакты (аномалии) — значения, которые не отражают действительность и появились по какой-то ошибке. таким артефактом будет отрицательное количество дней трудового стажа в столбце `days_employed`. Для реальных данных это нормально. Обработайте значения в этом столбце: замените все отрицательные значения положительными с помощью метода `abs()`.**",
      "metadata": {
        "deletable": false,
        "editable": false,
        "id": "57964554"
      },
      "id": "f13624bb"
    },
    {
      "cell_type": "code",
      "source": "data['days_employed'] = data['days_employed'].abs()",
      "metadata": {
        "deletable": false,
        "id": "f6f055bf"
      },
      "execution_count": 748,
      "outputs": [],
      "id": "a25c4cad"
    },
    {
      "cell_type": "markdown",
      "source": "**Задание 7. Для каждого типа занятости выведите медианное значение трудового стажа `days_employed` в днях.**",
      "metadata": {
        "deletable": false,
        "editable": false,
        "id": "6107dd2f"
      },
      "id": "d1b7c250"
    },
    {
      "cell_type": "code",
      "source": "data.groupby('income_type')['days_employed'].agg('median')",
      "metadata": {
        "deletable": false,
        "id": "85a5faf6",
        "outputId": "801ef80e-522b-4668-f34e-565af7432bcf"
      },
      "execution_count": 749,
      "outputs": [
        {
          "execution_count": 749,
          "output_type": "execute_result",
          "data": {
            "text/plain": [
              "income_type\n",
              "безработный        366413.652744\n",
              "в декрете            3296.759962\n",
              "госслужащий          2689.368353\n",
              "компаньон            1547.382223\n",
              "пенсионер          365213.306266\n",
              "предприниматель       520.848083\n",
              "сотрудник            1574.202821\n",
              "студент               578.751554\n",
              "Name: days_employed, dtype: float64"
            ]
          },
          "metadata": {}
        }
      ],
      "id": "cb9a9c8e"
    },
    {
      "cell_type": "markdown",
      "source": "У двух типов (безработные и пенсионеры) получатся аномально большие значения. Исправить такие значения сложно, поэтому оставьте их как есть. Тем более этот столбец не понадобится вам для исследования.",
      "metadata": {
        "deletable": false,
        "editable": false,
        "id": "38d1a030"
      },
      "id": "b67bd387"
    },
    {
      "cell_type": "markdown",
      "source": "**Задание 8. Выведите перечень уникальных значений столбца `children`.**",
      "metadata": {
        "deletable": false,
        "editable": false,
        "id": "d8a9f147"
      },
      "id": "cbfdbd73"
    },
    {
      "cell_type": "code",
      "source": "data['children'].unique()",
      "metadata": {
        "deletable": false,
        "id": "ef5056eb",
        "outputId": "6975b15c-7f95-4697-d16d-a0c79b657b03"
      },
      "execution_count": 750,
      "outputs": [
        {
          "execution_count": 750,
          "output_type": "execute_result",
          "data": {
            "text/plain": [
              "array([ 1,  0,  3,  2, -1,  4, 20,  5])"
            ]
          },
          "metadata": {}
        }
      ],
      "id": "1fddd0bc"
    },
    {
      "cell_type": "markdown",
      "source": "**Задание 9. В столбце `children` есть два аномальных значения. Удалите строки, в которых встречаются такие аномальные значения из датафрейма `data`.**",
      "metadata": {
        "deletable": false,
        "editable": false,
        "id": "40b9ebf2"
      },
      "id": "2adcd174"
    },
    {
      "cell_type": "code",
      "source": "data = data[(data['children'] != -1) & (data['children'] != 20)]",
      "metadata": {
        "deletable": false,
        "id": "3ff9801d"
      },
      "execution_count": 751,
      "outputs": [],
      "id": "603a8799"
    },
    {
      "cell_type": "markdown",
      "source": "**Задание 10. Ещё раз выведите перечень уникальных значений столбца `children`, чтобы убедиться, что артефакты удалены.**",
      "metadata": {
        "deletable": false,
        "editable": false,
        "id": "bbc4d0ce"
      },
      "id": "8ff57efa"
    },
    {
      "cell_type": "code",
      "source": "data['children'].unique()",
      "metadata": {
        "deletable": false,
        "id": "ad4fa8b7",
        "outputId": "b2097101-d49d-44d9-901b-32a65c9463d1"
      },
      "execution_count": 752,
      "outputs": [
        {
          "execution_count": 752,
          "output_type": "execute_result",
          "data": {
            "text/plain": [
              "array([1, 0, 3, 2, 4, 5])"
            ]
          },
          "metadata": {}
        }
      ],
      "id": "7cae00c7"
    },
    {
      "cell_type": "markdown",
      "source": "### Удаление пропусков (продолжение)",
      "metadata": {
        "deletable": false,
        "editable": false,
        "id": "75440b63"
      },
      "id": "107919ac"
    },
    {
      "cell_type": "markdown",
      "source": "**Задание 11. Заполните пропуски в столбце `days_employed` медианными значениями по каждого типа занятости `income_type`.**",
      "metadata": {
        "deletable": false,
        "editable": false,
        "id": "f4ea573f"
      },
      "id": "57cf8080"
    },
    {
      "cell_type": "code",
      "source": "for t in data['income_type'].unique():\n    data.loc[(data['income_type'] == t) & (data['days_employed'].isna()), 'days_employed'] = \\\n    data.loc[(data['income_type'] == t), 'days_employed'].median()",
      "metadata": {
        "deletable": false,
        "id": "af6b1a7e"
      },
      "execution_count": 753,
      "outputs": [],
      "id": "043e400a"
    },
    {
      "cell_type": "markdown",
      "source": "**Задание 12. Убедитесь, что все пропуски заполнены. Проверьте себя и ещё раз выведите количество пропущенных значений для каждого столбца с помощью двух методов.**",
      "metadata": {
        "deletable": false,
        "editable": false,
        "id": "2753f40d"
      },
      "id": "e667f889"
    },
    {
      "cell_type": "code",
      "source": "data.isna().sum()",
      "metadata": {
        "deletable": false,
        "id": "55f78bc2",
        "outputId": "8da1e4e1-358e-4e87-98c9-f261bce0a7b2"
      },
      "execution_count": 754,
      "outputs": [
        {
          "execution_count": 754,
          "output_type": "execute_result",
          "data": {
            "text/plain": [
              "children            0\n",
              "days_employed       0\n",
              "dob_years           0\n",
              "education           0\n",
              "education_id        0\n",
              "family_status       0\n",
              "family_status_id    0\n",
              "gender              0\n",
              "income_type         0\n",
              "debt                0\n",
              "total_income        0\n",
              "purpose             0\n",
              "dtype: int64"
            ]
          },
          "metadata": {}
        }
      ],
      "id": "440e0f1f"
    },
    {
      "cell_type": "markdown",
      "source": "### Изменение типов данных",
      "metadata": {
        "deletable": false,
        "editable": false,
        "id": "ddc81e43"
      },
      "id": "db40deb6"
    },
    {
      "cell_type": "markdown",
      "source": "**Задание 13. Замените вещественный тип данных в столбце `total_income` на целочисленный с помощью метода `astype()`.**",
      "metadata": {
        "deletable": false,
        "editable": false,
        "id": "42d19d24"
      },
      "id": "d843c198"
    },
    {
      "cell_type": "code",
      "source": "data['total_income'] = data['total_income'].astype(int)",
      "metadata": {
        "deletable": false,
        "id": "920b65ad"
      },
      "execution_count": 755,
      "outputs": [],
      "id": "a634ca07"
    },
    {
      "cell_type": "markdown",
      "source": "### Обработка дубликатов",
      "metadata": {
        "deletable": false,
        "editable": false,
        "id": "80c420ba"
      },
      "id": "beaedea5"
    },
    {
      "cell_type": "markdown",
      "source": "**Задание 14. Обработайте неявные дубликаты в столбце `education`. В этом столбце есть одни и те же значения, но записанные по-разному: с использованием заглавных и строчных букв. Приведите их к нижнему регистру. Проверьте остальные столбцы.**",
      "metadata": {
        "deletable": false,
        "editable": false
      },
      "id": "cb0c8e8c"
    },
    {
      "cell_type": "code",
      "source": "data['education'] = data['education'].str.lower()",
      "metadata": {
        "deletable": false
      },
      "execution_count": 756,
      "outputs": [],
      "id": "4ec8fcca"
    },
    {
      "cell_type": "markdown",
      "source": "**Задание 15. Выведите на экран количество строк-дубликатов в данных. Если такие строки присутствуют, удалите их.**",
      "metadata": {
        "deletable": false,
        "editable": false,
        "id": "dc587695"
      },
      "id": "8f4150ce"
    },
    {
      "cell_type": "code",
      "source": "data.duplicated().sum()",
      "metadata": {
        "deletable": false,
        "id": "3ee445e4",
        "outputId": "9684deba-1934-42d1-99e1-cda61740f822"
      },
      "execution_count": 757,
      "outputs": [
        {
          "execution_count": 757,
          "output_type": "execute_result",
          "data": {
            "text/plain": [
              "71"
            ]
          },
          "metadata": {}
        }
      ],
      "id": "e086ec94"
    },
    {
      "cell_type": "code",
      "source": "data = data.drop_duplicates()",
      "metadata": {
        "deletable": false,
        "id": "8575fe05"
      },
      "execution_count": 758,
      "outputs": [],
      "id": "3f4bcb39"
    },
    {
      "cell_type": "markdown",
      "source": "### Категоризация данных",
      "metadata": {
        "deletable": false,
        "editable": false,
        "id": "9904cf55"
      },
      "id": "e2323ddf"
    },
    {
      "cell_type": "markdown",
      "source": "**Задание 16. На основании диапазонов, указанных ниже, создайте в датафрейме `data` столбец `total_income_category` с категориями:**\n\n- 0–30000 — `'E'`;\n- 30001–50000 — `'D'`;\n- 50001–200000 — `'C'`;\n- 200001–1000000 — `'B'`;\n- 1000001 и выше — `'A'`.\n\n\n**Например, кредитополучателю с доходом 25000 нужно назначить категорию `'E'`, а клиенту, получающему 235000, — `'B'`. Используйте собственную функцию с именем `categorize_income()` и метод `apply()`.**",
      "metadata": {
        "deletable": false,
        "editable": false,
        "id": "72fcc8a2"
      },
      "id": "d9ceeaa5"
    },
    {
      "cell_type": "code",
      "source": "def categorize_income(income):\n    try:\n        if 0 <= income <= 30000:\n            return 'E'\n        elif 30001 <= income <= 50000:\n            return 'D'\n        elif 50001 <= income <= 200000:\n            return 'C'\n        elif 200001 <= income <= 1000000:\n            return 'B'\n        elif income >= 1000001:\n            return 'A'\n    except:\n        pass",
      "metadata": {
        "deletable": false,
        "id": "e1771346"
      },
      "execution_count": 759,
      "outputs": [],
      "id": "e7cd35bc"
    },
    {
      "cell_type": "code",
      "source": "data['total_income_category'] = data['total_income'].apply(categorize_income)",
      "metadata": {
        "deletable": false,
        "id": "d5f3586d"
      },
      "execution_count": 760,
      "outputs": [],
      "id": "7ca70ad9"
    },
    {
      "cell_type": "markdown",
      "source": "**Задание 17. Выведите на экран перечень уникальных целей взятия кредита из столбца `purpose`.**",
      "metadata": {
        "deletable": false,
        "editable": false,
        "id": "dde49b5c"
      },
      "id": "1c12ca95"
    },
    {
      "cell_type": "code",
      "source": "data['purpose'].unique()",
      "metadata": {
        "deletable": false,
        "id": "f67ce9b3",
        "outputId": "673c12d9-7d7e-4ae0-9812-c622c89dd244"
      },
      "execution_count": 761,
      "outputs": [
        {
          "execution_count": 761,
          "output_type": "execute_result",
          "data": {
            "text/plain": [
              "array(['покупка жилья', 'приобретение автомобиля',\n",
              "       'дополнительное образование', 'сыграть свадьбу',\n",
              "       'операции с жильем', 'образование', 'на проведение свадьбы',\n",
              "       'покупка жилья для семьи', 'покупка недвижимости',\n",
              "       'покупка коммерческой недвижимости', 'покупка жилой недвижимости',\n",
              "       'строительство собственной недвижимости', 'недвижимость',\n",
              "       'строительство недвижимости', 'на покупку подержанного автомобиля',\n",
              "       'на покупку своего автомобиля',\n",
              "       'операции с коммерческой недвижимостью',\n",
              "       'строительство жилой недвижимости', 'жилье',\n",
              "       'операции со своей недвижимостью', 'автомобили',\n",
              "       'заняться образованием', 'сделка с подержанным автомобилем',\n",
              "       'получение образования', 'автомобиль', 'свадьба',\n",
              "       'получение дополнительного образования', 'покупка своего жилья',\n",
              "       'операции с недвижимостью', 'получение высшего образования',\n",
              "       'свой автомобиль', 'сделка с автомобилем',\n",
              "       'профильное образование', 'высшее образование',\n",
              "       'покупка жилья для сдачи', 'на покупку автомобиля', 'ремонт жилью',\n",
              "       'заняться высшим образованием'], dtype=object)"
            ]
          },
          "metadata": {}
        }
      ],
      "id": "cb749feb"
    },
    {
      "cell_type": "markdown",
      "source": "**Задание 18. Создайте функцию, которая на основании данных из столбца `purpose` сформирует новый столбец `purpose_category`, в который войдут следующие категории:**\n\n- `'операции с автомобилем'`,\n- `'операции с недвижимостью'`,\n- `'проведение свадьбы'`,\n- `'получение образования'`.\n\n**Например, если в столбце `purpose` находится подстрока `'на покупку автомобиля'`, то в столбце `purpose_category` должна появиться строка `'операции с автомобилем'`.**\n\n**Используйте собственную функцию с именем `categorize_purpose()` и метод `apply()`. Изучите данные в столбце `purpose` и определите, какие подстроки помогут вам правильно определить категорию.**",
      "metadata": {
        "deletable": false,
        "editable": false,
        "id": "85d0aef0"
      },
      "id": "6352fbc6"
    },
    {
      "cell_type": "code",
      "source": "def categorize_purpose(row):\n    try:\n        if 'автом' in row:\n            return 'операции с автомобилем'\n        elif 'жил' in row or 'недвиж' in row:\n            return 'операции с недвижимостью'\n        elif 'свад' in row:\n            return 'проведение свадьбы'\n        elif 'образов' in row:\n            return 'получение образования'\n    except:\n        return 'нет категории'",
      "metadata": {
        "deletable": false,
        "id": "e149fab4"
      },
      "execution_count": 762,
      "outputs": [],
      "id": "3ce8c138"
    },
    {
      "cell_type": "code",
      "source": "data['purpose_category'] = data['purpose'].apply(categorize_purpose)",
      "metadata": {
        "deletable": false,
        "id": "bf36e69b"
      },
      "execution_count": 763,
      "outputs": [],
      "id": "b7cbeda6"
    },
    {
      "cell_type": "markdown",
      "source": "### Шаг 3. Исследуйте данные и ответьте на вопросы",
      "metadata": {
        "deletable": false,
        "editable": false,
        "id": "09b242bf"
      },
      "id": "66876610"
    },
    {
      "cell_type": "code",
      "source": "#Создание среза таблицы с исходными данными, чтобы в ней проводить измерения и проверка входящих в него знаечний\ndf = data[[\"children\",\"debt\",\"family_status\",\"total_income_category\",\"purpose_category\",\"total_income\"]].copy(deep=True)\ndf.info()\ndf.isna().sum()",
      "metadata": {},
      "execution_count": 764,
      "outputs": [
        {
          "name": "stdout",
          "output_type": "stream",
          "text": "<class 'pandas.core.frame.DataFrame'>\n\nInt64Index: 21331 entries, 0 to 21524\n\nData columns (total 6 columns):\n\n #   Column                 Non-Null Count  Dtype \n\n---  ------                 --------------  ----- \n\n 0   children               21331 non-null  int64 \n\n 1   debt                   21331 non-null  int64 \n\n 2   family_status          21331 non-null  object\n\n 3   total_income_category  21331 non-null  object\n\n 4   purpose_category       21331 non-null  object\n\n 5   total_income           21331 non-null  int64 \n\ndtypes: int64(3), object(3)\n\nmemory usage: 1.1+ MB\n"
        },
        {
          "execution_count": 764,
          "output_type": "execute_result",
          "data": {
            "text/plain": [
              "children                 0\n",
              "debt                     0\n",
              "family_status            0\n",
              "total_income_category    0\n",
              "purpose_category         0\n",
              "total_income             0\n",
              "dtype: int64"
            ]
          },
          "metadata": {}
        }
      ],
      "id": "79db9e88"
    },
    {
      "cell_type": "markdown",
      "source": "#### 3.1 Есть ли зависимость между количеством детей и возвратом кредита в срок?",
      "metadata": {
        "deletable": false,
        "editable": false,
        "id": "c5d66278"
      },
      "id": "3276dd41"
    },
    {
      "cell_type": "code",
      "source": "# Ваш код будет здесь. Вы можете создавать новые ячейки.\n\n#Здесь и далее переименование колонки по которой идет сортировка для более наглядного вывода\n#окончательного варианта таблицы\ndf.rename(columns = {'children':'Количество детей'}, inplace = True )\n\ngrouped_by_children = df.groupby(\"Количество детей\")[\"debt\"].agg([\"count\",\"sum\"])\n\ngrouped_by_children[\"debtors_percent\"] = (grouped_by_children[\"sum\"]/grouped_by_children[\"count\"]*100).round(2)\n\ngrouped_by_children.columns = [\"Общее количество выданных кредитов\",\"Количество должников\",\"Процент должников\"]\n\nmulti_child_total = grouped_by_children.loc[3:,\"Общее количество выданных кредитов\"].sum()\nmulti_child_debtors = grouped_by_children.loc[3:,\"Количество должников\"].sum()\npercentage = (multi_child_debtors/multi_child_total*100).round(2)\nprint(f\"Должников среди многодетных семей: {percentage}%\")\n\ngrouped_by_children",
      "metadata": {
        "deletable": false,
        "id": "2cacfc4a"
      },
      "execution_count": 765,
      "outputs": [
        {
          "name": "stdout",
          "output_type": "stream",
          "text": "Должников среди многодетных семей: 8.16%\n"
        },
        {
          "execution_count": 765,
          "output_type": "execute_result",
          "data": {
            "text/html": [
              "<div>\n",
              "<style scoped>\n",
              "    .dataframe tbody tr th:only-of-type {\n",
              "        vertical-align: middle;\n",
              "    }\n",
              "\n",
              "    .dataframe tbody tr th {\n",
              "        vertical-align: top;\n",
              "    }\n",
              "\n",
              "    .dataframe thead th {\n",
              "        text-align: right;\n",
              "    }\n",
              "</style>\n",
              "<table border=\"1\" class=\"dataframe\">\n",
              "  <thead>\n",
              "    <tr style=\"text-align: right;\">\n",
              "      <th></th>\n",
              "      <th>Общее количество выданных кредитов</th>\n",
              "      <th>Количество должников</th>\n",
              "      <th>Процент должников</th>\n",
              "    </tr>\n",
              "    <tr>\n",
              "      <th>Количество детей</th>\n",
              "      <th></th>\n",
              "      <th></th>\n",
              "      <th></th>\n",
              "    </tr>\n",
              "  </thead>\n",
              "  <tbody>\n",
              "    <tr>\n",
              "      <th>0</th>\n",
              "      <td>14091</td>\n",
              "      <td>1063</td>\n",
              "      <td>7.54</td>\n",
              "    </tr>\n",
              "    <tr>\n",
              "      <th>1</th>\n",
              "      <td>4808</td>\n",
              "      <td>444</td>\n",
              "      <td>9.23</td>\n",
              "    </tr>\n",
              "    <tr>\n",
              "      <th>2</th>\n",
              "      <td>2052</td>\n",
              "      <td>194</td>\n",
              "      <td>9.45</td>\n",
              "    </tr>\n",
              "    <tr>\n",
              "      <th>3</th>\n",
              "      <td>330</td>\n",
              "      <td>27</td>\n",
              "      <td>8.18</td>\n",
              "    </tr>\n",
              "    <tr>\n",
              "      <th>4</th>\n",
              "      <td>41</td>\n",
              "      <td>4</td>\n",
              "      <td>9.76</td>\n",
              "    </tr>\n",
              "    <tr>\n",
              "      <th>5</th>\n",
              "      <td>9</td>\n",
              "      <td>0</td>\n",
              "      <td>0.00</td>\n",
              "    </tr>\n",
              "  </tbody>\n",
              "</table>\n",
              "</div>"
            ],
            "text/plain": [
              "                  Общее количество выданных кредитов  Количество должников  \\\n",
              "Количество детей                                                             \n",
              "0                                              14091                  1063   \n",
              "1                                               4808                   444   \n",
              "2                                               2052                   194   \n",
              "3                                                330                    27   \n",
              "4                                                 41                     4   \n",
              "5                                                  9                     0   \n",
              "\n",
              "                  Процент должников  \n",
              "Количество детей                     \n",
              "0                              7.54  \n",
              "1                              9.23  \n",
              "2                              9.45  \n",
              "3                              8.18  \n",
              "4                              9.76  \n",
              "5                              0.00  "
            ]
          },
          "metadata": {}
        }
      ],
      "id": "c55b4738"
    },
    {
      "cell_type": "markdown",
      "source": "**Вывод:** \nУ семей с разным количством детей процент невозврата кредита в срок различается. Меньше всего просроек у бездетных, тогда как больше всего у семей с 4 детьми. Однако для многодетных семей такой результат может быть ненадежным, так как получен по малой выборке. \nБыл расчитан общий процент должников для многодетных семей, который составил менее 9%. Если принять во внимание этот результат, то самым неблагонадежным платильщиком можно назвать семью с двумя детьми.",
      "metadata": {
        "deletable": false,
        "id": "3a6b99ec"
      },
      "id": "a3b76f09"
    },
    {
      "cell_type": "markdown",
      "source": "#### 3.2 Есть ли зависимость между семейным положением и возвратом кредита в срок?",
      "metadata": {
        "deletable": false,
        "editable": false,
        "id": "97be82ca"
      },
      "id": "e598d6f7"
    },
    {
      "cell_type": "code",
      "source": "# Ваш код будет здесь. Вы можете создавать новые ячейки.\n\ndf[\"family_status\"] = df[\"family_status\"].str.lower()\n\ndf.rename(columns = {'family_status':'Семейное положение'}, inplace = True )\n\ngrouped_by_family_status = df.groupby(\"Семейное положение\")[\"debt\"].agg([\"count\",\"sum\"])\n\ngrouped_by_family_status[\"debtors_percent\"] = (grouped_by_family_status[\"sum\"]/grouped_by_family_status[\"count\"]*100).round(2)\n\ngrouped_by_family_status.columns = [\"Общее количество выданных кредитов\",\"Количество должников\",\"Процент должников\"]\n\ngrouped_by_family_status",
      "metadata": {
        "deletable": false,
        "id": "dc3f7ee8"
      },
      "execution_count": 766,
      "outputs": [
        {
          "execution_count": 766,
          "output_type": "execute_result",
          "data": {
            "text/html": [
              "<div>\n",
              "<style scoped>\n",
              "    .dataframe tbody tr th:only-of-type {\n",
              "        vertical-align: middle;\n",
              "    }\n",
              "\n",
              "    .dataframe tbody tr th {\n",
              "        vertical-align: top;\n",
              "    }\n",
              "\n",
              "    .dataframe thead th {\n",
              "        text-align: right;\n",
              "    }\n",
              "</style>\n",
              "<table border=\"1\" class=\"dataframe\">\n",
              "  <thead>\n",
              "    <tr style=\"text-align: right;\">\n",
              "      <th></th>\n",
              "      <th>Общее количество выданных кредитов</th>\n",
              "      <th>Количество должников</th>\n",
              "      <th>Процент должников</th>\n",
              "    </tr>\n",
              "    <tr>\n",
              "      <th>Семейное положение</th>\n",
              "      <th></th>\n",
              "      <th></th>\n",
              "      <th></th>\n",
              "    </tr>\n",
              "  </thead>\n",
              "  <tbody>\n",
              "    <tr>\n",
              "      <th>в разводе</th>\n",
              "      <td>1189</td>\n",
              "      <td>84</td>\n",
              "      <td>7.06</td>\n",
              "    </tr>\n",
              "    <tr>\n",
              "      <th>вдовец / вдова</th>\n",
              "      <td>951</td>\n",
              "      <td>63</td>\n",
              "      <td>6.62</td>\n",
              "    </tr>\n",
              "    <tr>\n",
              "      <th>гражданский брак</th>\n",
              "      <td>4134</td>\n",
              "      <td>385</td>\n",
              "      <td>9.31</td>\n",
              "    </tr>\n",
              "    <tr>\n",
              "      <th>женат / замужем</th>\n",
              "      <td>12261</td>\n",
              "      <td>927</td>\n",
              "      <td>7.56</td>\n",
              "    </tr>\n",
              "    <tr>\n",
              "      <th>не женат / не замужем</th>\n",
              "      <td>2796</td>\n",
              "      <td>273</td>\n",
              "      <td>9.76</td>\n",
              "    </tr>\n",
              "  </tbody>\n",
              "</table>\n",
              "</div>"
            ],
            "text/plain": [
              "                       Общее количество выданных кредитов  \\\n",
              "Семейное положение                                          \n",
              "в разводе                                            1189   \n",
              "вдовец / вдова                                        951   \n",
              "гражданский брак                                     4134   \n",
              "женат / замужем                                     12261   \n",
              "не женат / не замужем                                2796   \n",
              "\n",
              "                       Количество должников  Процент должников  \n",
              "Семейное положение                                              \n",
              "в разводе                                84               7.06  \n",
              "вдовец / вдова                           63               6.62  \n",
              "гражданский брак                        385               9.31  \n",
              "женат / замужем                         927               7.56  \n",
              "не женат / не замужем                   273               9.76  "
            ]
          },
          "metadata": {}
        }
      ],
      "id": "d1fc06c2"
    },
    {
      "cell_type": "markdown",
      "source": "**Вывод:** \nМеньше всего просрочек по кредиту у вдовцов и вдов (всего 6,62% от общего количтсва), однако они представляют собой наименьшую по количеству категорию заемщиков. Менее отвественны в выплате кредитов в срок одиокие люди. Категория состоящих в браке наибольшая, так что результат, полученный для них, можно считать наиболее надежным.",
      "metadata": {
        "deletable": false,
        "id": "1cef7837"
      },
      "id": "dade6890"
    },
    {
      "cell_type": "markdown",
      "source": "#### 3.3 Есть ли зависимость между уровнем дохода и возвратом кредита в срок?",
      "metadata": {
        "deletable": false,
        "editable": false,
        "id": "1e8b2fca"
      },
      "id": "c3ce4164"
    },
    {
      "cell_type": "code",
      "source": "# Ваш код будет здесь. Вы можете создавать новые ячейки.\n\n#Исследвание разбраса значений внутри различных категорий дохода\nimport seaborn as sns\nsns.violinplot(data=df,x=\"total_income_category\",y=\"total_income\",inner=None)\n\n#Создание понятного описания категорий\nincome_categories = pd.DataFrame({\"Доход, руб\":[\"Более 1000000\",\"200001-1000000\",\"50001-200000\",\"30000-50000\",\"Менее 30000\"]},index=[\"A\",\"B\",\"C\",\"D\",\"E\"]) \n\ngrouped_by_income = df.groupby(\"total_income_category\")[\"debt\"].agg([\"count\",\"sum\"])\n\ngrouped_by_income[\"debtors_percent\"] = (grouped_by_income[\"sum\"]/grouped_by_income[\"count\"]*100).round(2)\n\ngrouped_by_income.columns = [\"Общее количество выданных кредитов\",\"Количество должников\",\"Процент должников\"]\n\nincome_categories.merge(grouped_by_income, left_index=True, right_index=True)",
      "metadata": {
        "deletable": false,
        "id": "cd7e3720"
      },
      "execution_count": 767,
      "outputs": [
        {
          "execution_count": 767,
          "output_type": "execute_result",
          "data": {
            "text/html": [
              "<div>\n",
              "<style scoped>\n",
              "    .dataframe tbody tr th:only-of-type {\n",
              "        vertical-align: middle;\n",
              "    }\n",
              "\n",
              "    .dataframe tbody tr th {\n",
              "        vertical-align: top;\n",
              "    }\n",
              "\n",
              "    .dataframe thead th {\n",
              "        text-align: right;\n",
              "    }\n",
              "</style>\n",
              "<table border=\"1\" class=\"dataframe\">\n",
              "  <thead>\n",
              "    <tr style=\"text-align: right;\">\n",
              "      <th></th>\n",
              "      <th>Доход, руб</th>\n",
              "      <th>Общее количество выданных кредитов</th>\n",
              "      <th>Количество должников</th>\n",
              "      <th>Процент должников</th>\n",
              "    </tr>\n",
              "  </thead>\n",
              "  <tbody>\n",
              "    <tr>\n",
              "      <th>A</th>\n",
              "      <td>Более 1000000</td>\n",
              "      <td>25</td>\n",
              "      <td>2</td>\n",
              "      <td>8.00</td>\n",
              "    </tr>\n",
              "    <tr>\n",
              "      <th>B</th>\n",
              "      <td>200001-1000000</td>\n",
              "      <td>5014</td>\n",
              "      <td>354</td>\n",
              "      <td>7.06</td>\n",
              "    </tr>\n",
              "    <tr>\n",
              "      <th>C</th>\n",
              "      <td>50001-200000</td>\n",
              "      <td>15921</td>\n",
              "      <td>1353</td>\n",
              "      <td>8.50</td>\n",
              "    </tr>\n",
              "    <tr>\n",
              "      <th>D</th>\n",
              "      <td>30000-50000</td>\n",
              "      <td>349</td>\n",
              "      <td>21</td>\n",
              "      <td>6.02</td>\n",
              "    </tr>\n",
              "    <tr>\n",
              "      <th>E</th>\n",
              "      <td>Менее 30000</td>\n",
              "      <td>22</td>\n",
              "      <td>2</td>\n",
              "      <td>9.09</td>\n",
              "    </tr>\n",
              "  </tbody>\n",
              "</table>\n",
              "</div>"
            ],
            "text/plain": [
              "       Доход, руб  Общее количество выданных кредитов  Количество должников  \\\n",
              "A   Более 1000000                                  25                     2   \n",
              "B  200001-1000000                                5014                   354   \n",
              "C    50001-200000                               15921                  1353   \n",
              "D     30000-50000                                 349                    21   \n",
              "E     Менее 30000                                  22                     2   \n",
              "\n",
              "   Процент должников  \n",
              "A               8.00  \n",
              "B               7.06  \n",
              "C               8.50  \n",
              "D               6.02  \n",
              "E               9.09  "
            ]
          },
          "metadata": {}
        },
        {
          "output_type": "display_data",
          "data": {
            "image/png": "[encoded data removed]",
            "text/plain": [
              "<Figure size 432x288 with 1 Axes>"
            ]
          },
          "metadata": {
            "needs_background": "light"
          }
        }
      ],
      "id": "01458ae8"
    },
    {
      "cell_type": "markdown",
      "source": "**Вывод:** \nНа графике можно видеть разброс доходов в отдельных категориях.\n\nНаиболее надежным можно считать результаты, полученные для заемщиков с доходом от 50'000 до 1'000'000 руб. В категории \"С\" находится больше человек, чем в сумме по всем остальным, так что можно предположить, что полученные 8,50% являются корректной оценкой. В тоже время в категориях \"В\" и \"А\" набдюдается большой разброс в доходах, и возможно, если разделить категорию \"В\" на подгатегории, это изменит результат, в то время разделение категории \"А\" не даст положительного реузльтата, так как заемкщиков внутри этой категории и так мало. Как и в \"А\" в категории \"Е\" малое количество заемщиков, что делает оценку ненадежной.\n\nВ целом нельзя сказать, что уроевнь дохода и процент должников имеюют линейную зависимость. Более показательные результаты могло бы дать деление на более мелкие категории для проверки данной гипотезы.\n\n\nP.S.\nС другой стороны, деление на данные категории именно по таким уровням было скорее всего было обосновано, даже несмотря на большой разброс значений доходов внутри них.",
      "metadata": {
        "deletable": false,
        "id": "e8593def"
      },
      "id": "0ebb0351"
    },
    {
      "cell_type": "markdown",
      "source": "#### 3.4 Как разные цели кредита влияют на его возврат в срок?",
      "metadata": {
        "deletable": false,
        "editable": false,
        "id": "99ecbd1f"
      },
      "id": "5d169ac9"
    },
    {
      "cell_type": "code",
      "source": "# Ваш код будет здесь. Вы можете создавать новые ячейки.\ndf.rename(columns = {'purpose_category':'Цель кредита'}, inplace = True )\n\ngrouped_by_purpose = df.groupby(\"Цель кредита\")[\"debt\"].agg([\"count\",\"sum\"])\n\ngrouped_by_purpose[\"debtors_percent\"] = (grouped_by_purpose[\"sum\"]/grouped_by_purpose[\"count\"]*100).round(2)\n\ngrouped_by_purpose.columns = [\"Общее количество выданных кредитов\",\"Количество должников\",\"Процент должников\"]\n\ngrouped_by_purpose",
      "metadata": {
        "deletable": false,
        "id": "2b687290"
      },
      "execution_count": 768,
      "outputs": [
        {
          "execution_count": 768,
          "output_type": "execute_result",
          "data": {
            "text/html": [
              "<div>\n",
              "<style scoped>\n",
              "    .dataframe tbody tr th:only-of-type {\n",
              "        vertical-align: middle;\n",
              "    }\n",
              "\n",
              "    .dataframe tbody tr th {\n",
              "        vertical-align: top;\n",
              "    }\n",
              "\n",
              "    .dataframe thead th {\n",
              "        text-align: right;\n",
              "    }\n",
              "</style>\n",
              "<table border=\"1\" class=\"dataframe\">\n",
              "  <thead>\n",
              "    <tr style=\"text-align: right;\">\n",
              "      <th></th>\n",
              "      <th>Общее количество выданных кредитов</th>\n",
              "      <th>Количество должников</th>\n",
              "      <th>Процент должников</th>\n",
              "    </tr>\n",
              "    <tr>\n",
              "      <th>Цель кредита</th>\n",
              "      <th></th>\n",
              "      <th></th>\n",
              "      <th></th>\n",
              "    </tr>\n",
              "  </thead>\n",
              "  <tbody>\n",
              "    <tr>\n",
              "      <th>операции с автомобилем</th>\n",
              "      <td>4279</td>\n",
              "      <td>400</td>\n",
              "      <td>9.35</td>\n",
              "    </tr>\n",
              "    <tr>\n",
              "      <th>операции с недвижимостью</th>\n",
              "      <td>10751</td>\n",
              "      <td>780</td>\n",
              "      <td>7.26</td>\n",
              "    </tr>\n",
              "    <tr>\n",
              "      <th>получение образования</th>\n",
              "      <td>3988</td>\n",
              "      <td>369</td>\n",
              "      <td>9.25</td>\n",
              "    </tr>\n",
              "    <tr>\n",
              "      <th>проведение свадьбы</th>\n",
              "      <td>2313</td>\n",
              "      <td>183</td>\n",
              "      <td>7.91</td>\n",
              "    </tr>\n",
              "  </tbody>\n",
              "</table>\n",
              "</div>"
            ],
            "text/plain": [
              "                          Общее количество выданных кредитов  \\\n",
              "Цель кредита                                                   \n",
              "операции с автомобилем                                  4279   \n",
              "операции с недвижимостью                               10751   \n",
              "получение образования                                   3988   \n",
              "проведение свадьбы                                      2313   \n",
              "\n",
              "                          Количество должников  Процент должников  \n",
              "Цель кредита                                                       \n",
              "операции с автомобилем                     400               9.35  \n",
              "операции с недвижимостью                   780               7.26  \n",
              "получение образования                      369               9.25  \n",
              "проведение свадьбы                         183               7.91  "
            ]
          },
          "metadata": {}
        }
      ],
      "id": "37118b5b"
    },
    {
      "cell_type": "markdown",
      "source": "**Вывод:** \nВо всех категориях количество заемщиков достаточно, чтобы предположить, что оценка являтеся надежной.\n\nМеньше просрочек по кредиту наблюдаются в категории \"Операции с недвижимостью\" (7.26%). Это можно объяснить тем, что чаще такие кредиты берутся под залог покупаемой недвижимости. Тогда как в категориях \"Операции с автомобилем\" и \"Получение образования\" наблюдается примерно одинаковое количество просроченных платежей.",
      "metadata": {
        "deletable": false,
        "id": "b4bb2ce6"
      },
      "id": "34d2d95c"
    },
    {
      "cell_type": "markdown",
      "source": "#### 3.5 Приведите возможные причины появления пропусков в исходных данных.",
      "metadata": {
        "deletable": false,
        "editable": false,
        "id": "09c3ac4c"
      },
      "id": "8ab3a387"
    },
    {
      "cell_type": "markdown",
      "source": "*Ответ:* Человеский фактор при заполнении данных или выгрузке, ошибки программного обеспечения при загрузке и выгрузке, отсутсвие данных по некоторым категориям в принципе",
      "metadata": {
        "deletable": false,
        "id": "9da2ceda"
      },
      "id": "f7975483"
    },
    {
      "cell_type": "markdown",
      "source": "#### 3.6 Объясните, почему заполнить пропуски медианным значением — лучшее решение для количественных переменных.",
      "metadata": {
        "deletable": false,
        "editable": false,
        "id": "7b0487d6"
      },
      "id": "40543ed4"
    },
    {
      "cell_type": "markdown",
      "source": "*Ответ:* Аномально большие или малые значения могут исказить конечный результат, если брать среднее занчение ряда, поэтому применяют медиану",
      "metadata": {
        "deletable": false,
        "id": "7ecf2b8e"
      },
      "id": "4844f633"
    },
    {
      "cell_type": "markdown",
      "source": "### Шаг 4: общий вывод.",
      "metadata": {
        "deletable": false,
        "editable": false,
        "id": "6db5255a"
      },
      "id": "c7faa244"
    },
    {
      "cell_type": "markdown",
      "source": "В работе был расчитан общий процент должников по разным категориям заемщиков. Полученные значения позволяют оценить есть ли аномальные значения количества просрочек в зависимость от категории.\nКак уже говорилось выше, для категорий с малым количеством заемщиков полученный результат не является надежным.\nТакже можно рассмотреть не только простой результат в виде получени процента просроченных платежей, но и найти коэффиценты корреляции между различными видами переменных.\nПри нахождении корреляции влиния дохода на выплаты в срок реузьтаты расчетов могли быть искажены тем, что некоторые данные были получены путем отыскания медианного значения. ",
      "metadata": {
        "deletable": false,
        "id": "bad65432"
      },
      "id": "8e4f3265"
    }
  ]
}